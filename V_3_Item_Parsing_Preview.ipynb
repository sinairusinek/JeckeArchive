{
  "cells": [
    {
      "cell_type": "markdown",
      "id": "setup-environment",
      "metadata": {
        "id": "setup-environment"
      },
      "source": [
        "# Data Processing and Parsing Notebook\n",
        "\n",
        "Welcome to the Data Processing and Parsing Notebook! This notebook is designed to help you parse and process collection descriptions using OpenAI's GPT-4 model. You'll be able to:\n",
        "\n",
        "- Select specific columns from your dataset.\n",
        "- Use AI to parse descriptions into general and specific item descriptions.\n",
        "- Track progress with visual progress bars.\n",
        "- Save your progress and resume processing later.\n",
        "- Edit and review the parsed data interactively.\n",
        "- Export the final results.\n",
        "\n"
      ]
    },
    {
      "cell_type": "markdown",
      "id": "install-libraries",
      "metadata": {
        "id": "install-libraries"
      },
      "source": [
        "## Step 1: Setup Environment\n",
        "\n",
        "First, we need to install the necessary libraries."
      ]
    },
    {
      "cell_type": "code",
      "execution_count": null,
      "id": "install-pip-libraries",
      "metadata": {
        "colab": {
          "base_uri": "https://localhost:8080/"
        },
        "id": "install-pip-libraries",
        "outputId": "c2c1d5d1-39fe-4c56-af40-f82626186c77"
      },
      "outputs": [
        {
          "output_type": "stream",
          "name": "stdout",
          "text": [
            "Requirement already satisfied: pandas in /usr/local/lib/python3.10/dist-packages (2.2.2)\n",
            "Requirement already satisfied: openai==0.28 in /usr/local/lib/python3.10/dist-packages (0.28.0)\n",
            "Requirement already satisfied: ipywidgets in /usr/local/lib/python3.10/dist-packages (7.7.1)\n",
            "Requirement already satisfied: tqdm in /usr/local/lib/python3.10/dist-packages (4.66.6)\n",
            "Requirement already satisfied: requests>=2.20 in /usr/local/lib/python3.10/dist-packages (from openai==0.28) (2.32.3)\n",
            "Requirement already satisfied: aiohttp in /usr/local/lib/python3.10/dist-packages (from openai==0.28) (3.11.2)\n",
            "Requirement already satisfied: numpy>=1.22.4 in /usr/local/lib/python3.10/dist-packages (from pandas) (1.26.4)\n",
            "Requirement already satisfied: python-dateutil>=2.8.2 in /usr/local/lib/python3.10/dist-packages (from pandas) (2.8.2)\n",
            "Requirement already satisfied: pytz>=2020.1 in /usr/local/lib/python3.10/dist-packages (from pandas) (2024.2)\n",
            "Requirement already satisfied: tzdata>=2022.7 in /usr/local/lib/python3.10/dist-packages (from pandas) (2024.2)\n",
            "Requirement already satisfied: ipykernel>=4.5.1 in /usr/local/lib/python3.10/dist-packages (from ipywidgets) (5.5.6)\n",
            "Requirement already satisfied: ipython-genutils~=0.2.0 in /usr/local/lib/python3.10/dist-packages (from ipywidgets) (0.2.0)\n",
            "Requirement already satisfied: traitlets>=4.3.1 in /usr/local/lib/python3.10/dist-packages (from ipywidgets) (5.7.1)\n",
            "Requirement already satisfied: widgetsnbextension~=3.6.0 in /usr/local/lib/python3.10/dist-packages (from ipywidgets) (3.6.10)\n",
            "Requirement already satisfied: ipython>=4.0.0 in /usr/local/lib/python3.10/dist-packages (from ipywidgets) (7.34.0)\n",
            "Requirement already satisfied: jupyterlab-widgets>=1.0.0 in /usr/local/lib/python3.10/dist-packages (from ipywidgets) (3.0.13)\n",
            "Requirement already satisfied: jupyter-client in /usr/local/lib/python3.10/dist-packages (from ipykernel>=4.5.1->ipywidgets) (6.1.12)\n",
            "Requirement already satisfied: tornado>=4.2 in /usr/local/lib/python3.10/dist-packages (from ipykernel>=4.5.1->ipywidgets) (6.3.3)\n",
            "Requirement already satisfied: setuptools>=18.5 in /usr/local/lib/python3.10/dist-packages (from ipython>=4.0.0->ipywidgets) (75.1.0)\n",
            "Requirement already satisfied: jedi>=0.16 in /usr/local/lib/python3.10/dist-packages (from ipython>=4.0.0->ipywidgets) (0.19.2)\n",
            "Requirement already satisfied: decorator in /usr/local/lib/python3.10/dist-packages (from ipython>=4.0.0->ipywidgets) (4.4.2)\n",
            "Requirement already satisfied: pickleshare in /usr/local/lib/python3.10/dist-packages (from ipython>=4.0.0->ipywidgets) (0.7.5)\n",
            "Requirement already satisfied: prompt-toolkit!=3.0.0,!=3.0.1,<3.1.0,>=2.0.0 in /usr/local/lib/python3.10/dist-packages (from ipython>=4.0.0->ipywidgets) (3.0.48)\n",
            "Requirement already satisfied: pygments in /usr/local/lib/python3.10/dist-packages (from ipython>=4.0.0->ipywidgets) (2.18.0)\n",
            "Requirement already satisfied: backcall in /usr/local/lib/python3.10/dist-packages (from ipython>=4.0.0->ipywidgets) (0.2.0)\n",
            "Requirement already satisfied: matplotlib-inline in /usr/local/lib/python3.10/dist-packages (from ipython>=4.0.0->ipywidgets) (0.1.7)\n",
            "Requirement already satisfied: pexpect>4.3 in /usr/local/lib/python3.10/dist-packages (from ipython>=4.0.0->ipywidgets) (4.9.0)\n",
            "Requirement already satisfied: six>=1.5 in /usr/local/lib/python3.10/dist-packages (from python-dateutil>=2.8.2->pandas) (1.16.0)\n",
            "Requirement already satisfied: charset-normalizer<4,>=2 in /usr/local/lib/python3.10/dist-packages (from requests>=2.20->openai==0.28) (3.4.0)\n",
            "Requirement already satisfied: idna<4,>=2.5 in /usr/local/lib/python3.10/dist-packages (from requests>=2.20->openai==0.28) (3.10)\n",
            "Requirement already satisfied: urllib3<3,>=1.21.1 in /usr/local/lib/python3.10/dist-packages (from requests>=2.20->openai==0.28) (2.2.3)\n",
            "Requirement already satisfied: certifi>=2017.4.17 in /usr/local/lib/python3.10/dist-packages (from requests>=2.20->openai==0.28) (2024.8.30)\n",
            "Requirement already satisfied: notebook>=4.4.1 in /usr/local/lib/python3.10/dist-packages (from widgetsnbextension~=3.6.0->ipywidgets) (6.5.5)\n",
            "Requirement already satisfied: aiohappyeyeballs>=2.3.0 in /usr/local/lib/python3.10/dist-packages (from aiohttp->openai==0.28) (2.4.3)\n",
            "Requirement already satisfied: aiosignal>=1.1.2 in /usr/local/lib/python3.10/dist-packages (from aiohttp->openai==0.28) (1.3.1)\n",
            "Requirement already satisfied: attrs>=17.3.0 in /usr/local/lib/python3.10/dist-packages (from aiohttp->openai==0.28) (24.2.0)\n",
            "Requirement already satisfied: frozenlist>=1.1.1 in /usr/local/lib/python3.10/dist-packages (from aiohttp->openai==0.28) (1.5.0)\n",
            "Requirement already satisfied: multidict<7.0,>=4.5 in /usr/local/lib/python3.10/dist-packages (from aiohttp->openai==0.28) (6.1.0)\n",
            "Requirement already satisfied: propcache>=0.2.0 in /usr/local/lib/python3.10/dist-packages (from aiohttp->openai==0.28) (0.2.0)\n",
            "Requirement already satisfied: yarl<2.0,>=1.17.0 in /usr/local/lib/python3.10/dist-packages (from aiohttp->openai==0.28) (1.17.2)\n",
            "Requirement already satisfied: async-timeout<6.0,>=4.0 in /usr/local/lib/python3.10/dist-packages (from aiohttp->openai==0.28) (4.0.3)\n",
            "Requirement already satisfied: parso<0.9.0,>=0.8.4 in /usr/local/lib/python3.10/dist-packages (from jedi>=0.16->ipython>=4.0.0->ipywidgets) (0.8.4)\n",
            "Requirement already satisfied: typing-extensions>=4.1.0 in /usr/local/lib/python3.10/dist-packages (from multidict<7.0,>=4.5->aiohttp->openai==0.28) (4.12.2)\n",
            "Requirement already satisfied: jinja2 in /usr/local/lib/python3.10/dist-packages (from notebook>=4.4.1->widgetsnbextension~=3.6.0->ipywidgets) (3.1.4)\n",
            "Requirement already satisfied: pyzmq<25,>=17 in /usr/local/lib/python3.10/dist-packages (from notebook>=4.4.1->widgetsnbextension~=3.6.0->ipywidgets) (24.0.1)\n",
            "Requirement already satisfied: argon2-cffi in /usr/local/lib/python3.10/dist-packages (from notebook>=4.4.1->widgetsnbextension~=3.6.0->ipywidgets) (23.1.0)\n",
            "Requirement already satisfied: jupyter-core>=4.6.1 in /usr/local/lib/python3.10/dist-packages (from notebook>=4.4.1->widgetsnbextension~=3.6.0->ipywidgets) (5.7.2)\n",
            "Requirement already satisfied: nbformat in /usr/local/lib/python3.10/dist-packages (from notebook>=4.4.1->widgetsnbextension~=3.6.0->ipywidgets) (5.10.4)\n",
            "Requirement already satisfied: nbconvert>=5 in /usr/local/lib/python3.10/dist-packages (from notebook>=4.4.1->widgetsnbextension~=3.6.0->ipywidgets) (7.16.4)\n",
            "Requirement already satisfied: nest-asyncio>=1.5 in /usr/local/lib/python3.10/dist-packages (from notebook>=4.4.1->widgetsnbextension~=3.6.0->ipywidgets) (1.6.0)\n",
            "Requirement already satisfied: Send2Trash>=1.8.0 in /usr/local/lib/python3.10/dist-packages (from notebook>=4.4.1->widgetsnbextension~=3.6.0->ipywidgets) (1.8.3)\n",
            "Requirement already satisfied: terminado>=0.8.3 in /usr/local/lib/python3.10/dist-packages (from notebook>=4.4.1->widgetsnbextension~=3.6.0->ipywidgets) (0.18.1)\n",
            "Requirement already satisfied: prometheus-client in /usr/local/lib/python3.10/dist-packages (from notebook>=4.4.1->widgetsnbextension~=3.6.0->ipywidgets) (0.21.0)\n",
            "Requirement already satisfied: nbclassic>=0.4.7 in /usr/local/lib/python3.10/dist-packages (from notebook>=4.4.1->widgetsnbextension~=3.6.0->ipywidgets) (1.1.0)\n",
            "Requirement already satisfied: ptyprocess>=0.5 in /usr/local/lib/python3.10/dist-packages (from pexpect>4.3->ipython>=4.0.0->ipywidgets) (0.7.0)\n",
            "Requirement already satisfied: wcwidth in /usr/local/lib/python3.10/dist-packages (from prompt-toolkit!=3.0.0,!=3.0.1,<3.1.0,>=2.0.0->ipython>=4.0.0->ipywidgets) (0.2.13)\n",
            "Requirement already satisfied: platformdirs>=2.5 in /usr/local/lib/python3.10/dist-packages (from jupyter-core>=4.6.1->notebook>=4.4.1->widgetsnbextension~=3.6.0->ipywidgets) (4.3.6)\n",
            "Requirement already satisfied: notebook-shim>=0.2.3 in /usr/local/lib/python3.10/dist-packages (from nbclassic>=0.4.7->notebook>=4.4.1->widgetsnbextension~=3.6.0->ipywidgets) (0.2.4)\n",
            "Requirement already satisfied: beautifulsoup4 in /usr/local/lib/python3.10/dist-packages (from nbconvert>=5->notebook>=4.4.1->widgetsnbextension~=3.6.0->ipywidgets) (4.12.3)\n",
            "Requirement already satisfied: bleach!=5.0.0 in /usr/local/lib/python3.10/dist-packages (from nbconvert>=5->notebook>=4.4.1->widgetsnbextension~=3.6.0->ipywidgets) (6.2.0)\n",
            "Requirement already satisfied: defusedxml in /usr/local/lib/python3.10/dist-packages (from nbconvert>=5->notebook>=4.4.1->widgetsnbextension~=3.6.0->ipywidgets) (0.7.1)\n",
            "Requirement already satisfied: jupyterlab-pygments in /usr/local/lib/python3.10/dist-packages (from nbconvert>=5->notebook>=4.4.1->widgetsnbextension~=3.6.0->ipywidgets) (0.3.0)\n",
            "Requirement already satisfied: markupsafe>=2.0 in /usr/local/lib/python3.10/dist-packages (from nbconvert>=5->notebook>=4.4.1->widgetsnbextension~=3.6.0->ipywidgets) (3.0.2)\n",
            "Requirement already satisfied: mistune<4,>=2.0.3 in /usr/local/lib/python3.10/dist-packages (from nbconvert>=5->notebook>=4.4.1->widgetsnbextension~=3.6.0->ipywidgets) (3.0.2)\n",
            "Requirement already satisfied: nbclient>=0.5.0 in /usr/local/lib/python3.10/dist-packages (from nbconvert>=5->notebook>=4.4.1->widgetsnbextension~=3.6.0->ipywidgets) (0.10.0)\n",
            "Requirement already satisfied: packaging in /usr/local/lib/python3.10/dist-packages (from nbconvert>=5->notebook>=4.4.1->widgetsnbextension~=3.6.0->ipywidgets) (24.2)\n",
            "Requirement already satisfied: pandocfilters>=1.4.1 in /usr/local/lib/python3.10/dist-packages (from nbconvert>=5->notebook>=4.4.1->widgetsnbextension~=3.6.0->ipywidgets) (1.5.1)\n",
            "Requirement already satisfied: tinycss2 in /usr/local/lib/python3.10/dist-packages (from nbconvert>=5->notebook>=4.4.1->widgetsnbextension~=3.6.0->ipywidgets) (1.4.0)\n",
            "Requirement already satisfied: fastjsonschema>=2.15 in /usr/local/lib/python3.10/dist-packages (from nbformat->notebook>=4.4.1->widgetsnbextension~=3.6.0->ipywidgets) (2.20.0)\n",
            "Requirement already satisfied: jsonschema>=2.6 in /usr/local/lib/python3.10/dist-packages (from nbformat->notebook>=4.4.1->widgetsnbextension~=3.6.0->ipywidgets) (4.23.0)\n",
            "Requirement already satisfied: argon2-cffi-bindings in /usr/local/lib/python3.10/dist-packages (from argon2-cffi->notebook>=4.4.1->widgetsnbextension~=3.6.0->ipywidgets) (21.2.0)\n",
            "Requirement already satisfied: webencodings in /usr/local/lib/python3.10/dist-packages (from bleach!=5.0.0->nbconvert>=5->notebook>=4.4.1->widgetsnbextension~=3.6.0->ipywidgets) (0.5.1)\n",
            "Requirement already satisfied: jsonschema-specifications>=2023.03.6 in /usr/local/lib/python3.10/dist-packages (from jsonschema>=2.6->nbformat->notebook>=4.4.1->widgetsnbextension~=3.6.0->ipywidgets) (2024.10.1)\n",
            "Requirement already satisfied: referencing>=0.28.4 in /usr/local/lib/python3.10/dist-packages (from jsonschema>=2.6->nbformat->notebook>=4.4.1->widgetsnbextension~=3.6.0->ipywidgets) (0.35.1)\n",
            "Requirement already satisfied: rpds-py>=0.7.1 in /usr/local/lib/python3.10/dist-packages (from jsonschema>=2.6->nbformat->notebook>=4.4.1->widgetsnbextension~=3.6.0->ipywidgets) (0.21.0)\n",
            "Requirement already satisfied: jupyter-server<3,>=1.8 in /usr/local/lib/python3.10/dist-packages (from notebook-shim>=0.2.3->nbclassic>=0.4.7->notebook>=4.4.1->widgetsnbextension~=3.6.0->ipywidgets) (1.24.0)\n",
            "Requirement already satisfied: cffi>=1.0.1 in /usr/local/lib/python3.10/dist-packages (from argon2-cffi-bindings->argon2-cffi->notebook>=4.4.1->widgetsnbextension~=3.6.0->ipywidgets) (1.17.1)\n",
            "Requirement already satisfied: soupsieve>1.2 in /usr/local/lib/python3.10/dist-packages (from beautifulsoup4->nbconvert>=5->notebook>=4.4.1->widgetsnbextension~=3.6.0->ipywidgets) (2.6)\n",
            "Requirement already satisfied: pycparser in /usr/local/lib/python3.10/dist-packages (from cffi>=1.0.1->argon2-cffi-bindings->argon2-cffi->notebook>=4.4.1->widgetsnbextension~=3.6.0->ipywidgets) (2.22)\n",
            "Requirement already satisfied: anyio<4,>=3.1.0 in /usr/local/lib/python3.10/dist-packages (from jupyter-server<3,>=1.8->notebook-shim>=0.2.3->nbclassic>=0.4.7->notebook>=4.4.1->widgetsnbextension~=3.6.0->ipywidgets) (3.7.1)\n",
            "Requirement already satisfied: websocket-client in /usr/local/lib/python3.10/dist-packages (from jupyter-server<3,>=1.8->notebook-shim>=0.2.3->nbclassic>=0.4.7->notebook>=4.4.1->widgetsnbextension~=3.6.0->ipywidgets) (1.8.0)\n",
            "Requirement already satisfied: sniffio>=1.1 in /usr/local/lib/python3.10/dist-packages (from anyio<4,>=3.1.0->jupyter-server<3,>=1.8->notebook-shim>=0.2.3->nbclassic>=0.4.7->notebook>=4.4.1->widgetsnbextension~=3.6.0->ipywidgets) (1.3.1)\n",
            "Requirement already satisfied: exceptiongroup in /usr/local/lib/python3.10/dist-packages (from anyio<4,>=3.1.0->jupyter-server<3,>=1.8->notebook-shim>=0.2.3->nbclassic>=0.4.7->notebook>=4.4.1->widgetsnbextension~=3.6.0->ipywidgets) (1.2.2)\n"
          ]
        }
      ],
      "source": [
        "!pip install pandas openai==0.28 ipywidgets tqdm"
      ]
    },
    {
      "cell_type": "markdown",
      "id": "import-libraries",
      "metadata": {
        "id": "import-libraries"
      },
      "source": [
        "## Step 2: Import Necessary Libraries\n",
        "\n",
        "We will import all the libraries required for data processing, API interaction, and creating interactive widgets."
      ]
    },
    {
      "cell_type": "code",
      "execution_count": null,
      "id": "import-libraries-code",
      "metadata": {
        "id": "import-libraries-code"
      },
      "outputs": [],
      "source": [
        "import pandas as pd\n",
        "import openai\n",
        "import json\n",
        "import ipywidgets as widgets\n",
        "from IPython.display import display, clear_output, HTML\n",
        "from google.colab import files, userdata\n",
        "import uuid\n",
        "import os\n",
        "import time\n",
        "from tqdm import tqdm\n",
        "from getpass import getpass\n"
      ]
    },
    {
      "cell_type": "markdown",
      "id": "load-dataset",
      "metadata": {
        "id": "load-dataset"
      },
      "source": [
        "## Step 3: Load Your Dataset\n",
        "\n",
        "Please upload your Excel file containing the collection descriptions. Make sure the file is in the same directory or provide the correct file path."
      ]
    },
    {
      "cell_type": "code",
      "execution_count": null,
      "id": "load-dataset-code",
      "metadata": {
        "id": "load-dataset-code",
        "colab": {
          "base_uri": "https://localhost:8080/"
        },
        "outputId": "f2a898bd-4a17-4fee-9bd8-371d9ed1df3a"
      },
      "outputs": [
        {
          "output_type": "stream",
          "name": "stdout",
          "text": [
            "Column names: ['093$c סימול פרויקט (מעודכן)', 'issues, comments (by the AGSJI team)', 'adlib', 'Update (name, date)', '351$c רמת תיאור', 'ParentId', '245$a10 כותרת', 'German Summary (AI translation)', 'English Summary (AI translation)', 'תקציר מקור - חלק 1', 'תקציר מקור - חלק 2', '260$c תאריך מנורמל', '500$a הערה גלויה למשתמש - תפן', '590$a הערה חסויה (לא גלויה למשתמש)', '500$a מילות מפתח נושאים', '500$a מספר עמודים', 'IE PID Delete, not for Alma', 'Cyra:', 'Hebrew General Description']\n"
          ]
        }
      ],
      "source": [
        "# If you need to upload the file from your local machine\n",
        "# uploaded = files.upload()\n",
        "\n",
        "# Specify the file path to your Excel file\n",
        "file_path = '/content/filtered_merged_google_sheet.xlsx'  # Change this to your file's path\n",
        "\n",
        "# Read the Excel file\n",
        "df = pd.read_excel(file_path)\n",
        "\n",
        "# Strip leading/trailing spaces from column names\n",
        "df.columns = df.columns.str.strip()\n",
        "\n",
        "# Display the actual column names\n",
        "print(\"Column names:\", df.columns.tolist())"
      ]
    },
    {
      "cell_type": "markdown",
      "id": "select-description-columns",
      "metadata": {
        "id": "select-description-columns"
      },
      "source": [
        "## Step 4: Select Description Columns\n",
        "\n",
        "Choose the columns that contain the collection descriptions. You can select multiple columns if the descriptions are spread across them."
      ]
    },
    {
      "cell_type": "code",
      "execution_count": null,
      "id": "select-description-columns-code",
      "metadata": {
        "id": "select-description-columns-code",
        "colab": {
          "base_uri": "https://localhost:8080/",
          "height": 178,
          "referenced_widgets": [
            "a3653832c3a7492092de540dc243c594",
            "840e3587b3ab403592490a1620a9f028",
            "33f972c22f3046efa6e5d79457d93ea9",
            "bd72e265a4d347a1987ab9ad5f5a1b0f",
            "6977ea41ca7f4f0aab18799ad69265eb",
            "d80f4c61e4294e2e94a3fde10f8f5569",
            "9b13274fa028407f9dfb2d20f3ad400f",
            "96d88a46b1204ec4bc4c305491af41b9"
          ]
        },
        "outputId": "ff7bc3ac-a485-4523-a686-0308ff9e8a9a"
      },
      "outputs": [
        {
          "output_type": "stream",
          "name": "stdout",
          "text": [
            "Please select the description columns:\n"
          ]
        },
        {
          "output_type": "display_data",
          "data": {
            "text/plain": [
              "SelectMultiple(description='Description Columns', options=('093$c סימול פרויקט (מעודכן)', 'issues, comments (b…"
            ],
            "application/vnd.jupyter.widget-view+json": {
              "version_major": 2,
              "version_minor": 0,
              "model_id": "a3653832c3a7492092de540dc243c594"
            }
          },
          "metadata": {}
        },
        {
          "output_type": "display_data",
          "data": {
            "text/plain": [
              "Button(button_style='success', description='Confirm Description Columns', icon='check', style=ButtonStyle())"
            ],
            "application/vnd.jupyter.widget-view+json": {
              "version_major": 2,
              "version_minor": 0,
              "model_id": "bd72e265a4d347a1987ab9ad5f5a1b0f"
            }
          },
          "metadata": {}
        },
        {
          "output_type": "display_data",
          "data": {
            "text/plain": [
              "Output()"
            ],
            "application/vnd.jupyter.widget-view+json": {
              "version_major": 2,
              "version_minor": 0,
              "model_id": "9b13274fa028407f9dfb2d20f3ad400f"
            }
          },
          "metadata": {}
        }
      ],
      "source": [
        "# Identify all column names\n",
        "column_options = df.columns.tolist()\n",
        "\n",
        "# Create multi-select widget for description columns\n",
        "description_selector = widgets.SelectMultiple(\n",
        "    options=column_options,\n",
        "    value=[],\n",
        "    description='Description Columns',\n",
        "    disabled=False\n",
        ")\n",
        "print(\"Please select the description columns:\")\n",
        "display(description_selector)\n",
        "\n",
        "# Create a button to confirm the selection\n",
        "confirm_desc_button = widgets.Button(\n",
        "    description='Confirm Description Columns',\n",
        "    button_style='success',\n",
        "    icon='check'\n",
        ")\n",
        "display(confirm_desc_button)\n",
        "\n",
        "# Create an output widget to capture the selection\n",
        "desc_selection_output = widgets.Output()\n",
        "\n",
        "def on_confirm_desc_button_clicked(b):\n",
        "    with desc_selection_output:\n",
        "        clear_output()\n",
        "        global description_columns\n",
        "        description_columns = list(description_selector.value)\n",
        "        if not description_columns:\n",
        "            print(\"Please select at least one description column.\")\n",
        "        else:\n",
        "            print(f\"Selected description columns: {description_columns}\")\n",
        "            # Proceed to the next step\n",
        "            confirm_desc_button.disabled = True  # Disable the button to prevent multiple clicks\n",
        "            # Now you can proceed to select the collection ID column\n",
        "\n",
        "confirm_desc_button.on_click(on_confirm_desc_button_clicked)\n",
        "display(desc_selection_output)"
      ]
    },
    {
      "cell_type": "code",
      "execution_count": null,
      "id": "wait-for-description-selection",
      "metadata": {
        "id": "wait-for-description-selection"
      },
      "outputs": [],
      "source": [
        "# Wait for user to confirm selection\n",
        "while confirm_desc_button.disabled == False:\n",
        "    time.sleep(1)"
      ]
    },
    {
      "cell_type": "markdown",
      "id": "select-collection-id",
      "metadata": {
        "id": "select-collection-id"
      },
      "source": [
        "## Step 5: Select Collection ID Column\n",
        "\n",
        "Choose the column that uniquely identifies each collection (e.g., Collection ID)."
      ]
    },
    {
      "cell_type": "code",
      "execution_count": null,
      "id": "select-collection-id-code",
      "metadata": {
        "id": "select-collection-id-code",
        "colab": {
          "base_uri": "https://localhost:8080/",
          "height": 116,
          "referenced_widgets": [
            "c2eb9538e6d24b81aa11fba1d6f6a6e6",
            "c62867992aa849cf87bef44aec084c0c",
            "0e7202c743094ab78dc433aef4b30a2b",
            "863d6d0a4cf4407bbfb5acf521af7847",
            "a6b3bdef43f44953ab777f67105b7770",
            "d884f0afc2ee4f16aea6cddb162e6916",
            "4e4370b50c584234a2b947d51f8482f3",
            "b592abe97114449c9c9710844ab490f2"
          ]
        },
        "outputId": "a81e7ef3-fea9-4b59-8286-280748afa1a9"
      },
      "outputs": [
        {
          "output_type": "stream",
          "name": "stdout",
          "text": [
            "Please select the collection ID column:\n"
          ]
        },
        {
          "output_type": "display_data",
          "data": {
            "text/plain": [
              "Dropdown(description='Collection ID Column:', options=('093$c סימול פרויקט (מעודכן)', 'issues, comments (by th…"
            ],
            "application/vnd.jupyter.widget-view+json": {
              "version_major": 2,
              "version_minor": 0,
              "model_id": "c2eb9538e6d24b81aa11fba1d6f6a6e6"
            }
          },
          "metadata": {}
        },
        {
          "output_type": "display_data",
          "data": {
            "text/plain": [
              "Button(button_style='success', description='Confirm Collection ID Column', icon='check', style=ButtonStyle())"
            ],
            "application/vnd.jupyter.widget-view+json": {
              "version_major": 2,
              "version_minor": 0,
              "model_id": "863d6d0a4cf4407bbfb5acf521af7847"
            }
          },
          "metadata": {}
        },
        {
          "output_type": "display_data",
          "data": {
            "text/plain": [
              "Output()"
            ],
            "application/vnd.jupyter.widget-view+json": {
              "version_major": 2,
              "version_minor": 0,
              "model_id": "4e4370b50c584234a2b947d51f8482f3"
            }
          },
          "metadata": {}
        }
      ],
      "source": [
        "# Create dropdown widget for Collection ID column\n",
        "collection_id_selector = widgets.Dropdown(\n",
        "    options=column_options,\n",
        "    description='Collection ID Column:',\n",
        "    disabled=False\n",
        ")\n",
        "print(\"Please select the collection ID column:\")\n",
        "display(collection_id_selector)\n",
        "\n",
        "# Create a button to confirm the selection\n",
        "confirm_id_button = widgets.Button(\n",
        "    description='Confirm Collection ID Column',\n",
        "    button_style='success',\n",
        "    icon='check'\n",
        ")\n",
        "display(confirm_id_button)\n",
        "\n",
        "# Create an output widget to capture the selection\n",
        "id_selection_output = widgets.Output()\n",
        "\n",
        "def on_confirm_id_button_clicked(b):\n",
        "    with id_selection_output:\n",
        "        clear_output()\n",
        "        global collection_id_column\n",
        "        collection_id_column = collection_id_selector.value\n",
        "        if not collection_id_column:\n",
        "            print(\"Please select a collection ID column.\")\n",
        "        else:\n",
        "            print(f\"Selected collection ID column: {collection_id_column}\")\n",
        "            confirm_id_button.disabled = True  # Disable the button to prevent multiple clicks\n",
        "            # Now you can proceed with the rest of the code\n",
        "\n",
        "confirm_id_button.on_click(on_confirm_id_button_clicked)\n",
        "display(id_selection_output)"
      ]
    },
    {
      "cell_type": "code",
      "execution_count": null,
      "id": "wait-for-collection-id-selection",
      "metadata": {
        "id": "wait-for-collection-id-selection"
      },
      "outputs": [],
      "source": [
        "# Wait for user to confirm selection\n",
        "while confirm_id_button.disabled == False:\n",
        "    time.sleep(1)"
      ]
    },
    {
      "cell_type": "markdown",
      "id": "prepare-dataframe",
      "metadata": {
        "id": "prepare-dataframe"
      },
      "source": [
        "## Step 6: Prepare the DataFrame\n",
        "\n",
        "Now, we'll combine the selected description columns and ensure the collection ID column is valid."
      ]
    },
    {
      "cell_type": "code",
      "execution_count": null,
      "id": "prepare-dataframe-code",
      "metadata": {
        "id": "prepare-dataframe-code"
      },
      "outputs": [],
      "source": [
        "# Retrieve the selected column names\n",
        "description_columns = list(description_selector.value)\n",
        "collection_id_column = collection_id_selector.value\n",
        "\n",
        "# Ensure that 'collection_id_column' is in df.columns\n",
        "if collection_id_column not in df.columns:\n",
        "    raise KeyError(f\"Selected collection ID column '{collection_id_column}' not found in DataFrame columns.\")\n",
        "\n",
        "# Check if description columns are selected\n",
        "if not description_columns:\n",
        "    raise ValueError(\"Please select at least one description column.\")\n",
        "else:\n",
        "    # Create 'full_description' by joining the selected columns with a space\n",
        "    df['full_description'] = df[description_columns].astype(str).agg(' '.join, axis=1)"
      ]
    },
    {
      "cell_type": "markdown",
      "id": "generate-item-ids",
      "metadata": {
        "id": "generate-item-ids"
      },
      "source": [
        "## Step 7: Generate Unique Item IDs\n",
        "\n",
        "We need to generate unique IDs for each item to ensure they can be individually identified."
      ]
    },
    {
      "cell_type": "code",
      "execution_count": null,
      "id": "generate-item-ids-code",
      "metadata": {
        "id": "generate-item-ids-code"
      },
      "outputs": [],
      "source": [
        "def generate_item_ids(collection_id, existing_ids):\n",
        "    \"\"\"\n",
        "    Generate a unique item ID by appending a suffix to the collection ID.\n",
        "\n",
        "    Parameters:\n",
        "    - collection_id (str): The base collection ID.\n",
        "    - existing_ids (list): List of existing item IDs to ensure uniqueness.\n",
        "\n",
        "    Returns:\n",
        "    - str: A unique item ID.\n",
        "    \"\"\"\n",
        "    suffix = 1\n",
        "    while True:\n",
        "        new_id = f\"{collection_id}-R{str(suffix).zfill(4)}\"\n",
        "        if new_id not in existing_ids:\n",
        "            return new_id\n",
        "        suffix += 1"
      ]
    },
    {
      "cell_type": "markdown",
      "id": "setup-openai-api-key",
      "metadata": {
        "id": "setup-openai-api-key"
      },
      "source": [
        "## Step 8: Set Up OpenAI API Key\n",
        "\n",
        "We'll use OpenAI's GPT-4 model to parse the descriptions. Please enter your OpenAI API key when prompted."
      ]
    },
    {
      "cell_type": "code",
      "execution_count": null,
      "id": "setup-openai-api-key-code",
      "metadata": {
        "id": "setup-openai-api-key-code"
      },
      "outputs": [],
      "source": [
        "\n",
        "\n",
        "# A. Set Up OpenAI API Key\n",
        "openai.api_key = userdata.get('openai_api_key')"
      ]
    },
    {
      "cell_type": "markdown",
      "id": "define-parse-description",
      "metadata": {
        "id": "define-parse-description"
      },
      "source": [
        "## Step 9: Define the Description Parsing Function\n",
        "\n",
        "This function interacts with the OpenAI API to parse each collection description into general and specific item descriptions."
      ]
    },
    {
      "cell_type": "code",
      "execution_count": null,
      "id": "define-parse-description-code",
      "metadata": {
        "id": "define-parse-description-code"
      },
      "outputs": [],
      "source": [
        "def parse_description(description):\n",
        "    \"\"\"\n",
        "    Use OpenAI's GPT-4 model to parse a collection description into individual items,\n",
        "    classifying each as general or specific.\n",
        "\n",
        "    Parameters:\n",
        "    - description (str): The concatenated collection description.\n",
        "\n",
        "    Returns:\n",
        "    - list: A list of parsed item descriptions with classification.\n",
        "    \"\"\"\n",
        "    prompt = f\"\"\"\n",
        "Please split the following collection description into individual entries.\n",
        "\n",
        "For each entry, classify it as either a **general description** of the collection or a **specific item description**.\n",
        "\n",
        "**Definitions:**\n",
        "\n",
        "- **General Description**: Provides overall information about the collection as a whole. This includes background on the collection's origin, history, scope, themes, or biographical information about individuals related to the collection. It is broad and not tied to a specific physical item.\n",
        "\n",
        "- **Specific Item Description**: Refers to a particular physical item within the collection, such as a document, photograph, letter, or artifact. It describes an individual item that can be cataloged separately.\n",
        "\n",
        "**Guidelines:**\n",
        "\n",
        "- **General Descriptions** often include:\n",
        "  - Biographical information about individuals or families.\n",
        "  - Historical context or background.\n",
        "  - Summaries of the types of materials included in the collection.\n",
        "  - Descriptions that apply to the collection as a whole.\n",
        "\n",
        "- **Specific Item Descriptions** often include:\n",
        "  - Details about individual items, such as titles, dates, creators, and specific content.\n",
        "  - Physical descriptions of items.\n",
        "  - Information that allows the item to be uniquely identified.\n",
        "\n",
        "- Exclude any text that is not a description of an item or the collection (e.g., administrative notes, processing information, or irrelevant content).\n",
        "\n",
        "- Include only meaningful and relevant descriptions.\n",
        "\n",
        "- Group together all information relating to the same entry.\n",
        "\n",
        "For each entry, provide:\n",
        "\n",
        "- \"item_description\": The text of the description.\n",
        "\n",
        "- \"is_general\": True if it's a general description of the collection, False if it's a specific item description.\n",
        "\n",
        "Return the result as a JSON **array** (even if there's only one entry) of objects.\n",
        "\n",
        "**Examples:**\n",
        "\n",
        "**Example 1:**\n",
        "\n",
        "**Input Description:**\n",
        "\n",
        "\"לאוני לנדסברג לבית פרנק, ילידת 1900 בויזבדן, פעילה בארגון הנשים היהודיות בויזבדן Wiesbaden. השנים נישאו ב-1921 בויזבדן, התגרשו ב-1946 בארץ; חזרו לחיות יחד, לא נישאו מחדש. אחרי הגירושין לאוני חזרה להשתמש בשם משפחת אביה; פרנק.\"\n",
        "\n",
        "**Parsed Output:**\n",
        "\n",
        "[\n",
        "    {{\n",
        "        \"item_description\": \"לאוני לנדסברג לבית פרנק, ילידת 1900 בויזבדן, פעילה בארגון הנשים היהודיות בויזבדן Wiesbaden. השנים נישאו ב-1921 בויזבדן, התגרשו ב-1946 בארץ; חזרו לחיות יחד, לא נישאו מחדש. אחרי הגירושין לאוני חזרה להשתמש בשם משפחת אביה; פרנק.\",\n",
        "        \"is_general\": true\n",
        "    }}\n",
        "]\n",
        "\n",
        "**Explanation:** This is biographical information about a person related to the collection, thus it's a general description.\n",
        "\n",
        "**Example 2:**\n",
        "\n",
        "**Input Description:**\n",
        "\n",
        "\"קטע מעיתון עברי 'הבקר', 1941, על אזכרה לשמריה לוין, 6 שנים לפטירתו.\"\n",
        "\n",
        "**Parsed Output:**\n",
        "\n",
        "[\n",
        "    {{\n",
        "        \"item_description\": \"קטע מעיתון עברי 'הבקר', 1941, על אזכרה לשמריה לוין, 6 שנים לפטירתו.\",\n",
        "        \"is_general\": false\n",
        "    }}\n",
        "]\n",
        "\n",
        "**Explanation:** This refers to a specific newspaper clipping, a tangible item, so it's a specific item description.\n",
        "\n",
        "**Example 3:**\n",
        "\n",
        "**Input Description:**\n",
        "\n",
        "\"אוסף תצלומים של בני המשפחה מגרמניה לפני מלחמת העולם השנייה.\"\n",
        "\n",
        "**Parsed Output:**\n",
        "\n",
        "[\n",
        "    {{\n",
        "        \"item_description\": \"אוסף תצלומים של בני המשפחה מגרמניה לפני מלחמת העולם השנייה.\",\n",
        "        \"is_general\": true\n",
        "    }}\n",
        "]\n",
        "\n",
        "**Explanation:** This is a general description of a group of photographs, not an individual item.\n",
        "\n",
        "**Example 4:**\n",
        "\n",
        "**Input Description:**\n",
        "\n",
        "\"תצלום של לאוני לנדסברג בבית משפחתה בויזבדן, 1920.\"\n",
        "\n",
        "**Parsed Output:**\n",
        "\n",
        "[\n",
        "    {{\n",
        "        \"item_description\": \"תצלום של לאוני לנדסברג בבית משפחתה בויזבדן, 1920.\",\n",
        "        \"is_general\": false\n",
        "    }}\n",
        "]\n",
        "\n",
        "**Explanation:** This describes a specific photograph, making it a specific item description.\n",
        "\n",
        "Now, please parse the following description accordingly.\n",
        "\n",
        "**Description:**\n",
        "{description}\n",
        "\"\"\"\n",
        "\n",
        "    try:\n",
        "        response = openai.ChatCompletion.create(\n",
        "            model=\"gpt-4o\",\n",
        "            messages=[{\n",
        "                \"role\": \"user\",\n",
        "                \"content\": prompt\n",
        "            }],\n",
        "            temperature=0.3,  # Low temperature for deterministic output\n",
        "            max_tokens=1500  # Adjust as needed\n",
        "        )\n",
        "\n",
        "        assistant_reply = response['choices'][0]['message']['content'].strip()\n",
        "\n",
        "        # Remove any markdown code fences if present\n",
        "        if assistant_reply.startswith(\"```json\"):\n",
        "            assistant_reply = assistant_reply.replace(\"```json\", \"\").replace(\"```\", \"\").strip()\n",
        "        elif assistant_reply.startswith(\"```\"):\n",
        "            assistant_reply = assistant_reply.replace(\"```\", \"\").strip()\n",
        "\n",
        "        # Parse the JSON response\n",
        "        parsed_items = json.loads(assistant_reply)\n",
        "\n",
        "        # Ensure that parsed_items is a list\n",
        "        if isinstance(parsed_items, dict):\n",
        "            parsed_items = [parsed_items]\n",
        "\n",
        "        # Validate parsed_items\n",
        "        valid_items = []\n",
        "        for item in parsed_items:\n",
        "            if isinstance(item, dict) and 'item_description' in item and 'is_general' in item:\n",
        "                valid_items.append(item)\n",
        "            else:\n",
        "                print(f\"Invalid item format: {item}\")\n",
        "\n",
        "        return valid_items\n",
        "\n",
        "    except Exception as e:\n",
        "        print(f\"Error parsing description: {e}\")\n",
        "        return []"
      ]
    },
    {
      "cell_type": "markdown",
      "id": "enable-test-mode",
      "metadata": {
        "id": "enable-test-mode"
      },
      "source": [
        "## Step 10: Enable Test Mode (Optional)\n",
        "\n",
        "If you'd like to test the parsing on a small subset of data, enable Test Mode to process only the first 10 rows."
      ]
    },
    {
      "cell_type": "code",
      "execution_count": null,
      "id": "enable-test-mode-code",
      "metadata": {
        "id": "enable-test-mode-code",
        "colab": {
          "base_uri": "https://localhost:8080/",
          "height": 102,
          "referenced_widgets": [
            "1974239258004ec5988fa9829db13686",
            "639904edba93405995fbfc42af1314c3",
            "1a64bf753c3e47ad8f9cb34f6fe415fa"
          ]
        },
        "outputId": "f2d86ebf-4317-49d8-fbfe-bff4fbb42dac"
      },
      "outputs": [
        {
          "output_type": "stream",
          "name": "stdout",
          "text": [
            "Enable Test Mode if you want to process only the first 10 rows.\n"
          ]
        },
        {
          "output_type": "display_data",
          "data": {
            "text/plain": [
              "Checkbox(value=False, description='Test Mode (Process 10 Rows)')"
            ],
            "application/vnd.jupyter.widget-view+json": {
              "version_major": 2,
              "version_minor": 0,
              "model_id": "1974239258004ec5988fa9829db13686"
            }
          },
          "metadata": {}
        },
        {
          "name": "stdout",
          "output_type": "stream",
          "text": [
            "Press Enter after setting Test Mode...\n"
          ]
        },
        {
          "output_type": "execute_result",
          "data": {
            "text/plain": [
              "''"
            ],
            "application/vnd.google.colaboratory.intrinsic+json": {
              "type": "string"
            }
          },
          "metadata": {},
          "execution_count": 18
        }
      ],
      "source": [
        "# Define a checkbox for Test Mode\n",
        "test_mode_checkbox = widgets.Checkbox(\n",
        "    value=False,\n",
        "    description='Test Mode (Process 10 Rows)',\n",
        "    disabled=False\n",
        ")\n",
        "print(\"Enable Test Mode if you want to process only the first 10 rows.\")\n",
        "display(test_mode_checkbox)\n",
        "\n",
        "# Wait for user input\n",
        "input(\"Press Enter after setting Test Mode...\")"
      ]
    },
    {
      "cell_type": "markdown",
      "id": "process-data",
      "metadata": {
        "id": "process-data"
      },
      "source": [
        "## Step 11: Process the Data with Progress Tracking\n",
        "\n",
        "We'll process the data in batches, track the progress, and save checkpoints to resume later if needed."
      ]
    },
    {
      "cell_type": "code",
      "execution_count": null,
      "id": "process-data-code",
      "metadata": {
        "id": "process-data-code",
        "colab": {
          "base_uri": "https://localhost:8080/"
        },
        "outputId": "3b6eb0c5-7baf-4f99-bf51-b89d2ff0c047"
      },
      "outputs": [
        {
          "output_type": "stream",
          "name": "stderr",
          "text": [
            "\rProcessing Batches:   0%|          | 0/36 [00:00<?, ?it/s]"
          ]
        },
        {
          "output_type": "stream",
          "name": "stdout",
          "text": [
            "Error parsing description: Expecting property name enclosed in double quotes: line 107 column 186 (char 4388)\n",
            "Error parsing description: Unterminated string starting at: line 99 column 29 (char 4124)\n",
            "Error parsing description: Extra data: line 13 column 1 (char 727)\n",
            "Error parsing description: Unterminated string starting at: line 87 column 29 (char 4132)\n"
          ]
        },
        {
          "output_type": "stream",
          "name": "stderr",
          "text": [
            "\rProcessing Batches:   3%|▎         | 1/36 [01:57<1:08:20, 117.16s/it]"
          ]
        },
        {
          "output_type": "stream",
          "name": "stdout",
          "text": [
            "Error parsing description: Unterminated string starting at: line 71 column 29 (char 4166)\n",
            "Error parsing description: Unterminated string starting at: line 84 column 9 (char 4460)\n",
            "Error parsing description: Unterminated string starting at: line 107 column 29 (char 4368)\n",
            "Error parsing description: Extra data: line 9 column 1 (char 343)\n",
            "Error parsing description: Expecting value: line 143 column 28 (char 4650)\n"
          ]
        },
        {
          "output_type": "stream",
          "name": "stderr",
          "text": [
            "\rProcessing Batches:   6%|▌         | 2/36 [03:23<56:12, 99.20s/it]   "
          ]
        },
        {
          "output_type": "stream",
          "name": "stdout",
          "text": [
            "Error parsing description: Extra data: line 21 column 1 (char 685)\n",
            "Error parsing description: Unterminated string starting at: line 111 column 29 (char 4444)\n",
            "Error parsing description: Unterminated string starting at: line 135 column 9 (char 4575)\n"
          ]
        },
        {
          "output_type": "stream",
          "name": "stderr",
          "text": [
            "\rProcessing Batches:   8%|▊         | 3/36 [04:32<46:52, 85.23s/it]"
          ]
        },
        {
          "output_type": "stream",
          "name": "stdout",
          "text": [
            "Error parsing description: Unterminated string starting at: line 107 column 29 (char 4304)\n",
            "Error parsing description: Expecting property name enclosed in double quotes: line 70 column 6 (char 4175)\n",
            "Error parsing description: Expecting value: line 1 column 1 (char 0)\n",
            "Error parsing description: Unterminated string starting at: line 87 column 29 (char 4096)\n",
            "Error parsing description: Unterminated string starting at: line 63 column 29 (char 4079)\n",
            "Error parsing description: Unterminated string starting at: line 79 column 29 (char 4013)\n",
            "Error parsing description: Unterminated string starting at: line 63 column 29 (char 3860)\n",
            "Error parsing description: Unterminated string starting at: line 55 column 29 (char 3870)\n"
          ]
        },
        {
          "output_type": "stream",
          "name": "stderr",
          "text": [
            "\rProcessing Batches:  11%|█         | 4/36 [07:32<1:05:26, 122.71s/it]"
          ]
        },
        {
          "output_type": "stream",
          "name": "stdout",
          "text": [
            "Error parsing description: Unterminated string starting at: line 79 column 9 (char 4135)\n",
            "Error parsing description: Unterminated string starting at: line 83 column 29 (char 4165)\n",
            "Error parsing description: Extra data: line 9 column 1 (char 571)\n",
            "Error parsing description: Unterminated string starting at: line 131 column 29 (char 4634)\n"
          ]
        },
        {
          "output_type": "stream",
          "name": "stderr",
          "text": [
            "\rProcessing Batches:  14%|█▍        | 5/36 [08:34<52:04, 100.79s/it]  "
          ]
        },
        {
          "output_type": "stream",
          "name": "stdout",
          "text": [
            "Error parsing description: Extra data: line 9 column 1 (char 752)\n"
          ]
        },
        {
          "output_type": "stream",
          "name": "stderr",
          "text": [
            "\rProcessing Batches:  17%|█▋        | 6/36 [09:11<39:38, 79.27s/it] "
          ]
        },
        {
          "output_type": "stream",
          "name": "stdout",
          "text": [
            "Error parsing description: Expecting ',' delimiter: line 96 column 28 (char 4394)\n",
            "Error parsing description: Unterminated string starting at: line 39 column 29 (char 3754)\n",
            "Error parsing description: Unterminated string starting at: line 55 column 29 (char 4117)\n",
            "Error parsing description: Unterminated string starting at: line 47 column 29 (char 3823)\n",
            "Error parsing description: Unterminated string starting at: line 103 column 29 (char 4346)\n",
            "Error parsing description: Expecting value: line 1 column 1 (char 0)\n",
            "Error parsing description: Expecting ',' delimiter: line 76 column 28 (char 4299)\n"
          ]
        },
        {
          "output_type": "stream",
          "name": "stderr",
          "text": [
            "\rProcessing Batches:  19%|█▉        | 7/36 [11:23<46:36, 96.45s/it]"
          ]
        },
        {
          "output_type": "stream",
          "name": "stdout",
          "text": [
            "Error parsing description: Extra data: line 9 column 1 (char 538)\n",
            "Error parsing description: Extra data: line 9 column 1 (char 339)\n",
            "Error parsing description: Expecting property name enclosed in double quotes: line 255 column 47 (char 5771)\n",
            "Error parsing description: Unterminated string starting at: line 76 column 9 (char 4252)\n",
            "Error parsing description: Unterminated string starting at: line 115 column 29 (char 4207)\n"
          ]
        },
        {
          "output_type": "stream",
          "name": "stderr",
          "text": [
            "\rProcessing Batches:  22%|██▏       | 8/36 [12:35<41:21, 88.62s/it]"
          ]
        },
        {
          "output_type": "stream",
          "name": "stdout",
          "text": [
            "Error parsing description: Extra data: line 4 column 1 (char 5)\n",
            "Error parsing description: Extra data: line 9 column 1 (char 313)\n",
            "Error parsing description: Unterminated string starting at: line 83 column 29 (char 4342)\n",
            "Error parsing description: Unterminated string starting at: line 115 column 29 (char 4409)\n",
            "Error parsing description: Unterminated string starting at: line 87 column 29 (char 3941)\n",
            "Error parsing description: Expecting value: line 1 column 1 (char 0)\n"
          ]
        },
        {
          "output_type": "stream",
          "name": "stderr",
          "text": [
            "\rProcessing Batches:  25%|██▌       | 9/36 [14:06<40:09, 89.23s/it]"
          ]
        },
        {
          "output_type": "stream",
          "name": "stdout",
          "text": [
            "Error parsing description: Expecting value: line 1 column 1 (char 0)\n",
            "Error parsing description: Expecting value: line 1 column 1 (char 0)\n",
            "Error parsing description: Expecting value: line 1 column 1 (char 0)\n"
          ]
        },
        {
          "output_type": "stream",
          "name": "stderr",
          "text": [
            "\rProcessing Batches:  28%|██▊       | 10/36 [14:11<27:28, 63.41s/it]"
          ]
        },
        {
          "output_type": "stream",
          "name": "stdout",
          "text": [
            "Error parsing description: Extra data: line 9 column 1 (char 684)\n"
          ]
        },
        {
          "output_type": "stream",
          "name": "stderr",
          "text": [
            "\rProcessing Batches:  31%|███       | 11/36 [14:19<19:20, 46.42s/it]"
          ]
        },
        {
          "output_type": "stream",
          "name": "stdout",
          "text": [
            "Error parsing description: Expecting value: line 1 column 1 (char 0)\n",
            "Error parsing description: Unterminated string starting at: line 39 column 29 (char 3421)\n",
            "Error parsing description: Unterminated string starting at: line 55 column 29 (char 3978)\n",
            "Error parsing description: Expecting value: line 1 column 1 (char 0)\n",
            "Error parsing description: Expecting value: line 1 column 1 (char 0)\n"
          ]
        },
        {
          "output_type": "stream",
          "name": "stderr",
          "text": [
            "\rProcessing Batches:  33%|███▎      | 12/36 [15:09<18:59, 47.49s/it]"
          ]
        },
        {
          "output_type": "stream",
          "name": "stdout",
          "text": [
            "Error parsing description: Unterminated string starting at: line 51 column 29 (char 3747)\n",
            "Error parsing description: Expecting value: line 1 column 1 (char 0)\n"
          ]
        },
        {
          "output_type": "stream",
          "name": "stderr",
          "text": [
            "\rProcessing Batches:  36%|███▌      | 13/36 [15:35<15:38, 40.82s/it]"
          ]
        },
        {
          "output_type": "stream",
          "name": "stdout",
          "text": [
            "Error parsing description: Expecting value: line 1 column 1 (char 0)\n"
          ]
        },
        {
          "output_type": "stream",
          "name": "stderr",
          "text": [
            "\rProcessing Batches:  39%|███▉      | 14/36 [15:41<11:10, 30.48s/it]"
          ]
        },
        {
          "output_type": "stream",
          "name": "stdout",
          "text": [
            "Error parsing description: Expecting ',' delimiter: line 3 column 38 (char 45)\n",
            "Error parsing description: Extra data: line 13 column 1 (char 341)\n",
            "Error parsing description: Extra data: line 13 column 1 (char 304)\n"
          ]
        },
        {
          "output_type": "stream",
          "name": "stderr",
          "text": [
            "\rProcessing Batches:  42%|████▏     | 15/36 [16:01<09:32, 27.24s/it]"
          ]
        },
        {
          "output_type": "stream",
          "name": "stdout",
          "text": [
            "Error parsing description: Unterminated string starting at: line 83 column 29 (char 4311)\n",
            "Error parsing description: Unterminated string starting at: line 51 column 29 (char 4120)\n",
            "Error parsing description: Unterminated string starting at: line 123 column 29 (char 4726)\n",
            "Error parsing description: Expecting property name enclosed in double quotes: line 103 column 121 (char 4636)\n",
            "Error parsing description: Expecting value: line 1 column 1 (char 0)\n",
            "Error parsing description: Unterminated string starting at: line 111 column 9 (char 4392)\n",
            "Error parsing description: Extra data: line 13 column 1 (char 560)\n"
          ]
        },
        {
          "output_type": "stream",
          "name": "stderr",
          "text": [
            "\rProcessing Batches:  44%|████▍     | 16/36 [18:02<18:29, 55.48s/it]"
          ]
        },
        {
          "output_type": "stream",
          "name": "stdout",
          "text": [
            "Error parsing description: Unterminated string starting at: line 27 column 29 (char 3343)\n",
            "Error parsing description: Expecting property name enclosed in double quotes: line 78 column 6 (char 4524)\n",
            "Error parsing description: Unterminated string starting at: line 87 column 29 (char 4291)\n",
            "Error parsing description: Expecting ',' delimiter: line 108 column 28 (char 4192)\n",
            "Error parsing description: Unterminated string starting at: line 83 column 29 (char 4276)\n"
          ]
        },
        {
          "output_type": "stream",
          "name": "stderr",
          "text": [
            "\rProcessing Batches:  47%|████▋     | 17/36 [20:44<27:42, 87.51s/it]"
          ]
        },
        {
          "output_type": "stream",
          "name": "stdout",
          "text": [
            "Error parsing description: Unterminated string starting at: line 95 column 29 (char 4481)\n",
            "Error parsing description: Unterminated string starting at: line 43 column 29 (char 3993)\n",
            "Error parsing description: Unterminated string starting at: line 108 column 9 (char 4523)\n",
            "Error parsing description: Expecting property name enclosed in double quotes: line 95 column 86 (char 4371)\n",
            "Error parsing description: Unterminated string starting at: line 87 column 29 (char 4204)\n",
            "Error parsing description: Unterminated string starting at: line 59 column 29 (char 4127)\n",
            "Error parsing description: Unterminated string starting at: line 95 column 29 (char 4040)\n",
            "Error parsing description: Unterminated string starting at: line 87 column 29 (char 4186)\n",
            "Error parsing description: Unterminated string starting at: line 99 column 29 (char 4301)\n",
            "Error parsing description: Extra data: line 9 column 1 (char 451)\n"
          ]
        },
        {
          "output_type": "stream",
          "name": "stderr",
          "text": [
            "\rProcessing Batches:  50%|█████     | 18/36 [24:01<36:04, 120.26s/it]"
          ]
        },
        {
          "output_type": "stream",
          "name": "stdout",
          "text": [
            "Error parsing description: Extra data: line 9 column 1 (char 694)\n",
            "Error parsing description: Unterminated string starting at: line 63 column 29 (char 3792)\n",
            "Error parsing description: Unterminated string starting at: line 87 column 29 (char 4216)\n",
            "Error parsing description: Expecting value: line 91 column 28 (char 4344)\n",
            "Error parsing description: Extra data: line 9 column 1 (char 341)\n",
            "Error parsing description: Extra data: line 9 column 1 (char 477)\n"
          ]
        },
        {
          "output_type": "stream",
          "name": "stderr",
          "text": [
            "\rProcessing Batches:  53%|█████▎    | 19/36 [25:37<32:05, 113.26s/it]"
          ]
        },
        {
          "output_type": "stream",
          "name": "stdout",
          "text": [
            "Error parsing description: Extra data: line 9 column 1 (char 248)\n",
            "Error parsing description: Unterminated string starting at: line 67 column 29 (char 4188)\n",
            "Error parsing description: Extra data: line 13 column 1 (char 416)\n",
            "Error parsing description: Extra data: line 13 column 1 (char 493)\n"
          ]
        },
        {
          "output_type": "stream",
          "name": "stderr",
          "text": [
            "\rProcessing Batches:  56%|█████▌    | 20/36 [26:19<24:25, 91.59s/it] "
          ]
        },
        {
          "output_type": "stream",
          "name": "stdout",
          "text": [
            "Error parsing description: Extra data: line 9 column 1 (char 412)\n",
            "Error parsing description: Expecting property name enclosed in double quotes: line 98 column 6 (char 4198)\n",
            "Error parsing description: Unterminated string starting at: line 75 column 29 (char 4231)\n",
            "Error parsing description: Expecting value: line 1 column 1 (char 0)\n",
            "Error parsing description: Unterminated string starting at: line 71 column 29 (char 4014)\n",
            "Error parsing description: Unterminated string starting at: line 63 column 29 (char 4111)\n",
            "Error parsing description: Unterminated string starting at: line 79 column 9 (char 4086)\n",
            "Error parsing description: Unterminated string starting at: line 63 column 29 (char 3897)\n"
          ]
        },
        {
          "output_type": "stream",
          "name": "stderr",
          "text": [
            "\rProcessing Batches:  58%|█████▊    | 21/36 [28:59<28:05, 112.36s/it]"
          ]
        },
        {
          "output_type": "stream",
          "name": "stdout",
          "text": [
            "Error parsing description: Expecting property name enclosed in double quotes: line 110 column 6 (char 4316)\n",
            "Error parsing description: Unterminated string starting at: line 75 column 29 (char 3807)\n",
            "Error parsing description: Unterminated string starting at: line 63 column 29 (char 4059)\n",
            "Error parsing description: Unterminated string starting at: line 47 column 29 (char 3966)\n",
            "Error parsing description: Unterminated string starting at: line 79 column 29 (char 4163)\n",
            "Error parsing description: Unterminated string starting at: line 51 column 29 (char 3891)\n",
            "Error parsing description: Unterminated string starting at: line 67 column 29 (char 4046)\n",
            "Error parsing description: Unterminated string starting at: line 59 column 29 (char 4004)\n",
            "Error parsing description: Unterminated string starting at: line 56 column 9 (char 4043)\n",
            "Error parsing description: Unterminated string starting at: line 83 column 9 (char 4028)\n"
          ]
        },
        {
          "output_type": "stream",
          "name": "stderr",
          "text": [
            "\rProcessing Batches:  61%|██████    | 22/36 [32:24<32:39, 139.98s/it]"
          ]
        },
        {
          "output_type": "stream",
          "name": "stdout",
          "text": [
            "Error parsing description: Unterminated string starting at: line 71 column 29 (char 3832)\n",
            "Error parsing description: Unterminated string starting at: line 115 column 29 (char 4389)\n",
            "Error parsing description: Unterminated string starting at: line 95 column 29 (char 4408)\n",
            "Error parsing description: Unterminated string starting at: line 107 column 29 (char 4408)\n",
            "Error parsing description: Unterminated string starting at: line 63 column 29 (char 3897)\n",
            "Error parsing description: Unterminated string starting at: line 59 column 29 (char 3971)\n",
            "Error parsing description: Extra data: line 9 column 1 (char 332)\n"
          ]
        },
        {
          "output_type": "stream",
          "name": "stderr",
          "text": [
            "\rProcessing Batches:  64%|██████▍   | 23/36 [34:08<28:01, 129.34s/it]"
          ]
        },
        {
          "output_type": "stream",
          "name": "stdout",
          "text": [
            "Error parsing description: Unterminated string starting at: line 59 column 29 (char 3883)\n",
            "Error parsing description: Unterminated string starting at: line 67 column 9 (char 3965)\n",
            "Error parsing description: Unterminated string starting at: line 47 column 29 (char 3831)\n",
            "Error parsing description: Unterminated string starting at: line 83 column 29 (char 4142)\n"
          ]
        },
        {
          "output_type": "stream",
          "name": "stderr",
          "text": [
            "\rProcessing Batches:  67%|██████▋   | 24/36 [35:34<23:16, 116.38s/it]"
          ]
        },
        {
          "output_type": "stream",
          "name": "stdout",
          "text": [
            "Error parsing description: Extra data: line 13 column 1 (char 412)\n",
            "Error parsing description: Unterminated string starting at: line 75 column 29 (char 3986)\n"
          ]
        },
        {
          "output_type": "stream",
          "name": "stderr",
          "text": [
            "\rProcessing Batches:  69%|██████▉   | 25/36 [36:11<16:56, 92.43s/it] "
          ]
        },
        {
          "output_type": "stream",
          "name": "stdout",
          "text": [
            "Error parsing description: Extra data: line 13 column 1 (char 375)\n",
            "Error parsing description: Unterminated string starting at: line 91 column 29 (char 3988)\n",
            "Error parsing description: Expecting ',' delimiter: line 76 column 28 (char 4150)\n",
            "Error parsing description: Unterminated string starting at: line 83 column 29 (char 4167)\n",
            "Error parsing description: Extra data: line 9 column 1 (char 370)\n"
          ]
        },
        {
          "output_type": "stream",
          "name": "stderr",
          "text": [
            "\rProcessing Batches:  72%|███████▏  | 26/36 [37:19<14:09, 84.99s/it]"
          ]
        },
        {
          "output_type": "stream",
          "name": "stdout",
          "text": [
            "Error parsing description: Unterminated string starting at: line 51 column 29 (char 3928)\n",
            "Error parsing description: Unterminated string starting at: line 71 column 29 (char 3828)\n",
            "Error parsing description: Unterminated string starting at: line 63 column 29 (char 4103)\n",
            "Error parsing description: Extra data: line 13 column 1 (char 878)\n",
            "Error parsing description: Unterminated string starting at: line 51 column 29 (char 3949)\n"
          ]
        },
        {
          "output_type": "stream",
          "name": "stderr",
          "text": [
            "\rProcessing Batches:  75%|███████▌  | 27/36 [38:55<13:14, 88.33s/it]"
          ]
        },
        {
          "output_type": "stream",
          "name": "stdout",
          "text": [
            "Error parsing description: Unterminated string starting at: line 95 column 29 (char 4155)\n",
            "Error parsing description: Unterminated string starting at: line 63 column 29 (char 4067)\n",
            "Error parsing description: Unterminated string starting at: line 63 column 29 (char 4051)\n"
          ]
        },
        {
          "output_type": "stream",
          "name": "stderr",
          "text": [
            "\rProcessing Batches:  78%|███████▊  | 28/36 [40:19<11:36, 87.08s/it]"
          ]
        },
        {
          "output_type": "stream",
          "name": "stdout",
          "text": [
            "Error parsing description: Extra data: line 9 column 1 (char 343)\n",
            "Error parsing description: Extra data: line 9 column 1 (char 357)\n",
            "Error parsing description: Unterminated string starting at: line 63 column 29 (char 3766)\n",
            "Error parsing description: Expecting ',' delimiter: line 28 column 28 (char 3923)\n",
            "Error parsing description: Unterminated string starting at: line 75 column 29 (char 3879)\n"
          ]
        },
        {
          "output_type": "stream",
          "name": "stderr",
          "text": [
            "\rProcessing Batches:  81%|████████  | 29/36 [41:48<10:14, 87.84s/it]"
          ]
        },
        {
          "output_type": "stream",
          "name": "stdout",
          "text": [
            "Error parsing description: Unterminated string starting at: line 60 column 9 (char 4055)\n",
            "Error parsing description: Unterminated string starting at: line 47 column 29 (char 3936)\n",
            "Error parsing description: Unterminated string starting at: line 35 column 29 (char 3644)\n",
            "Error parsing description: Unterminated string starting at: line 23 column 29 (char 3275)\n",
            "Error parsing description: Unterminated string starting at: line 35 column 29 (char 2715)\n",
            "Error parsing description: Unterminated string starting at: line 31 column 29 (char 3452)\n"
          ]
        },
        {
          "output_type": "stream",
          "name": "stderr",
          "text": [
            "\rProcessing Batches:  83%|████████▎ | 30/36 [43:56<09:57, 99.63s/it]"
          ]
        },
        {
          "output_type": "stream",
          "name": "stdout",
          "text": [
            "Error parsing description: Unterminated string starting at: line 51 column 29 (char 3857)\n",
            "Error parsing description: Unterminated string starting at: line 43 column 29 (char 3993)\n",
            "Error parsing description: Unterminated string starting at: line 71 column 29 (char 4026)\n",
            "Error parsing description: Unterminated string starting at: line 35 column 29 (char 3306)\n",
            "Error parsing description: Extra data: line 13 column 1 (char 853)\n",
            "Error parsing description: Unterminated string starting at: line 79 column 29 (char 3643)\n",
            "Error parsing description: Unterminated string starting at: line 55 column 29 (char 3804)\n"
          ]
        },
        {
          "output_type": "stream",
          "name": "stderr",
          "text": [
            "\rProcessing Batches:  86%|████████▌ | 31/36 [46:00<08:55, 107.15s/it]"
          ]
        },
        {
          "output_type": "stream",
          "name": "stdout",
          "text": [
            "Error parsing description: Unterminated string starting at: line 15 column 29 (char 2992)\n",
            "Error parsing description: Unterminated string starting at: line 48 column 9 (char 4020)\n",
            "Error parsing description: Unterminated string starting at: line 83 column 29 (char 4092)\n",
            "Error parsing description: Unterminated string starting at: line 59 column 29 (char 4119)\n",
            "Error parsing description: Unterminated string starting at: line 59 column 29 (char 4050)\n",
            "Error parsing description: Unterminated string starting at: line 71 column 29 (char 3981)\n",
            "Error parsing description: Unterminated string starting at: line 83 column 29 (char 4236)\n",
            "Error parsing description: Unterminated string starting at: line 123 column 29 (char 4286)\n"
          ]
        },
        {
          "output_type": "stream",
          "name": "stderr",
          "text": [
            "\rProcessing Batches:  89%|████████▉ | 32/36 [49:05<08:41, 130.46s/it]"
          ]
        },
        {
          "output_type": "stream",
          "name": "stdout",
          "text": [
            "Error parsing description: Unterminated string starting at: line 95 column 29 (char 4296)\n",
            "Error parsing description: Unterminated string starting at: line 71 column 29 (char 4285)\n",
            "Error parsing description: Unterminated string starting at: line 103 column 29 (char 4417)\n",
            "Error parsing description: Unterminated string starting at: line 107 column 9 (char 4604)\n",
            "Error parsing description: Unterminated string starting at: line 119 column 29 (char 4504)\n",
            "Error parsing description: Unterminated string starting at: line 71 column 29 (char 3878)\n",
            "Error parsing description: Unterminated string starting at: line 27 column 29 (char 4122)\n"
          ]
        },
        {
          "output_type": "stream",
          "name": "stderr",
          "text": [
            "\rProcessing Batches:  92%|█████████▏| 33/36 [51:29<06:43, 134.39s/it]"
          ]
        },
        {
          "output_type": "stream",
          "name": "stdout",
          "text": [
            "Error parsing description: Unterminated string starting at: line 111 column 29 (char 4372)\n",
            "Error parsing description: Unterminated string starting at: line 99 column 29 (char 4471)\n",
            "Error parsing description: Unterminated string starting at: line 99 column 29 (char 4370)\n",
            "Error parsing description: Unterminated string starting at: line 91 column 29 (char 4251)\n",
            "Error parsing description: Unterminated string starting at: line 40 column 9 (char 3906)\n",
            "Error parsing description: Expecting property name enclosed in double quotes: line 55 column 245 (char 3988)\n",
            "Error parsing description: Unterminated string starting at: line 59 column 29 (char 3928)\n",
            "Error parsing description: Unterminated string starting at: line 83 column 29 (char 4279)\n"
          ]
        },
        {
          "output_type": "stream",
          "name": "stderr",
          "text": [
            "\rProcessing Batches:  94%|█████████▍| 34/36 [54:27<04:55, 147.56s/it]"
          ]
        },
        {
          "output_type": "stream",
          "name": "stdout",
          "text": [
            "Error parsing description: Expecting value: line 119 column 28 (char 4669)\n",
            "Error parsing description: Unterminated string starting at: line 139 column 29 (char 4798)\n",
            "Error parsing description: Unterminated string starting at: line 103 column 29 (char 4530)\n",
            "Error parsing description: Unterminated string starting at: line 91 column 29 (char 4315)\n",
            "Error parsing description: Unterminated string starting at: line 103 column 29 (char 4197)\n"
          ]
        },
        {
          "output_type": "stream",
          "name": "stderr",
          "text": [
            "Processing Batches: 100%|██████████| 36/36 [56:00<00:00, 93.36s/it]"
          ]
        },
        {
          "output_type": "stream",
          "name": "stdout",
          "text": [
            "Error parsing description: Extra data: line 9 column 1 (char 436)\n"
          ]
        },
        {
          "output_type": "stream",
          "name": "stderr",
          "text": [
            "\n"
          ]
        }
      ],
      "source": [
        "# Determine the number of rows to process based on Test Mode\n",
        "if test_mode_checkbox.value:\n",
        "    df_to_process = df.head(10)\n",
        "    print(\"Test Mode Enabled: Processing only the first 10 rows.\")\n",
        "else:\n",
        "    df_to_process = df\n",
        "\n",
        "# Convert the DataFrame to a list of rows for batching\n",
        "rows_list = list(df_to_process.iterrows())\n",
        "total_rows = len(rows_list)\n",
        "\n",
        "# Initialize lists and dictionaries to store parsed items and general descriptions\n",
        "parsed_items_list = []\n",
        "general_descriptions = {}\n",
        "processed_indices = set()\n",
        "\n",
        "# Check if there are existing output files for checkpointing\n",
        "parsed_items_file = 'parsed_items_checkpoint.csv'\n",
        "general_descriptions_file = 'general_descriptions_checkpoint.csv'\n",
        "processed_indices_file = 'processed_indices_checkpoint.txt'\n",
        "\n",
        "# Load existing parsed items if available\n",
        "if os.path.exists(parsed_items_file):\n",
        "    parsed_df_existing = pd.read_csv(parsed_items_file)\n",
        "    parsed_items_list = parsed_df_existing.to_dict('records')\n",
        "    print(f\"Loaded existing parsed items from {parsed_items_file}\")\n",
        "else:\n",
        "    parsed_items_list = []\n",
        "\n",
        "# Load existing general descriptions if available\n",
        "if os.path.exists(general_descriptions_file):\n",
        "    general_df_existing = pd.read_csv(general_descriptions_file)\n",
        "    general_descriptions = general_df_existing.set_index(collection_id_column)['general_description'].to_dict()\n",
        "    print(f\"Loaded existing general descriptions from {general_descriptions_file}\")\n",
        "else:\n",
        "    general_descriptions = {}\n",
        "\n",
        "# Load processed indices if available\n",
        "if os.path.exists(processed_indices_file):\n",
        "    with open(processed_indices_file, 'r') as f:\n",
        "        processed_indices = set(int(line.strip()) for line in f)\n",
        "    print(f\"Loaded processed indices from {processed_indices_file}\")\n",
        "else:\n",
        "    processed_indices = set()\n",
        "\n",
        "# Set batch size\n",
        "batch_size = 10  # Adjust the batch size as needed\n",
        "\n",
        "# Iterate through each batch to parse descriptions\n",
        "for start in tqdm(range(0, total_rows, batch_size), desc=\"Processing Batches\"):\n",
        "    end = min(start + batch_size, total_rows)\n",
        "    batch = rows_list[start:end]\n",
        "    batch_indices = [index for index, _ in batch]\n",
        "\n",
        "    for index, row in batch:\n",
        "        if index in processed_indices:\n",
        "            continue  # Skip already processed rows\n",
        "\n",
        "        collection_id = str(row[collection_id_column]).strip()\n",
        "        full_description = str(row['full_description']).strip()\n",
        "\n",
        "        # Parse the description into items with classification\n",
        "        parsed_items = parse_description(full_description)\n",
        "\n",
        "        # Separate general descriptions and specific items\n",
        "        existing_ids = []  # To track existing IDs within the collection\n",
        "        for item in parsed_items:\n",
        "            item_desc = item['item_description']\n",
        "            is_general = item['is_general']\n",
        "\n",
        "            if is_general:\n",
        "                # Store the general description for the collection\n",
        "                if collection_id not in general_descriptions:\n",
        "                    general_descriptions[collection_id] = []\n",
        "                general_descriptions[collection_id].append(item_desc)\n",
        "            else:\n",
        "                # Process specific item descriptions\n",
        "                existing_ids_in_collection = [d['item_id'] for d in parsed_items_list if d[collection_id_column] == collection_id]\n",
        "                unique_id = generate_item_ids(collection_id, existing_ids_in_collection + existing_ids)\n",
        "                existing_ids.append(unique_id)\n",
        "                parsed_items_list.append({\n",
        "                    collection_id_column: collection_id,\n",
        "                    'item_id': unique_id,\n",
        "                    'item_description': item_desc\n",
        "                })\n",
        "\n",
        "        # Add the index to processed_indices\n",
        "        processed_indices.add(index)\n",
        "\n",
        "    # After processing each batch, save the current progress (checkpointing)\n",
        "    # Save parsed items\n",
        "    parsed_df = pd.DataFrame(parsed_items_list)\n",
        "    parsed_df.to_csv(parsed_items_file, index=False)\n",
        "\n",
        "    # Save general descriptions\n",
        "    general_df_list = []\n",
        "    for col_id, descriptions in general_descriptions.items():\n",
        "        general_df_list.append({\n",
        "            collection_id_column: col_id,\n",
        "            'general_description': ' '.join(descriptions)\n",
        "        })\n",
        "    general_df = pd.DataFrame(general_df_list)\n",
        "    general_df.to_csv(general_descriptions_file, index=False)\n",
        "\n",
        "    # Save processed indices\n",
        "    with open(processed_indices_file, 'w') as f:\n",
        "        for idx in processed_indices:\n",
        "            f.write(f\"{idx}\\n\")\n",
        "\n",
        "    # Optional: Pause between batches if needed\n",
        "    # time.sleep(1)  # Adjust or comment out as needed"
      ]
    },
    {
      "cell_type": "markdown",
      "id": "review-parsed-data",
      "metadata": {
        "id": "review-parsed-data"
      },
      "source": [
        "## Step 12: Review Parsed Data\n",
        "\n",
        "Let's take a look at the parsed specific item descriptions and general descriptions."
      ]
    },
    {
      "cell_type": "code",
      "execution_count": null,
      "id": "review-parsed-data-code",
      "metadata": {
        "id": "review-parsed-data-code",
        "colab": {
          "base_uri": "https://localhost:8080/",
          "height": 430
        },
        "outputId": "cdab9607-57e0-4822-c7e1-0713c318c1fc"
      },
      "outputs": [
        {
          "output_type": "stream",
          "name": "stdout",
          "text": [
            "Parsed Specific Item Descriptions:\n"
          ]
        },
        {
          "output_type": "display_data",
          "data": {
            "text/plain": [
              "  093$c סימול פרויקט (מעודכן)                         item_id  \\\n",
              "0    IL-MTFN-001-G-F-0015-004  IL-MTFN-001-G-F-0015-004-R0001   \n",
              "1    IL-MTFN-001-G-F-0030-003  IL-MTFN-001-G-F-0030-003-R0001   \n",
              "2    IL-MTFN-001-G-F-0030-045  IL-MTFN-001-G-F-0030-045-R0001   \n",
              "3    IL-MTFN-001-G-F-0030-045  IL-MTFN-001-G-F-0030-045-R0002   \n",
              "4    IL-MTFN-001-G-F-0030-045  IL-MTFN-001-G-F-0030-045-R0003   \n",
              "\n",
              "                                    item_description  \n",
              "0  דוד הס נסע הרבה לרגל עסקיו, לעיתים הוא כותב על...  \n",
              "1  התיק כולל: ספר/ אלבום המציג תמונות משפחתיות של...  \n",
              "2  26.08.1917-23.05.1918, תרגום של מכתבים (מגרמני...  \n",
              "3  25.05.1918-09.12.1918, תרגום של מכתבים (מגרמני...  \n",
              "4  11.11.1916-12.04.1917, תרגום של מכתבים (מגרמני...  "
            ],
            "text/html": [
              "\n",
              "  <div id=\"df-56e5de64-4b37-473e-9a87-f61b810b1a89\" class=\"colab-df-container\">\n",
              "    <div>\n",
              "<style scoped>\n",
              "    .dataframe tbody tr th:only-of-type {\n",
              "        vertical-align: middle;\n",
              "    }\n",
              "\n",
              "    .dataframe tbody tr th {\n",
              "        vertical-align: top;\n",
              "    }\n",
              "\n",
              "    .dataframe thead th {\n",
              "        text-align: right;\n",
              "    }\n",
              "</style>\n",
              "<table border=\"1\" class=\"dataframe\">\n",
              "  <thead>\n",
              "    <tr style=\"text-align: right;\">\n",
              "      <th></th>\n",
              "      <th>093$c סימול פרויקט (מעודכן)</th>\n",
              "      <th>item_id</th>\n",
              "      <th>item_description</th>\n",
              "    </tr>\n",
              "  </thead>\n",
              "  <tbody>\n",
              "    <tr>\n",
              "      <th>0</th>\n",
              "      <td>IL-MTFN-001-G-F-0015-004</td>\n",
              "      <td>IL-MTFN-001-G-F-0015-004-R0001</td>\n",
              "      <td>דוד הס נסע הרבה לרגל עסקיו, לעיתים הוא כותב על...</td>\n",
              "    </tr>\n",
              "    <tr>\n",
              "      <th>1</th>\n",
              "      <td>IL-MTFN-001-G-F-0030-003</td>\n",
              "      <td>IL-MTFN-001-G-F-0030-003-R0001</td>\n",
              "      <td>התיק כולל: ספר/ אלבום המציג תמונות משפחתיות של...</td>\n",
              "    </tr>\n",
              "    <tr>\n",
              "      <th>2</th>\n",
              "      <td>IL-MTFN-001-G-F-0030-045</td>\n",
              "      <td>IL-MTFN-001-G-F-0030-045-R0001</td>\n",
              "      <td>26.08.1917-23.05.1918, תרגום של מכתבים (מגרמני...</td>\n",
              "    </tr>\n",
              "    <tr>\n",
              "      <th>3</th>\n",
              "      <td>IL-MTFN-001-G-F-0030-045</td>\n",
              "      <td>IL-MTFN-001-G-F-0030-045-R0002</td>\n",
              "      <td>25.05.1918-09.12.1918, תרגום של מכתבים (מגרמני...</td>\n",
              "    </tr>\n",
              "    <tr>\n",
              "      <th>4</th>\n",
              "      <td>IL-MTFN-001-G-F-0030-045</td>\n",
              "      <td>IL-MTFN-001-G-F-0030-045-R0003</td>\n",
              "      <td>11.11.1916-12.04.1917, תרגום של מכתבים (מגרמני...</td>\n",
              "    </tr>\n",
              "  </tbody>\n",
              "</table>\n",
              "</div>\n",
              "    <div class=\"colab-df-buttons\">\n",
              "\n",
              "  <div class=\"colab-df-container\">\n",
              "    <button class=\"colab-df-convert\" onclick=\"convertToInteractive('df-56e5de64-4b37-473e-9a87-f61b810b1a89')\"\n",
              "            title=\"Convert this dataframe to an interactive table.\"\n",
              "            style=\"display:none;\">\n",
              "\n",
              "  <svg xmlns=\"http://www.w3.org/2000/svg\" height=\"24px\" viewBox=\"0 -960 960 960\">\n",
              "    <path d=\"M120-120v-720h720v720H120Zm60-500h600v-160H180v160Zm220 220h160v-160H400v160Zm0 220h160v-160H400v160ZM180-400h160v-160H180v160Zm440 0h160v-160H620v160ZM180-180h160v-160H180v160Zm440 0h160v-160H620v160Z\"/>\n",
              "  </svg>\n",
              "    </button>\n",
              "\n",
              "  <style>\n",
              "    .colab-df-container {\n",
              "      display:flex;\n",
              "      gap: 12px;\n",
              "    }\n",
              "\n",
              "    .colab-df-convert {\n",
              "      background-color: #E8F0FE;\n",
              "      border: none;\n",
              "      border-radius: 50%;\n",
              "      cursor: pointer;\n",
              "      display: none;\n",
              "      fill: #1967D2;\n",
              "      height: 32px;\n",
              "      padding: 0 0 0 0;\n",
              "      width: 32px;\n",
              "    }\n",
              "\n",
              "    .colab-df-convert:hover {\n",
              "      background-color: #E2EBFA;\n",
              "      box-shadow: 0px 1px 2px rgba(60, 64, 67, 0.3), 0px 1px 3px 1px rgba(60, 64, 67, 0.15);\n",
              "      fill: #174EA6;\n",
              "    }\n",
              "\n",
              "    .colab-df-buttons div {\n",
              "      margin-bottom: 4px;\n",
              "    }\n",
              "\n",
              "    [theme=dark] .colab-df-convert {\n",
              "      background-color: #3B4455;\n",
              "      fill: #D2E3FC;\n",
              "    }\n",
              "\n",
              "    [theme=dark] .colab-df-convert:hover {\n",
              "      background-color: #434B5C;\n",
              "      box-shadow: 0px 1px 3px 1px rgba(0, 0, 0, 0.15);\n",
              "      filter: drop-shadow(0px 1px 2px rgba(0, 0, 0, 0.3));\n",
              "      fill: #FFFFFF;\n",
              "    }\n",
              "  </style>\n",
              "\n",
              "    <script>\n",
              "      const buttonEl =\n",
              "        document.querySelector('#df-56e5de64-4b37-473e-9a87-f61b810b1a89 button.colab-df-convert');\n",
              "      buttonEl.style.display =\n",
              "        google.colab.kernel.accessAllowed ? 'block' : 'none';\n",
              "\n",
              "      async function convertToInteractive(key) {\n",
              "        const element = document.querySelector('#df-56e5de64-4b37-473e-9a87-f61b810b1a89');\n",
              "        const dataTable =\n",
              "          await google.colab.kernel.invokeFunction('convertToInteractive',\n",
              "                                                    [key], {});\n",
              "        if (!dataTable) return;\n",
              "\n",
              "        const docLinkHtml = 'Like what you see? Visit the ' +\n",
              "          '<a target=\"_blank\" href=https://colab.research.google.com/notebooks/data_table.ipynb>data table notebook</a>'\n",
              "          + ' to learn more about interactive tables.';\n",
              "        element.innerHTML = '';\n",
              "        dataTable['output_type'] = 'display_data';\n",
              "        await google.colab.output.renderOutput(dataTable, element);\n",
              "        const docLink = document.createElement('div');\n",
              "        docLink.innerHTML = docLinkHtml;\n",
              "        element.appendChild(docLink);\n",
              "      }\n",
              "    </script>\n",
              "  </div>\n",
              "\n",
              "\n",
              "<div id=\"df-5beb7fcf-6912-4af3-a8e3-ef6b01e256c7\">\n",
              "  <button class=\"colab-df-quickchart\" onclick=\"quickchart('df-5beb7fcf-6912-4af3-a8e3-ef6b01e256c7')\"\n",
              "            title=\"Suggest charts\"\n",
              "            style=\"display:none;\">\n",
              "\n",
              "<svg xmlns=\"http://www.w3.org/2000/svg\" height=\"24px\"viewBox=\"0 0 24 24\"\n",
              "     width=\"24px\">\n",
              "    <g>\n",
              "        <path d=\"M19 3H5c-1.1 0-2 .9-2 2v14c0 1.1.9 2 2 2h14c1.1 0 2-.9 2-2V5c0-1.1-.9-2-2-2zM9 17H7v-7h2v7zm4 0h-2V7h2v10zm4 0h-2v-4h2v4z\"/>\n",
              "    </g>\n",
              "</svg>\n",
              "  </button>\n",
              "\n",
              "<style>\n",
              "  .colab-df-quickchart {\n",
              "      --bg-color: #E8F0FE;\n",
              "      --fill-color: #1967D2;\n",
              "      --hover-bg-color: #E2EBFA;\n",
              "      --hover-fill-color: #174EA6;\n",
              "      --disabled-fill-color: #AAA;\n",
              "      --disabled-bg-color: #DDD;\n",
              "  }\n",
              "\n",
              "  [theme=dark] .colab-df-quickchart {\n",
              "      --bg-color: #3B4455;\n",
              "      --fill-color: #D2E3FC;\n",
              "      --hover-bg-color: #434B5C;\n",
              "      --hover-fill-color: #FFFFFF;\n",
              "      --disabled-bg-color: #3B4455;\n",
              "      --disabled-fill-color: #666;\n",
              "  }\n",
              "\n",
              "  .colab-df-quickchart {\n",
              "    background-color: var(--bg-color);\n",
              "    border: none;\n",
              "    border-radius: 50%;\n",
              "    cursor: pointer;\n",
              "    display: none;\n",
              "    fill: var(--fill-color);\n",
              "    height: 32px;\n",
              "    padding: 0;\n",
              "    width: 32px;\n",
              "  }\n",
              "\n",
              "  .colab-df-quickchart:hover {\n",
              "    background-color: var(--hover-bg-color);\n",
              "    box-shadow: 0 1px 2px rgba(60, 64, 67, 0.3), 0 1px 3px 1px rgba(60, 64, 67, 0.15);\n",
              "    fill: var(--button-hover-fill-color);\n",
              "  }\n",
              "\n",
              "  .colab-df-quickchart-complete:disabled,\n",
              "  .colab-df-quickchart-complete:disabled:hover {\n",
              "    background-color: var(--disabled-bg-color);\n",
              "    fill: var(--disabled-fill-color);\n",
              "    box-shadow: none;\n",
              "  }\n",
              "\n",
              "  .colab-df-spinner {\n",
              "    border: 2px solid var(--fill-color);\n",
              "    border-color: transparent;\n",
              "    border-bottom-color: var(--fill-color);\n",
              "    animation:\n",
              "      spin 1s steps(1) infinite;\n",
              "  }\n",
              "\n",
              "  @keyframes spin {\n",
              "    0% {\n",
              "      border-color: transparent;\n",
              "      border-bottom-color: var(--fill-color);\n",
              "      border-left-color: var(--fill-color);\n",
              "    }\n",
              "    20% {\n",
              "      border-color: transparent;\n",
              "      border-left-color: var(--fill-color);\n",
              "      border-top-color: var(--fill-color);\n",
              "    }\n",
              "    30% {\n",
              "      border-color: transparent;\n",
              "      border-left-color: var(--fill-color);\n",
              "      border-top-color: var(--fill-color);\n",
              "      border-right-color: var(--fill-color);\n",
              "    }\n",
              "    40% {\n",
              "      border-color: transparent;\n",
              "      border-right-color: var(--fill-color);\n",
              "      border-top-color: var(--fill-color);\n",
              "    }\n",
              "    60% {\n",
              "      border-color: transparent;\n",
              "      border-right-color: var(--fill-color);\n",
              "    }\n",
              "    80% {\n",
              "      border-color: transparent;\n",
              "      border-right-color: var(--fill-color);\n",
              "      border-bottom-color: var(--fill-color);\n",
              "    }\n",
              "    90% {\n",
              "      border-color: transparent;\n",
              "      border-bottom-color: var(--fill-color);\n",
              "    }\n",
              "  }\n",
              "</style>\n",
              "\n",
              "  <script>\n",
              "    async function quickchart(key) {\n",
              "      const quickchartButtonEl =\n",
              "        document.querySelector('#' + key + ' button');\n",
              "      quickchartButtonEl.disabled = true;  // To prevent multiple clicks.\n",
              "      quickchartButtonEl.classList.add('colab-df-spinner');\n",
              "      try {\n",
              "        const charts = await google.colab.kernel.invokeFunction(\n",
              "            'suggestCharts', [key], {});\n",
              "      } catch (error) {\n",
              "        console.error('Error during call to suggestCharts:', error);\n",
              "      }\n",
              "      quickchartButtonEl.classList.remove('colab-df-spinner');\n",
              "      quickchartButtonEl.classList.add('colab-df-quickchart-complete');\n",
              "    }\n",
              "    (() => {\n",
              "      let quickchartButtonEl =\n",
              "        document.querySelector('#df-5beb7fcf-6912-4af3-a8e3-ef6b01e256c7 button');\n",
              "      quickchartButtonEl.style.display =\n",
              "        google.colab.kernel.accessAllowed ? 'block' : 'none';\n",
              "    })();\n",
              "  </script>\n",
              "</div>\n",
              "\n",
              "    </div>\n",
              "  </div>\n"
            ],
            "application/vnd.google.colaboratory.intrinsic+json": {
              "type": "dataframe",
              "summary": "{\n  \"name\": \"display(general_df\",\n  \"rows\": 5,\n  \"fields\": [\n    {\n      \"column\": \"093$c \\u05e1\\u05d9\\u05de\\u05d5\\u05dc \\u05e4\\u05e8\\u05d5\\u05d9\\u05e7\\u05d8 (\\u05de\\u05e2\\u05d5\\u05d3\\u05db\\u05df)\",\n      \"properties\": {\n        \"dtype\": \"string\",\n        \"num_unique_values\": 3,\n        \"samples\": [\n          \"IL-MTFN-001-G-F-0015-004\",\n          \"IL-MTFN-001-G-F-0030-003\",\n          \"IL-MTFN-001-G-F-0030-045\"\n        ],\n        \"semantic_type\": \"\",\n        \"description\": \"\"\n      }\n    },\n    {\n      \"column\": \"item_id\",\n      \"properties\": {\n        \"dtype\": \"string\",\n        \"num_unique_values\": 5,\n        \"samples\": [\n          \"IL-MTFN-001-G-F-0030-003-R0001\",\n          \"IL-MTFN-001-G-F-0030-045-R0003\",\n          \"IL-MTFN-001-G-F-0030-045-R0001\"\n        ],\n        \"semantic_type\": \"\",\n        \"description\": \"\"\n      }\n    },\n    {\n      \"column\": \"item_description\",\n      \"properties\": {\n        \"dtype\": \"string\",\n        \"num_unique_values\": 5,\n        \"samples\": [\n          \"\\u05d4\\u05ea\\u05d9\\u05e7 \\u05db\\u05d5\\u05dc\\u05dc: \\u05e1\\u05e4\\u05e8/ \\u05d0\\u05dc\\u05d1\\u05d5\\u05dd \\u05d4\\u05de\\u05e6\\u05d9\\u05d2 \\u05ea\\u05de\\u05d5\\u05e0\\u05d5\\u05ea \\u05de\\u05e9\\u05e4\\u05d7\\u05ea\\u05d9\\u05d5\\u05ea \\u05e9\\u05dc \\u05de\\u05e9\\u05e4\\u05d7\\u05ea \\u05d0\\u05e0\\u05d3\\u05e8\\u05d9\\u05d0\\u05e1 \\u05de\\u05d0\\u05d9\\u05d9\\u05e8 \\u05d4\\u05de\\u05d5\\u05e8\\u05d7\\u05d1\\u05ea \\u05dc\\u05d0\\u05d5\\u05e8\\u05da \\u05d4\\u05d3\\u05d5\\u05e8\\u05d5\\u05ea ,\\u05de\\u05de\\u05d7\\u05e6\\u05d9\\u05ea \\u05d4\\u05de\\u05d0\\u05d4 \\u05d4-19 \\u05d5\\u05e2\\u05d3 \\u05d9\\u05de\\u05d9\\u05e0\\u05d5. \\u05d4\\u05ea\\u05de\\u05d5\\u05e0\\u05d5\\u05ea \\u05de\\u05dc\\u05d5\\u05d5\\u05ea \\u05d1\\u05db\\u05ea\\u05d5\\u05d1\\u05d9\\u05d5\\u05ea \\u05d1\\u05e9\\u05e4\\u05d4 \\u05d4\\u05d0\\u05e0\\u05d2\\u05dc\\u05d9\\u05ea.\",\n          \"11.11.1916-12.04.1917, \\u05ea\\u05e8\\u05d2\\u05d5\\u05dd \\u05e9\\u05dc \\u05de\\u05db\\u05ea\\u05d1\\u05d9\\u05dd (\\u05de\\u05d2\\u05e8\\u05de\\u05e0\\u05d9\\u05ea \\u05db\\u05ea\\u05d1 \\u05d9\\u05d3 \\u05dc\\u05d2\\u05e8\\u05de\\u05e0\\u05d9\\u05ea \\u05de\\u05d5\\u05d3\\u05e4\\u05e1\\u05ea) \\u05e9\\u05dc \\u05de\\u05db\\u05ea\\u05d1\\u05d9\\u05dd \\u05d5\\u05d9\\u05d5\\u05de\\u05e0\\u05d9\\u05dd \\u05e9\\u05dc \\u05d0\\u05d5\\u05d8\\u05d5 \\u05de\\u05d0\\u05d9\\u05d9\\u05e8 Unteroffizier Otto Meyer, \\u05e9\\u05de\\u05d5\\u05e0\\u05d4 \\u05e2\\u05e9\\u05e8 \\u05d3\\u05e4\\u05d9\\u05dd.\",\n          \"26.08.1917-23.05.1918, \\u05ea\\u05e8\\u05d2\\u05d5\\u05dd \\u05e9\\u05dc \\u05de\\u05db\\u05ea\\u05d1\\u05d9\\u05dd (\\u05de\\u05d2\\u05e8\\u05de\\u05e0\\u05d9\\u05ea \\u05db\\u05ea\\u05d1 \\u05d9\\u05d3 \\u05dc\\u05d2\\u05e8\\u05de\\u05e0\\u05d9\\u05ea \\u05de\\u05d5\\u05d3\\u05e4\\u05e1\\u05ea) \\u05d5\\u05d9\\u05d5\\u05de\\u05e0\\u05d9\\u05dd \\u05e9\\u05dc \\u05d0\\u05d5\\u05d8\\u05d5 \\u05de\\u05d0\\u05d9\\u05d9\\u05e8 Unteroffizier Otto Meyer, \\u05e2\\u05e9\\u05e8\\u05d9\\u05dd \\u05d5\\u05e9\\u05de\\u05d5\\u05e0\\u05d4 \\u05d3\\u05e4\\u05d9\\u05dd.\"\n        ],\n        \"semantic_type\": \"\",\n        \"description\": \"\"\n      }\n    }\n  ]\n}"
            }
          },
          "metadata": {}
        },
        {
          "output_type": "stream",
          "name": "stdout",
          "text": [
            "Parsed General Descriptions:\n"
          ]
        },
        {
          "output_type": "display_data",
          "data": {
            "text/plain": [
              "  093$c סימול פרויקט (מעודכן)  \\\n",
              "0    IL-MTFN-001-G-F-0007-001   \n",
              "1    IL-MTFN-001-G-F-0009-001   \n",
              "2    IL-MTFN-001-G-F-0009-012   \n",
              "3    IL-MTFN-001-G-F-0009-008   \n",
              "4    IL-MTFN-001-G-F-0015-011   \n",
              "\n",
              "                                 general_description  \n",
              "0  כהן אוסקר 1869-1934; מתוך מכתבו של הנכד, ד\"ר מ...  \n",
              "1  גב' אוה וייס, 1921-2002, העבירה למוזיאון את עז...  \n",
              "2  ההתכתבות בין רנה והלה החלה ב-1911 לאחר שהכירו....  \n",
              "3  גב' תמר זגר קראה עשרות מכתבים שכתב רנה אל הלה;...  \n",
              "4  התיק מכיל כרטיסיות לאיסוף נתונים על בני משפחה,...  "
            ],
            "text/html": [
              "\n",
              "  <div id=\"df-8d2de8a2-ce39-49ed-8678-840f7696fe55\" class=\"colab-df-container\">\n",
              "    <div>\n",
              "<style scoped>\n",
              "    .dataframe tbody tr th:only-of-type {\n",
              "        vertical-align: middle;\n",
              "    }\n",
              "\n",
              "    .dataframe tbody tr th {\n",
              "        vertical-align: top;\n",
              "    }\n",
              "\n",
              "    .dataframe thead th {\n",
              "        text-align: right;\n",
              "    }\n",
              "</style>\n",
              "<table border=\"1\" class=\"dataframe\">\n",
              "  <thead>\n",
              "    <tr style=\"text-align: right;\">\n",
              "      <th></th>\n",
              "      <th>093$c סימול פרויקט (מעודכן)</th>\n",
              "      <th>general_description</th>\n",
              "    </tr>\n",
              "  </thead>\n",
              "  <tbody>\n",
              "    <tr>\n",
              "      <th>0</th>\n",
              "      <td>IL-MTFN-001-G-F-0007-001</td>\n",
              "      <td>כהן אוסקר 1869-1934; מתוך מכתבו של הנכד, ד\"ר מ...</td>\n",
              "    </tr>\n",
              "    <tr>\n",
              "      <th>1</th>\n",
              "      <td>IL-MTFN-001-G-F-0009-001</td>\n",
              "      <td>גב' אוה וייס, 1921-2002, העבירה למוזיאון את עז...</td>\n",
              "    </tr>\n",
              "    <tr>\n",
              "      <th>2</th>\n",
              "      <td>IL-MTFN-001-G-F-0009-012</td>\n",
              "      <td>ההתכתבות בין רנה והלה החלה ב-1911 לאחר שהכירו....</td>\n",
              "    </tr>\n",
              "    <tr>\n",
              "      <th>3</th>\n",
              "      <td>IL-MTFN-001-G-F-0009-008</td>\n",
              "      <td>גב' תמר זגר קראה עשרות מכתבים שכתב רנה אל הלה;...</td>\n",
              "    </tr>\n",
              "    <tr>\n",
              "      <th>4</th>\n",
              "      <td>IL-MTFN-001-G-F-0015-011</td>\n",
              "      <td>התיק מכיל כרטיסיות לאיסוף נתונים על בני משפחה,...</td>\n",
              "    </tr>\n",
              "  </tbody>\n",
              "</table>\n",
              "</div>\n",
              "    <div class=\"colab-df-buttons\">\n",
              "\n",
              "  <div class=\"colab-df-container\">\n",
              "    <button class=\"colab-df-convert\" onclick=\"convertToInteractive('df-8d2de8a2-ce39-49ed-8678-840f7696fe55')\"\n",
              "            title=\"Convert this dataframe to an interactive table.\"\n",
              "            style=\"display:none;\">\n",
              "\n",
              "  <svg xmlns=\"http://www.w3.org/2000/svg\" height=\"24px\" viewBox=\"0 -960 960 960\">\n",
              "    <path d=\"M120-120v-720h720v720H120Zm60-500h600v-160H180v160Zm220 220h160v-160H400v160Zm0 220h160v-160H400v160ZM180-400h160v-160H180v160Zm440 0h160v-160H620v160ZM180-180h160v-160H180v160Zm440 0h160v-160H620v160Z\"/>\n",
              "  </svg>\n",
              "    </button>\n",
              "\n",
              "  <style>\n",
              "    .colab-df-container {\n",
              "      display:flex;\n",
              "      gap: 12px;\n",
              "    }\n",
              "\n",
              "    .colab-df-convert {\n",
              "      background-color: #E8F0FE;\n",
              "      border: none;\n",
              "      border-radius: 50%;\n",
              "      cursor: pointer;\n",
              "      display: none;\n",
              "      fill: #1967D2;\n",
              "      height: 32px;\n",
              "      padding: 0 0 0 0;\n",
              "      width: 32px;\n",
              "    }\n",
              "\n",
              "    .colab-df-convert:hover {\n",
              "      background-color: #E2EBFA;\n",
              "      box-shadow: 0px 1px 2px rgba(60, 64, 67, 0.3), 0px 1px 3px 1px rgba(60, 64, 67, 0.15);\n",
              "      fill: #174EA6;\n",
              "    }\n",
              "\n",
              "    .colab-df-buttons div {\n",
              "      margin-bottom: 4px;\n",
              "    }\n",
              "\n",
              "    [theme=dark] .colab-df-convert {\n",
              "      background-color: #3B4455;\n",
              "      fill: #D2E3FC;\n",
              "    }\n",
              "\n",
              "    [theme=dark] .colab-df-convert:hover {\n",
              "      background-color: #434B5C;\n",
              "      box-shadow: 0px 1px 3px 1px rgba(0, 0, 0, 0.15);\n",
              "      filter: drop-shadow(0px 1px 2px rgba(0, 0, 0, 0.3));\n",
              "      fill: #FFFFFF;\n",
              "    }\n",
              "  </style>\n",
              "\n",
              "    <script>\n",
              "      const buttonEl =\n",
              "        document.querySelector('#df-8d2de8a2-ce39-49ed-8678-840f7696fe55 button.colab-df-convert');\n",
              "      buttonEl.style.display =\n",
              "        google.colab.kernel.accessAllowed ? 'block' : 'none';\n",
              "\n",
              "      async function convertToInteractive(key) {\n",
              "        const element = document.querySelector('#df-8d2de8a2-ce39-49ed-8678-840f7696fe55');\n",
              "        const dataTable =\n",
              "          await google.colab.kernel.invokeFunction('convertToInteractive',\n",
              "                                                    [key], {});\n",
              "        if (!dataTable) return;\n",
              "\n",
              "        const docLinkHtml = 'Like what you see? Visit the ' +\n",
              "          '<a target=\"_blank\" href=https://colab.research.google.com/notebooks/data_table.ipynb>data table notebook</a>'\n",
              "          + ' to learn more about interactive tables.';\n",
              "        element.innerHTML = '';\n",
              "        dataTable['output_type'] = 'display_data';\n",
              "        await google.colab.output.renderOutput(dataTable, element);\n",
              "        const docLink = document.createElement('div');\n",
              "        docLink.innerHTML = docLinkHtml;\n",
              "        element.appendChild(docLink);\n",
              "      }\n",
              "    </script>\n",
              "  </div>\n",
              "\n",
              "\n",
              "<div id=\"df-8124e39a-d533-4907-8793-05d0fddaa808\">\n",
              "  <button class=\"colab-df-quickchart\" onclick=\"quickchart('df-8124e39a-d533-4907-8793-05d0fddaa808')\"\n",
              "            title=\"Suggest charts\"\n",
              "            style=\"display:none;\">\n",
              "\n",
              "<svg xmlns=\"http://www.w3.org/2000/svg\" height=\"24px\"viewBox=\"0 0 24 24\"\n",
              "     width=\"24px\">\n",
              "    <g>\n",
              "        <path d=\"M19 3H5c-1.1 0-2 .9-2 2v14c0 1.1.9 2 2 2h14c1.1 0 2-.9 2-2V5c0-1.1-.9-2-2-2zM9 17H7v-7h2v7zm4 0h-2V7h2v10zm4 0h-2v-4h2v4z\"/>\n",
              "    </g>\n",
              "</svg>\n",
              "  </button>\n",
              "\n",
              "<style>\n",
              "  .colab-df-quickchart {\n",
              "      --bg-color: #E8F0FE;\n",
              "      --fill-color: #1967D2;\n",
              "      --hover-bg-color: #E2EBFA;\n",
              "      --hover-fill-color: #174EA6;\n",
              "      --disabled-fill-color: #AAA;\n",
              "      --disabled-bg-color: #DDD;\n",
              "  }\n",
              "\n",
              "  [theme=dark] .colab-df-quickchart {\n",
              "      --bg-color: #3B4455;\n",
              "      --fill-color: #D2E3FC;\n",
              "      --hover-bg-color: #434B5C;\n",
              "      --hover-fill-color: #FFFFFF;\n",
              "      --disabled-bg-color: #3B4455;\n",
              "      --disabled-fill-color: #666;\n",
              "  }\n",
              "\n",
              "  .colab-df-quickchart {\n",
              "    background-color: var(--bg-color);\n",
              "    border: none;\n",
              "    border-radius: 50%;\n",
              "    cursor: pointer;\n",
              "    display: none;\n",
              "    fill: var(--fill-color);\n",
              "    height: 32px;\n",
              "    padding: 0;\n",
              "    width: 32px;\n",
              "  }\n",
              "\n",
              "  .colab-df-quickchart:hover {\n",
              "    background-color: var(--hover-bg-color);\n",
              "    box-shadow: 0 1px 2px rgba(60, 64, 67, 0.3), 0 1px 3px 1px rgba(60, 64, 67, 0.15);\n",
              "    fill: var(--button-hover-fill-color);\n",
              "  }\n",
              "\n",
              "  .colab-df-quickchart-complete:disabled,\n",
              "  .colab-df-quickchart-complete:disabled:hover {\n",
              "    background-color: var(--disabled-bg-color);\n",
              "    fill: var(--disabled-fill-color);\n",
              "    box-shadow: none;\n",
              "  }\n",
              "\n",
              "  .colab-df-spinner {\n",
              "    border: 2px solid var(--fill-color);\n",
              "    border-color: transparent;\n",
              "    border-bottom-color: var(--fill-color);\n",
              "    animation:\n",
              "      spin 1s steps(1) infinite;\n",
              "  }\n",
              "\n",
              "  @keyframes spin {\n",
              "    0% {\n",
              "      border-color: transparent;\n",
              "      border-bottom-color: var(--fill-color);\n",
              "      border-left-color: var(--fill-color);\n",
              "    }\n",
              "    20% {\n",
              "      border-color: transparent;\n",
              "      border-left-color: var(--fill-color);\n",
              "      border-top-color: var(--fill-color);\n",
              "    }\n",
              "    30% {\n",
              "      border-color: transparent;\n",
              "      border-left-color: var(--fill-color);\n",
              "      border-top-color: var(--fill-color);\n",
              "      border-right-color: var(--fill-color);\n",
              "    }\n",
              "    40% {\n",
              "      border-color: transparent;\n",
              "      border-right-color: var(--fill-color);\n",
              "      border-top-color: var(--fill-color);\n",
              "    }\n",
              "    60% {\n",
              "      border-color: transparent;\n",
              "      border-right-color: var(--fill-color);\n",
              "    }\n",
              "    80% {\n",
              "      border-color: transparent;\n",
              "      border-right-color: var(--fill-color);\n",
              "      border-bottom-color: var(--fill-color);\n",
              "    }\n",
              "    90% {\n",
              "      border-color: transparent;\n",
              "      border-bottom-color: var(--fill-color);\n",
              "    }\n",
              "  }\n",
              "</style>\n",
              "\n",
              "  <script>\n",
              "    async function quickchart(key) {\n",
              "      const quickchartButtonEl =\n",
              "        document.querySelector('#' + key + ' button');\n",
              "      quickchartButtonEl.disabled = true;  // To prevent multiple clicks.\n",
              "      quickchartButtonEl.classList.add('colab-df-spinner');\n",
              "      try {\n",
              "        const charts = await google.colab.kernel.invokeFunction(\n",
              "            'suggestCharts', [key], {});\n",
              "      } catch (error) {\n",
              "        console.error('Error during call to suggestCharts:', error);\n",
              "      }\n",
              "      quickchartButtonEl.classList.remove('colab-df-spinner');\n",
              "      quickchartButtonEl.classList.add('colab-df-quickchart-complete');\n",
              "    }\n",
              "    (() => {\n",
              "      let quickchartButtonEl =\n",
              "        document.querySelector('#df-8124e39a-d533-4907-8793-05d0fddaa808 button');\n",
              "      quickchartButtonEl.style.display =\n",
              "        google.colab.kernel.accessAllowed ? 'block' : 'none';\n",
              "    })();\n",
              "  </script>\n",
              "</div>\n",
              "\n",
              "    </div>\n",
              "  </div>\n"
            ],
            "application/vnd.google.colaboratory.intrinsic+json": {
              "type": "dataframe",
              "summary": "{\n  \"name\": \"display(general_df\",\n  \"rows\": 5,\n  \"fields\": [\n    {\n      \"column\": \"093$c \\u05e1\\u05d9\\u05de\\u05d5\\u05dc \\u05e4\\u05e8\\u05d5\\u05d9\\u05e7\\u05d8 (\\u05de\\u05e2\\u05d5\\u05d3\\u05db\\u05df)\",\n      \"properties\": {\n        \"dtype\": \"string\",\n        \"num_unique_values\": 5,\n        \"samples\": [\n          \"IL-MTFN-001-G-F-0009-001\",\n          \"IL-MTFN-001-G-F-0015-011\",\n          \"IL-MTFN-001-G-F-0009-012\"\n        ],\n        \"semantic_type\": \"\",\n        \"description\": \"\"\n      }\n    },\n    {\n      \"column\": \"general_description\",\n      \"properties\": {\n        \"dtype\": \"string\",\n        \"num_unique_values\": 5,\n        \"samples\": [\n          \"\\u05d2\\u05d1' \\u05d0\\u05d5\\u05d4 \\u05d5\\u05d9\\u05d9\\u05e1, 1921-2002, \\u05d4\\u05e2\\u05d1\\u05d9\\u05e8\\u05d4 \\u05dc\\u05de\\u05d5\\u05d6\\u05d9\\u05d0\\u05d5\\u05df \\u05d0\\u05ea \\u05e2\\u05d6\\u05d1\\u05d5\\u05df \\u05d4\\u05d5\\u05e8\\u05d9\\u05d4, \\u05e8\\u05e0\\u05d4 \\u05d5\\u05d9\\u05d9\\u05e1 \\u05d5\\u05d4\\u05dc\\u05d4 \\u05d5\\u05d9\\u05d9\\u05e1 \\u05dc\\u05d1\\u05d9\\u05ea \\u05dc\\u05d5\\u05e7\\u05e1. \\u05d4\\u05d7\\u05d5\\u05de\\u05e8 \\u05e0\\u05d0\\u05e1\\u05e3 \\u05d1\\u05de\\u05e1\\u05e4\\u05e8 \\u05d1\\u05d9\\u05e7\\u05d5\\u05e8\\u05d9\\u05dd \\u05d0\\u05e6\\u05dc \\u05d2\\u05d1' \\u05d5\\u05d9\\u05d9\\u05e1 \\u05d1\\u05d8\\u05d1\\u05e2\\u05d5\\u05df, \\u05e2\\\"\\u05d9 \\u05e0\\u05d9\\u05dc\\u05d9 \\u05d3\\u05d5\\u05d9\\u05d3\\u05e1\\u05d5\\u05df, \\u05e8\\u05d5\\u05ea\\u05d9 \\u05d0\\u05d5\\u05e4\\u05e7, \\u05e7\\u05e8\\u05dc\\u05d4 \\u05d5\\u05d5\\u05dc\\u05e3 \\u05d5\\u05ea\\u05de\\u05e8 \\u05d6\\u05d2\\u05e8. \\u05dc\\u05d2\\u05d1' \\u05d5\\u05d9\\u05d9\\u05e1 \\u05d9\\u05e9 \\u05d0\\u05d7, \\u05e8\\u05d9\\u05db\\u05e8\\u05d3 (\\u05e8\\u05d9), \\u05d0\\u05d5\\u05e8\\u05d9, \\u05d9\\u05dc\\u05d9\\u05d3 1924, \\u05d7\\u05d9 \\u05d1\\u05d7\\u05d9\\u05e4\\u05d4. \\u05d0\\u05d5\\u05d4 \\u05d5\\u05d9\\u05d9\\u05e1 \\u05d4\\u05ea\\u05d2\\u05d9\\u05d9\\u05e1\\u05d4 \\u05dc\\u05e6\\u05d1\\u05d0 \\u05d4\\u05d1\\u05e8\\u05d9\\u05d8\\u05d9 \\u05d1\\u05de\\u05dc\\u05d7\\\"\\u05e2 II, \\u05e9\\u05d9\\u05e8\\u05ea\\u05d4 \\u05d1\\u05de\\u05e6\\u05e8\\u05d9\\u05d9\\u05dd \\u05d5\\u05d0\\u05d9\\u05d8\\u05dc\\u05d9\\u05d4. \\u05dc\\u05d0 \\u05e0\\u05d9\\u05e9\\u05d0\\u05d4. \\u05d4\\u05d7\\u05d5\\u05de\\u05e8 \\u05dc\\u05ea\\u05d5\\u05dc\\u05d3\\u05d5\\u05ea \\u05d4\\u05de\\u05e9\\u05e4\\u05d7\\u05d4 \\u05de\\u05d1\\u05d5\\u05e1\\u05e1 \\u05e2\\u05dc \\u05ea\\u05db\\u05e0\\u05d9\\u05dd \\u05de\\u05d4\\u05e2\\u05d6\\u05d1\\u05d5\\u05df \\u05d5\\u05de\\u05e9\\u05d9\\u05d7\\u05d5\\u05ea \\u05e2\\u05dd \\u05d0\\u05d5\\u05d4 \\u05d5\\u05d9\\u05d9\\u05e1. \\u05d0\\u05d5\\u05d4 \\u05d5\\u05d9\\u05d9\\u05e1 \\u05e0\\u05e4\\u05d8\\u05e8\\u05d4 \\u05d0\\u05d7\\u05e8\\u05d9 \\u05de\\u05d7\\u05dc\\u05d4 \\u05e7\\u05e9\\u05d4 \\u05d5\\u05d0\\u05e8\\u05d5\\u05db\\u05d4 \\u05d1-2002. \\u05e1\\u05d9\\u05db\\u05d5\\u05dd \\u05dc\\u05ea\\u05d5\\u05dc\\u05d3\\u05d5\\u05ea \\u05d4\\u05de\\u05e9\\u05e4\\u05d7\\u05d4, \\u05e8\\u05e0\\u05d4 \\u05d5\\u05d9\\u05d9\\u05e1 - Rene Weiss 1890-1972: \\u05e0\\u05d5\\u05dc\\u05d3 \\u05d1\\u05e4\\u05e8\\u05d9\\u05e1 \\u05dc\\u05d1\\u05e8\\u05e0\\u05e8\\u05d3 \\u05d5\\u05d0\\u05de\\u05d4 \\u05dc\\u05d1\\u05d9\\u05ea \\u05d4\\u05d5\\u05dc\\u05e5 - Bernhard, Emma Holz. \\u05d0\\u05d1\\u05d9\\u05d5 \\u05e0\\u05e4\\u05d8\\u05e8 \\u05d1\\u05e9\\u05e0\\u05ea \\u05dc\\u05d9\\u05d3\\u05ea\\u05d5, \\u05d4\\u05d0\\u05dd \\u05d7\\u05d6\\u05e8\\u05d4 \\u05e2\\u05dd \\u05d1\\u05e0\\u05d4 \\u05d0\\u05dc \\u05de\\u05e9\\u05e4\\u05d7\\u05ea\\u05d4 \\u05e9\\u05d7\\u05d9\\u05d4 \\u05d1\\u05d2\\u05e8\\u05de\\u05e0\\u05d9\\u05d4 \\u05d1\\u05e2\\u05d9\\u05e8 \\u05e7\\u05e8\\u05dc\\u05e1\\u05e8\\u05d5\\u05d0\\u05d4; Karlsruhe. \\u05e8\\u05e0\\u05d4 \\u05d4\\u05d5\\u05e9\\u05d0\\u05e8 \\u05d1\\u05d8\\u05d9\\u05e4\\u05d5\\u05dc \\u05de\\u05e9\\u05e4\\u05d7\\u05ea \\u05d4\\u05d0\\u05dd, \\u05de\\u05e9\\u05e4. \\u05d4\\u05d5\\u05dc\\u05e5 - Holz, \\u05d4\\u05d0\\u05dd \\u05de\\u05e8\\u05d9 Marie 1833-1894 \\u05d5\\u05d1\\u05e2\\u05dc\\u05d4 \\u05e4\\u05e8\\u05d3\\u05d9\\u05e0\\u05e0\\u05d3 - Ferdinand. \\u05dc\\u05d6\\u05d5\\u05d2 \\u05d4\\u05d9\\u05d5 5 \\u05d9\\u05dc\\u05d3\\u05d9\\u05dd: \\u05d0\\u05dc\\u05d1\\u05e8\\u05d8 Albert; \\u05d0\\u05de\\u05d4 Emma \\u05d0\\u05de\\u05d5 \\u05e9\\u05dc \\u05e8\\u05e0\\u05d4; \\u05d0\\u05d9\\u05d3\\u05d4/\\u05d0\\u05d9\\u05d3\\u05dc Ida/Idel, \\u05e9\\u05de\\u05e2\\u05d5\\u05dc\\u05dd \\u05dc\\u05d0 \\u05e0\\u05d9\\u05e9\\u05d0\\u05d4, \\u05d1\\u05d9\\u05e7\\u05e8\\u05d4 \\u05d1-1938 \\u05d0\\u05ea \\u05d4\\u05de\\u05e9\\u05e4\\u05d7\\u05d4 \\u05d1\\u05e4\\u05dc\\u05e1\\u05d8\\u05d9\\u05e0\\u05d4, \\u05d7\\u05d6\\u05e8\\u05d4 \\u05dc\\u05d2\\u05e8\\u05de\\u05e0\\u05d9\\u05d4 \\u05d5\\u05d1-1941 \\u05e0\\u05e4\\u05d8\\u05e8\\u05d4 \\u05d1\\u05d8\\u05e8\\u05d6\\u05d9\\u05d9\\u05e0\\u05e9\\u05d8\\u05d8; \\u05d0\\u05d5\\u05d2\\u05e0\\u05d9 Eugenie, \\u05e0\\u05d9\\u05e9\\u05d0\\u05d4 \\u05dc\\u05e4\\u05d5\\u05df-\\u05d2\\u05e8\\u05d5\\u05d8\\u05d4 - von Grothe \\u05e0\\u05e4\\u05d8\\u05e8\\u05d4 \\u05d1\\u05d2\\u05d9\\u05dc \\u05e6\\u05e2\\u05d9\\u05e8; \\u05e1\\u05d5\\u05e4\\u05d9 Sophie \\u05e9\\u05d4\\u05d9\\u05ea\\u05d4 \\u05d6\\u05de\\u05e8\\u05ea \\u05d1\\u05e4\\u05e8\\u05d9\\u05e1. \\u05e8\\u05e0\\u05d4 \\u05d8\\u05d5\\u05e4\\u05dc \\u05d1\\u05e2\\u05d9\\u05e7\\u05e8 \\u05e2\\\"\\u05d9 \\u05e9\\u05ea\\u05d9 \\u05d3\\u05d5\\u05d3\\u05d5\\u05ea\\u05d9\\u05d5 \\u05d0\\u05d5\\u05d9\\u05d2\\u05e0\\u05d9 (\\u05d0\\u05d5\\u05d9\\u05d2) Eugeni - Eug, \\u05d5\\u05d0\\u05d9\\u05d3\\u05dc - Idel. \\u05d4\\u05e9\\u05ea\\u05d9\\u05d9\\u05dd \\u05d4\\u05d9\\u05d5 \\u05d1\\u05de\\u05e7\\u05e6\\u05d5\\u05e2\\u05df \\u05d0\\u05d7\\u05d9\\u05d5\\u05ea. \\u05d4\\u05d0\\u05dd \\u05e2\\u05d1\\u05e8\\u05d4 \\u05dc\\u05d7\\u05d9\\u05d5\\u05ea \\u05d1\\u05d1\\u05e8\\u05dc\\u05d9\\u05df, \\u05e9\\u05dd \\u05d4\\u05db\\u05d9\\u05e8\\u05d4 \\u05d0\\u05e6\\u05d9\\u05dc \\u05e4\\u05d5\\u05dc\\u05e0\\u05d9 \\u05e0\\u05d5\\u05e6\\u05e8\\u05d9, \\u05e4\\u05e8\\u05d5\\u05e4' \\u05dc\\u05db\\u05d9\\u05de\\u05d9\\u05d4, \\u05d5\\u05d9\\u05d8\\u05d5\\u05dc\\u05d3 \\u05e7\\u05e8\\u05e1\\u05d1\\u05e1\\u05e7\\u05d9 - Witold Krassewsky \\u05d5\\u05e0\\u05d9\\u05e9\\u05d0\\u05d4 \\u05dc\\u05d5, \\u05d4\\u05dd \\u05d7\\u05d9\\u05d5 \\u05d1\\u05d5\\u05d9\\u05dc\\u05e0\\u05d0. \\u05d1\\u05d2\\u05d9\\u05dc 13 \\u05d4\\u05d5\\u05e2\\u05d1\\u05e8 \\u05e8\\u05e0\\u05d4 \\u05e2\\\"\\u05d9 \\u05d0\\u05de\\u05d5 \\u05dc\\u05de\\u05e9\\u05e4\\u05d7\\u05d4 \\u05d0\\u05d5\\u05de\\u05e0\\u05ea \\u05e0\\u05d5\\u05e6\\u05e8\\u05d9\\u05ea \\u05e9\\u05dc \\u05e4\\u05e8\\u05d5\\u05e4\\u05e1\\u05d5\\u05e8 \\u05d1\\u05e2\\u05d9\\u05e8 \\u05e4\\u05e8\\u05d9\\u05d9\\u05d1\\u05d5\\u05e8\\u05d2 Freiburg. \\u05d4\\u05e7\\u05e9\\u05e8 \\u05e9\\u05dc \\u05e8\\u05e0\\u05d4 \\u05dc\\u05d1\\u05ea\\u05dd \\u05d0\\u05dc\\u05d6\\u05d4 Else, \\u05e0\\u05de\\u05e9\\u05da \\u05dc\\u05d0\\u05d5\\u05e8\\u05da \\u05db\\u05dc \\u05d7\\u05d9\\u05d9\\u05d4\\u05dd. \\u05d0\\u05dc\\u05d6\\u05d4 \\u05e0\\u05d9\\u05e9\\u05d0\\u05d4 \\u05dc\\u05d9\\u05d4\\u05d5\\u05d3\\u05d9 \\u05d2\\u05e8\\u05de\\u05e0\\u05d9, \\u05d5\\u05d9\\u05dc\\u05d9 \\u05d4\\u05d0\\u05d5\\u05d6\\u05e8 Willi Hauser, \\u05d4\\u05d9\\u05ea\\u05d4 \\u05dc\\u05d5 \\u05d1\\u05ea \\u05d3\\u05d5\\u05d3\\u05d4 \\u05d1\\u05e0\\u05d4\\u05e8\\u05d9\\u05d4, \\u05d2\\u05d1' \\u05e8\\u05d5\\u05ea \\u05dc\\u05e1\\u05e8, \\u05e9\\u05d1\\u05d6\\u05de\\u05e0\\u05d5 \\u05d4\\u05e9\\u05db\\u05d9\\u05e8\\u05d4 \\u05d7\\u05d3\\u05e8\\u05d9\\u05dd \\u05dc\\u05d0\\u05d5\\u05e8\\u05d7\\u05d9\\u05dd \\u05d1\\u05e0\\u05d4\\u05e8\\u05d9\\u05d4. \\u05e8\\u05e0\\u05d4 \\u05dc\\u05de\\u05d3 \\u05d5\\u05e2\\u05d1\\u05d3 \\u05d1\\u05de\\u05e1\\u05e4\\u05e8 \\u05d1\\u05e0\\u05e7\\u05d9\\u05dd \\u05d9\\u05d4\\u05d5\\u05d3\\u05d9\\u05d9\\u05dd \\u05d5-6 \\u05d7\\u05d5\\u05d3\\u05e9\\u05d9\\u05dd \\u05e2\\u05d1\\u05d3 \\u05d2\\u05dd \\u05d1\\u05d1\\u05d5\\u05e8\\u05e1\\u05d4 \\u05d1\\u05e4\\u05e8\\u05d9\\u05e1. \\u05dc\\u05e2\\u05e8\\u05da \\u05de-1910 \\u05e2\\u05d1\\u05e8 \\u05dc\\u05e4\\u05e8\\u05e0\\u05e7\\u05e4\\u05d5\\u05e8\\u05d8 \\u05e2\\u05dc \\u05d4\\u05de\\u05d9\\u05d9\\u05df - Frankfurt am Main \\u05d5\\u05e9\\u05db\\u05e8 \\u05d7\\u05d3\\u05e8 \\u05d0\\u05e6\\u05dc \\u05de\\u05e9\\u05e4\\u05d7\\u05ea \\u05d4\\u05d1\\u05e0\\u05e7\\u05d0\\u05d9\\u05dd \\u05de\\u05e9\\u05e4. \\u05e9\\u05d9\\u05dc\\u05d9\\u05e0\\u05d2 Schilling. \\u05d4\\u05d5\\u05d0 \\u05d1\\u05d9\\u05e7\\u05e8 \\u05e8\\u05d1\\u05d5\\u05ea \\u05d0\\u05ea \\u05d3\\u05d5\\u05d3\\u05ea\\u05d5 \\u05d0\\u05d9\\u05d3\\u05dc \\u05e9\\u05d4\\u05d9\\u05ea\\u05d4 \\u05d0\\u05d7\\u05d5\\u05ea \\u05e8\\u05d0\\u05e9\\u05d9\\u05ea \\u05d1\\u05d1\\u05d9\\u05ea \\u05d4\\u05d1\\u05e8\\u05d0\\u05d4 \\u05d1\\u05d0\\u05d5\\u05d1\\u05e8\\u05e9\\u05d8\\u05d8\\u05df Oberstetten, \\u05d4\\u05e7\\u05e8\\u05d5\\u05d1\\u05d4 \\u05dc\\u05e4\\u05e8\\u05e0\\u05e7\\u05e4\\u05d5\\u05e8\\u05d8. \\u05d1\\u05d0\\u05d5\\u05d1\\u05e8\\u05e9\\u05d8\\u05d8\\u05df \\u05d4\\u05db\\u05d9\\u05e8 \\u05d5\\u05d4\\u05ea\\u05d0\\u05d4\\u05d1 \\u05d1\\u05d4\\u05dc\\u05d4 \\u05dc\\u05d5\\u05e7\\u05e1 \\u05d1\\u05ea \\u05d4-16, \\u05e9\\u05dd \\u05d4\\u05d1\\u05e8\\u05d9\\u05d0\\u05d4 \\u05de\\u05de\\u05d7\\u05dc\\u05ea \\u05e8\\u05d9\\u05d0\\u05d5\\u05ea. \\u05d4\\u05dc\\u05d4 \\u05dc\\u05d5\\u05e7\\u05e1 Hella Lucas, 1896-1991, \\u05d1\\u05ea \\u05dc\\u05de\\u05e9\\u05e4\\u05d7\\u05d4 \\u05d9\\u05d4\\u05d5\\u05d3\\u05d9\\u05ea \\u05d1\\u05d5\\u05e8\\u05d2\\u05e0\\u05d9\\u05ea \\u05de\\u05d4\\u05e2\\u05d9\\u05e8 \\u05d0\\u05e1\\u05df Essen, \\u05d1\\u05ea\\u05dd \\u05e9\\u05dc \\u05d0\\u05d5\\u05d9\\u05d2\\u05e0\\u05d9 \\u05dc\\u05d1\\u05d9\\u05ea \\u05d0\\u05dc\\u05e1\\u05d1\\u05e8\\u05d2 Alsberg \\u05d5\\u05d2\\u05d5\\u05e1\\u05d8\\u05d1 \\u05dc\\u05d5\\u05e7\\u05e1 Gustav Lucas. \\u05dc\\u05d0\\u05d1 \\u05d4\\u05d9\\u05ea\\u05d4 \\u05d7\\u05e0\\u05d5\\u05ea \\u05dc\\u05d1\\u05d3\\u05d9\\u05dd/\\u05d8\\u05e7\\u05e1\\u05d8\\u05d9\\u05dc; \\u05d1\\u05d0\\u05e8\\u05db\\u05d9\\u05d5\\u05df \\u05de\\u05e6\\u05d5\\u05d9 \\u05e1\\u05e8\\u05d2\\u05dc \\u05d4\\u05de\\u05d3\\u05d9\\u05d3\\u05d4 \\u05e9\\u05d1\\u05d5 \\u05d4\\u05e9\\u05ea\\u05de\\u05e9 \\u05d1\\u05d7\\u05e0\\u05d5\\u05ea. \\u05d4\\u05dc\\u05d4 \\u05d4\\u05d9\\u05ea\\u05d4 \\u05d9\\u05dc\\u05d3\\u05ea\\u05dd \\u05d4\\u05d9\\u05d7\\u05d9\\u05d3 \\u05d5\\u05db\\u05d1\\u05e8 \\u05d1\\u05e6\\u05e2\\u05d9\\u05e8\\u05d5\\u05ea\\u05d4 \\u05d4\\u05d9\\u05ea\\u05d4 \\u05de\\u05d0\\u05d3 \\u05d0\\u05e0\\u05e8\\u05d2\\u05d8\\u05d9\\u05ea \\u05d5\\u05d7\\u05db\\u05de\\u05d4, \\u05db\\u05e4\\u05d9 \\u05e9\\u05e0\\u05d9\\u05ea\\u05df \\u05dc\\u05e7\\u05e8\\u05d5\\u05d0 \\u05de\\u05de\\u05db\\u05ea\\u05d1\\u05d9\\u05d4. \\u05d1-1911 \\u05e0\\u05e4\\u05d2\\u05e9\\u05d5 \\u05e8\\u05e0\\u05d4 \\u05d5\\u05d4\\u05dc\\u05d4, \\u05d4\\u05d9\\u05ea\\u05d4 \\u05d6\\u05d0\\u05ea \\u05d0\\u05d4\\u05d1\\u05d4 \\u05de\\u05de\\u05d1\\u05d8 \\u05e8\\u05d0\\u05e9\\u05d5\\u05df. \\u05d1-1912 \\u05e7\\u05d9\\u05d1\\u05dc \\u05e8\\u05e0\\u05d4 \\u05e2\\u05d1\\u05d5\\u05d3\\u05d4 \\u05d1\\u05e2\\u05e1\\u05e7 \\u05d4\\u05e2\\u05d5\\u05e8\\u05d5\\u05ea \\u05d1\\u05d4\\u05d5\\u05d3\\u05d5 \\u05e9\\u05dc \\u05de\\u05e9\\u05e4\\u05d7\\u05ea \\u05e9\\u05d9\\u05dc\\u05d9\\u05e0\\u05d2, \\u05d4\\u05d9\\u05d5\\u05d6\\u05de\\u05d4 \\u05d9\\u05e6\\u05d0\\u05d4 \\u05de\\u05de\\u05e9\\u05e4. \\u05e9\\u05d9\\u05dc\\u05d9\\u05e0\\u05d2. \\u05e9\\u05dd \\u05d4\\u05d9\\u05d4 \\u05d0\\u05de\\u05d5\\u05e8 \\u05dc\\u05dc\\u05de\\u05d5\\u05d3 \\u05d9\\u05d5\\u05ea\\u05e8 \\u05d8\\u05d5\\u05d1 \\u05d0\\u05ea \\u05d4\\u05de\\u05e7\\u05e6\\u05d5\\u05e2 \\u05d5\\u05d4\\u05d5\\u05d1\\u05d8\\u05d7 \\u05dc\\u05d5 \\u05e9\\u05d9\\u05d7\\u05d6\\u05d5\\u05e8 \\u05d0\\u05d7\\u05e8\\u05d9 \\u05e9\\u05e0\\u05ea\\u05d9\\u05d9\\u05dd \\u05d5\\u05d9\\u05e7\\u05d1\\u05dc \\u05ea\\u05e4\\u05e7\\u05d9\\u05d3 \\u05de\\u05db\\u05d5\\u05d1\\u05d3 \\u05d1\\u05e2\\u05e1\\u05e7 \\u05d4\\u05de\\u05e9\\u05e4\\u05d7\\u05ea\\u05d9 \\u05d1\\u05d2\\u05e8\\u05de\\u05e0\\u05d9\\u05d4. \\u05e4\\u05e8\\u05d5\\u05e5 \\u05de\\u05dc\\u05d7\\\"\\u05e2 I \\u05e2\\u05d9\\u05db\\u05d1\\u05d4 \\u05d0\\u05ea \\u05d7\\u05d6\\u05e8\\u05ea\\u05d5 \\u05e9\\u05dc \\u05e8\\u05e0\\u05d4 \\u05dc\\u05d2\\u05e8\\u05de\\u05e0\\u05d9\\u05d4 \\u05d5\\u05d4\\u05d5\\u05d0 \\u05d7\\u05d6\\u05e8 \\u05d1\\u05e1\\u05d5\\u05e3 \\u05d1-1919. \\u05e8\\u05e0\\u05d4 \\u05e0\\u05e2\\u05e6\\u05e8 \\u05e2\\\"\\u05d9 \\u05d4\\u05d1\\u05e8\\u05d9\\u05d8\\u05d9\\u05dd \\u05e9\\u05e9\\u05dc\\u05d8\\u05d5 \\u05d1\\u05d4\\u05d5\\u05d3\\u05d5 \\u05d1\\u05d2\\u05dc\\u05dc \\u05d3\\u05e8\\u05db\\u05d5\\u05e0\\u05d5 \\u05d4\\u05d2\\u05e8\\u05de\\u05e0\\u05d9 \\u05d5\\u05d4\\u05d5\\u05db\\u05e0\\u05e1 \\u05dc\\u05de\\u05d7\\u05e0\\u05d4 \\u05e9\\u05dc \\u05e0\\u05ea\\u05d9\\u05e0\\u05d9\\u05dd \\u05d6\\u05e8\\u05d9\\u05dd. \\u05d7\\u05d9\\u05d9\\u05d5 \\u05d1\\u05de\\u05d7\\u05e0\\u05d4 \\u05dc\\u05d0 \\u05d4\\u05d9\\u05d5 \\u05e8\\u05e2\\u05d9\\u05dd, \\u05db\\u05e4\\u05d9 \\u05e9\\u05e0\\u05d9\\u05ea\\u05df \\u05dc\\u05e7\\u05e8\\u05d5\\u05d0 \\u05d1\\u05de\\u05db\\u05ea\\u05d1\\u05d9\\u05d5. \\u05db\\u05dc \\u05ea\\u05e7\\u05d5\\u05e4\\u05ea \\u05e9\\u05d4\\u05d5\\u05ea\\u05d5 \\u05d1\\u05d4\\u05d5\\u05d3\\u05d5 \\u05d4\\u05de\\u05e9\\u05d9\\u05db\\u05d5 \\u05d4\\u05e9\\u05e0\\u05d9\\u05d9\\u05dd \\u05dc\\u05d4\\u05ea\\u05db\\u05ea\\u05d1 \\u05d5\\u05dc\\u05e7\\u05d5\\u05d5\\u05ea \\u05dc\\u05d4\\u05ea\\u05d0\\u05d7\\u05d3\\u05d5\\u05ea\\u05dd. \\u05db\\u05d0\\u05e9\\u05e8 \\u05dc\\u05d0 \\u05e0\\u05d9\\u05ea\\u05df \\u05d4\\u05d9\\u05d4 \\u05dc\\u05d4\\u05ea\\u05db\\u05ea\\u05d1 \\u05d9\\u05e9\\u05d9\\u05e8\\u05d5\\u05ea \\u05d1\\u05d9\\u05df \\u05d4\\u05d5\\u05d3\\u05d5 \\u05d4\\u05d1\\u05e8\\u05d9\\u05d8\\u05d9\\u05ea \\u05d5\\u05d2\\u05e8\\u05de\\u05e0\\u05d9\\u05d4, \\u05e0\\u05de\\u05e6\\u05d0 \\u05e4\\u05ea\\u05e8\\u05d5\\u05df \\u05d1\\u05d0\\u05d3\\u05dd \\u05de\\u05d0\\u05de\\u05e1\\u05d8\\u05e8\\u05d3\\u05dd \\u05d1\\u05e9\\u05dd \\u05e4. \\u05e4\\u05d5\\u05df \\u05de\\u05e7\\u05e8\\u05df P. von Mekreen \\u05e9\\u05d4\\u05e2\\u05d1\\u05d9\\u05e8 \\u05d0\\u05ea \\u05d4\\u05de\\u05db\\u05ea\\u05d1\\u05d9\\u05dd \\u05e9\\u05d4\\u05d2\\u05d9\\u05e2\\u05d5 \\u05dc\\u05db\\u05ea\\u05d5\\u05d1\\u05ea\\u05d5 \\u05de\\u05e8\\u05e0\\u05d4 \\u05dc\\u05d4\\u05dc\\u05d4 \\u05d5\\u05d4\\u05e4\\u05d5\\u05da. \\u05e2\\u05d5\\u05d3 \\u05d1\\u05d8\\u05e8\\u05dd \\u05e6\\u05d0\\u05ea\\u05d5 \\u05e9\\u05dc \\u05e8\\u05e0\\u05d4 \\u05dc\\u05d4\\u05d5\\u05d3\\u05d5, \\u05d4\\u05e1\\u05db\\u05d9\\u05de\\u05d5 \\u05d4\\u05e9\\u05e0\\u05d9\\u05d9\\u05dd \\u05e2\\u05dc \\u05e8\\u05e9\\u05d9\\u05de\\u05d4 \\u05e9\\u05dc \\u05e7\\u05d5\\u05d3\\u05d9\\u05dd \\u05d1\\u05d4 \\u05d4\\u05dd \\u05d2\\u05dd \\u05de\\u05e9\\u05ea\\u05de\\u05e9\\u05d9\\u05dd \\u05de\\u05d3\\u05d9 \\u05e4\\u05e2\\u05dd \\u05d1\\u05e4\\u05e2\\u05dd. \\u05d4\\u05d5\\u05e8\\u05d9\\u05d4 \\u05e9\\u05dc \\u05d4\\u05dc\\u05d4 \\u05dc\\u05d0 \\u05d4\\u05d9\\u05d5 \\u05de\\u05e8\\u05d5\\u05e6\\u05d9\\u05dd \\u05de\\u05d4\\u05e7\\u05e9\\u05e8 \\u05e9\\u05dc\\u05d4 \\u05e2\\u05dd \\u05e8\\u05e0\\u05d4, \\u05e9\\u05d4\\u05d9\\u05d4 \\u05d7\\u05e1\\u05e8 \\u05db\\u05dc. \\u05d4\\u05dd \\u05d1\\u05d3\\u05e7\\u05d5 \\u05d0\\u05ea \\u05de\\u05db\\u05ea\\u05d1\\u05d9\\u05d4 \\u05d5\\u05d0\\u05e3 \\u05d4\\u05d1\\u05d9\\u05e2\\u05d5 \\u05d0\\u05ea \\u05d3\\u05e2\\u05ea\\u05dd \\u05e2\\u05dc \\u05e8\\u05e0\\u05d4 \\u05d5\\u05d4\\u05e7\\u05e9\\u05e8 \\u05d0\\u05dc\\u05d9\\u05d5. \\u05d4\\u05dc\\u05d4 \\u05e0\\u05d4\\u05d2\\u05d4 \\u05dc\\u05e6\\u05d3 \\u05d4\\u05de\\u05db\\u05ea\\u05d1 \\u05d4\\u05e8\\u05e9\\u05de\\u05d9 \\u05d0\\u05dc \\u05e8\\u05e0\\u05d4 \\u05e9\\u05d4\\u05d5\\u05e8\\u05d9\\u05d4 \\u05e0\\u05d4\\u05d2\\u05d5 \\u05dc\\u05e7\\u05e8\\u05d5\\u05d0, \\u05dc\\u05d4\\u05db\\u05e0\\u05d9\\u05e1 \\u05d1\\u05d4\\u05e1\\u05ea\\u05e8 \\u05e4\\u05ea\\u05e7 \\u05e2\\u05dd \\u05ea\\u05d5\\u05db\\u05df \\u05e8\\u05d5\\u05de\\u05e0\\u05d8\\u05d9. \\u05e2\\u05dc \\u05d0\\u05d7\\u05ea \\u05de\\u05de\\u05e2\\u05d8\\u05e4\\u05d5\\u05ea \\u05d4\\u05de\\u05db\\u05ea\\u05d1\\u05d9\\u05dd \\u05e9\\u05dc \\u05e8\\u05e0\\u05d4 \\u05dc\\u05d4\\u05dc\\u05d4, \\u05de\\u05ea\\u05d7\\u05ea \\u05dc\\u05d1\\u05d5\\u05dc \\u05d2\\u05d3\\u05d5\\u05dc \\u05e0\\u05de\\u05e6\\u05d0\\u05d5\\u05ea \\u05de\\u05d9\\u05dc\\u05d9\\u05dd \\u05e8\\u05d5\\u05de\\u05e0\\u05d8\\u05d9\\u05d5\\u05ea \\u05e2\\u05d1\\u05d5\\u05e8 \\u05d4\\u05dc\\u05d4. \\u05d1-1920 \\u05e0\\u05d9\\u05e9\\u05d0\\u05d5 \\u05d4\\u05e9\\u05e0\\u05d9\\u05d9\\u05dd. \\u05e8\\u05e0\\u05d4 \\u05e2\\u05dc\\u05d4 \\u05dc\\u05d0\\u05e8\\u05e5 \\u05d1-1935, \\u05e0\\u05e9\\u05dc\\u05d7 \\u05dc\\u05e4\\u05ea\\u05d5\\u05d7 \\u05e1\\u05e0\\u05d9\\u05e3 \\u05e9\\u05dc \\u05d1\\u05e0\\u05e7 \\u05d0\\u05d9\\u05d2\\u05d5\\u05d3 \\u05e9\\u05dc \\u05d4\\u05e4\\u05d5\\u05e2\\u05dc \\u05d4\\u05de\\u05d6\\u05e8\\u05d7\\u05d9 \\u05d1\\u05d7\\u05d9\\u05e4\\u05d4. \\u05d4\\u05dc\\u05d4 \\u05e2\\u05dc\\u05ea\\u05d4 \\u05e2\\u05dd \\u05d9\\u05dc\\u05d3\\u05d9\\u05d4 \\u05d1-1936. \\u05d4\\u05de\\u05e9\\u05e4\\u05d7\\u05d4 \\u05d2\\u05e8\\u05d4 \\u05d1\\u05d7\\u05d9\\u05e4\\u05d4, \\u05d1\\u05e9\\u05e0\\u05ea 1955 \\u05e2\\u05d1\\u05e8\\u05d4 \\u05dc\\u05d8\\u05d1\\u05e2\\u05d5\\u05df. \\u05d4\\u05d1\\u05ea \\u05d0\\u05d5\\u05d4 \\u05d5\\u05d9\\u05d9\\u05e1 \\u05d2\\u05e8\\u05d4 \\u05d1\\u05ea\\u05dc-\\u05d0\\u05d1\\u05d9\\u05d1 \\u05d5\\u05d1-1985 \\u05e2\\u05d1\\u05e8\\u05d4 \\u05dc\\u05d2\\u05d5\\u05e8 \\u05e2\\u05dd \\u05d0\\u05de\\u05d4 \\u05d4\\u05d7\\u05d5\\u05dc\\u05d4 \\u05d1\\u05d1\\u05d9\\u05ea \\u05d1\\u05d8\\u05d1\\u05e2\\u05d5\\u05df \\u05e9\\u05dd \\u05d7\\u05d9\\u05d4 \\u05e2\\u05d3 \\u05e7\\u05e8\\u05d5\\u05d1 \\u05dc\\u05de\\u05d5\\u05ea\\u05d4, \\u05d4\\u05d9\\u05ea\\u05d4 \\u05db\\u05d7\\u05e6\\u05d9 \\u05e9\\u05e0\\u05d4 \\u05d1\\u05d1\\u05d9\\u05ea \\u05d0\\u05d1\\u05d5\\u05ea \\u05e9\\u05dd \\u05e0\\u05e4\\u05d8\\u05e8\\u05d4.\",\n          \"\\u05d4\\u05ea\\u05d9\\u05e7 \\u05de\\u05db\\u05d9\\u05dc \\u05db\\u05e8\\u05d8\\u05d9\\u05e1\\u05d9\\u05d5\\u05ea \\u05dc\\u05d0\\u05d9\\u05e1\\u05d5\\u05e3 \\u05e0\\u05ea\\u05d5\\u05e0\\u05d9\\u05dd \\u05e2\\u05dc \\u05d1\\u05e0\\u05d9 \\u05de\\u05e9\\u05e4\\u05d7\\u05d4, \\u05e2\\u05dc\\u05d9\\u05d4\\u05df \\u05e8\\u05e9\\u05de\\u05d4 \\u05d2'\\u05e0\\u05d9 \\u05e7\\u05e8\\u05de\\u05e8 \\u05d0\\u05ea \\u05ea\\u05d5\\u05e6\\u05d0\\u05d5\\u05ea \\u05de\\u05d7\\u05e7\\u05e8\\u05d9\\u05d4. \\u05d0\\u05d9\\u05e1\\u05d5\\u05e3 \\u05d4\\u05e0\\u05ea\\u05d5\\u05e0\\u05d9\\u05dd \\u05e2\\u05dc \\u05d2\\u05d1\\u05d9 \\u05d4\\u05db\\u05e8\\u05d8\\u05d9\\u05e1\\u05d9\\u05d5\\u05ea \\u05e0\\u05e8\\u05e9\\u05dd \\u05d1\\u05d0\\u05d5\\u05e4\\u05df \\u05d4\\u05d1\\u05d0: \\u05e9\\u05dd, \\u05de\\u05e7\\u05e6\\u05d5\\u05e2, \\u05ea\\u05d5\\u05d0\\u05e8, \\u05e2\\u05d9\\u05e8/\\u05d9\\u05e9\\u05d5\\u05d1, \\u05e4\\u05e8\\u05d8\\u05d9 \\u05dc\\u05d9\\u05d3\\u05d4, \\u05e4\\u05e8\\u05d8\\u05d9 \\u05e4\\u05d8\\u05d9\\u05e8\\u05d4, \\u05e4\\u05e8\\u05d8\\u05d9 \\u05e0\\u05d9\\u05e9\\u05d5\\u05d0\\u05d9\\u05df, \\u05e4\\u05e8\\u05d8\\u05d9\\u05dd \\u05e2\\u05dc \\u05d1\\u05df/\\u05d1\\u05ea \\u05d4\\u05d6\\u05d5\\u05d2, \\u05e4\\u05e8\\u05d5\\u05d8 \\u05d4\\u05d9\\u05dc\\u05d3\\u05d9\\u05dd, \\u05e4\\u05e8\\u05d8\\u05d9 \\u05d4\\u05d0\\u05d1/\\u05d0\\u05dd. \\u05d1\\u05e6\\u05d3\\u05d5 \\u05d4\\u05e9\\u05e0\\u05d9 \\u05e9\\u05dc \\u05d4\\u05db\\u05e8\\u05d8\\u05d9\\u05e1 \\u05e0\\u05e8\\u05e9\\u05dd \\u05d4\\u05de\\u05e7\\u05d5\\u05e8 \\u05dc\\u05de\\u05d9\\u05d3\\u05e2. \\u05de\\u05e7\\u05d5\\u05dd \\u05d6\\u05d4 \\u05e0\\u05d9\\u05e6\\u05dc\\u05d4 \\u05d2'\\u05e0\\u05d9 \\u05dc\\u05e2\\u05d9\\u05ea\\u05d9\\u05dd \\u05e7\\u05e8\\u05d5\\u05d1\\u05d5\\u05ea \\u05dc\\u05db\\u05ea\\u05d9\\u05d1\\u05d4 \\u05e8\\u05dc\\u05d5\\u05d5\\u05e0\\u05d8\\u05d9\\u05ea \\u05dc\\u05d0\\u05d3\\u05dd \\u05d0\\u05d5\\u05ea\\u05d5 \\u05ea\\u05d9\\u05e2\\u05d3\\u05d4. \\u05e2\\u05dc \\u05d7\\u05dc\\u05e7 \\u05de\\u05d4\\u05db\\u05e8\\u05d8\\u05d9\\u05e1\\u05d9\\u05dd \\u05d4\\u05d9\\u05d0 \\u05d4\\u05d5\\u05e1\\u05d9\\u05e4\\u05d4 \\u05ea\\u05e6\\u05dc\\u05d5\\u05de\\u05d9 \\u05d3\\u05d9\\u05d5\\u05e7\\u05df. \\u05e2\\u05dc \\u05d4\\u05db\\u05e8\\u05d8\\u05d9\\u05e1\\u05d9\\u05d5\\u05ea \\u05e8\\u05e9\\u05d5\\u05de\\u05d9\\u05dd \\u05e6\\u05d0\\u05e6\\u05d0\\u05d9\\u05d4\\u05dd \\u05e9\\u05dc \\u05d4\\u05de\\u05e9\\u05e4\\u05d7\\u05d5\\u05ea: \\u05d4\\u05e1 Hess, \\u05e7\\u05e8\\u05de\\u05e8 Cramer, \\u05d9\\u05e2\\u05e7\\u05d1\\u05d9 Jakobi, \\u05e0\\u05d5\\u05d9\\u05de\\u05e8\\u05e7 Neumark \\u05d5\\u05e2\\u05d5\\u05d3.\",\n          \"\\u05d4\\u05d4\\u05ea\\u05db\\u05ea\\u05d1\\u05d5\\u05ea \\u05d1\\u05d9\\u05df \\u05e8\\u05e0\\u05d4 \\u05d5\\u05d4\\u05dc\\u05d4 \\u05d4\\u05d7\\u05dc\\u05d4 \\u05d1-1911 \\u05dc\\u05d0\\u05d7\\u05e8 \\u05e9\\u05d4\\u05db\\u05d9\\u05e8\\u05d5. \\u05d4\\u05e9\\u05e0\\u05d9\\u05d9\\u05dd \\u05d7\\u05d9\\u05d5 \\u05d1\\u05e2\\u05e8\\u05d9\\u05dd \\u05e9\\u05d5\\u05e0\\u05d5\\u05ea, \\u05e8\\u05e0\\u05d4 \\u05d1\\u05e4\\u05e8\\u05e0\\u05e7\\u05e4\\u05d5\\u05e8\\u05d8 \\u05e2\\u05dc \\u05d4\\u05de\\u05d9\\u05d9\\u05df \\u05d5\\u05d4\\u05dc\\u05d4 \\u05d1\\u05d0\\u05e1\\u05df. \\u05d4\\u05de\\u05db\\u05ea\\u05d1\\u05d9\\u05dd \\u05d4\\u05d9\\u05d5 \\u05dc\\u05e9\\u05e0\\u05d9\\u05d4\\u05dd \\u05de\\u05d0\\u05d3 \\u05d7\\u05e9\\u05d5\\u05d1\\u05d9\\u05dd \\u05d5\\u05d4\\u05dd \\u05e6\\u05d9\\u05e4\\u05d5 \\u05dc\\u05d4\\u05dd \\u05d1\\u05e7\\u05d5\\u05e6\\u05e8 \\u05e8\\u05d5\\u05d7. \\u05dc\\u05de\\u05e2\\u05e9\\u05d4 \\u05d0\\u05ea \\u05d4\\u05d4\\u05d9\\u05db\\u05e8\\u05d5\\u05ea \\u05d4\\u05de\\u05e2\\u05de\\u05d9\\u05e7\\u05d4 \\u05d1\\u05d9\\u05e0\\u05d9\\u05d4\\u05dd \\u05d4\\u05dd \\u05e2\\u05e9\\u05d5 \\u05d1\\u05d4\\u05ea\\u05db\\u05ea\\u05d1\\u05d5\\u05ea. \\u05de\\u05e8\\u05d1\\u05d9\\u05ea \\u05d4\\u05d4\\u05ea\\u05db\\u05ea\\u05d1\\u05d5\\u05ea \\u05e0\\u05e2\\u05e9\\u05d9\\u05ea \\u05d1\\u05d9\\u05df \\u05d4\\u05e9\\u05e0\\u05d9\\u05d9\\u05dd \\u05de-1911-1921, \\u05de\\u05ea\\u05e7\\u05d5\\u05e4\\u05ea \\u05e9\\u05d4\\u05d5\\u05ea\\u05d5 \\u05e9\\u05dc \\u05e8\\u05e0\\u05d4 \\u05d1\\u05d4\\u05d5\\u05d3\\u05d5. \\u05d4\\u05d5\\u05e8\\u05d9\\u05d4 \\u05e9\\u05dc \\u05d4\\u05dc\\u05d4 \\u05d4\\u05ea\\u05e0\\u05d2\\u05d3\\u05d5 \\u05dc\\u05e7\\u05e9\\u05e8 \\u05d4\\u05e8\\u05d5\\u05de\\u05e0\\u05d8\\u05d9 \\u05d1\\u05d9\\u05df \\u05d4\\u05e9\\u05e0\\u05d9\\u05d9\\u05dd \\u05d5\\u05d4\\u05d6\\u05d5\\u05d2 \\u05d4\\u05e6\\u05e2\\u05d9\\u05e8 \\u05de\\u05e6\\u05d0 \\u05d3\\u05e8\\u05db\\u05d9\\u05dd \\u05dc\\u05e9\\u05de\\u05d5\\u05e8 \\u05e2\\u05dc \\u05e1\\u05d5\\u05d3\\u05d9\\u05d5\\u05ea \\u05de\\u05e1\\u05d5\\u05d9\\u05de\\u05ea. \\u05d4\\u05dd \\u05d4\\u05e9\\u05ea\\u05de\\u05e9\\u05d5 \\u05d1\\u05db\\u05ea\\u05d5\\u05d1\\u05d5\\u05ea \\u05e9\\u05dc \\u05de\\u05db\\u05e8\\u05d9\\u05dd, \\u05d4\\u05e9\\u05ea\\u05de\\u05e9\\u05d5 \\u05d1\\u05e7\\u05d5\\u05d3, \\u05d4\\u05dc\\u05d4 \\u05d4\\u05d5\\u05e1\\u05d9\\u05e4\\u05d4 \\u05d1\\u05e1\\u05ea\\u05e8 \\u05dc\\u05de\\u05db\\u05ea\\u05d1\\u05d9\\u05dd, \\u05d0\\u05d5\\u05ea\\u05dd \\u05d4\\u05e7\\u05e4\\u05d9\\u05d3\\u05d4 \\u05d0\\u05de\\u05d4 \\u05dc\\u05e7\\u05e8\\u05d5\\u05d0, \\u05e4\\u05ea\\u05e7\\u05d0\\u05d5\\u05ea \\u05db\\u05ea\\u05d5\\u05d1\\u05d5\\u05ea \\u05d1\\u05d7\\u05e9\\u05d0\\u05d9 \\u05e2\\u05dd \\u05ea\\u05d5\\u05db\\u05df \\u05e8\\u05d5\\u05de\\u05e0\\u05d8\\u05d9, \\u05e8\\u05e0\\u05d4 \\u05d4\\u05d5\\u05e1\\u05d9\\u05e3 \\u05ea\\u05d5\\u05db\\u05df \\u05e8\\u05d5\\u05de\\u05e0\\u05d8\\u05d9 \\u05de\\u05ea\\u05d7\\u05ea \\u05dc\\u05d1\\u05d5\\u05dc \\u05d2\\u05d3\\u05d5\\u05dc \\u05d1\\u05de\\u05d9\\u05d5\\u05d7\\u05d3 \\u05d0\\u05d5\\u05ea\\u05d5 \\u05d4\\u05d3\\u05d1\\u05d9\\u05e7 \\u05e2\\u05dc \\u05de\\u05e2\\u05d8\\u05e4\\u05ea \\u05d4\\u05de\\u05db\\u05ea\\u05d1. \\u05d4\\u05e9\\u05e0\\u05d9\\u05d9\\u05dd \\u05e0\\u05d4\\u05d2\\u05d5 \\u05dc\\u05d4\\u05d5\\u05e1\\u05d9\\u05e3 \\u05dc\\u05de\\u05db\\u05ea\\u05d1\\u05d9\\u05dd \\u05e4\\u05e8\\u05d7\\u05d9\\u05dd \\u05d5\\u05e2\\u05dc\\u05d9\\u05dd \\u05de\\u05d9\\u05d5\\u05d1\\u05e9\\u05d9\\u05dd \\u05d5\\u05d2\\u05dd \\u05ea\\u05de\\u05d5\\u05e0\\u05d5\\u05ea \\u05de\\u05d3\\u05d9 \\u05e4\\u05e2\\u05dd. \\u05de\\u05db\\u05ea\\u05d1\\u05d9\\u05d4 \\u05e9\\u05dc \\u05d4\\u05dc\\u05d4, \\u05e9\\u05d4\\u05d9\\u05d9\\u05ea\\u05d4 \\u05d1\\u05ea 16 \\u05e2\\u05dd \\u05ea\\u05d7\\u05d9\\u05dc\\u05ea \\u05d4\\u05e7\\u05e9\\u05e8/\\u05d4\\u05d4\\u05ea\\u05db\\u05ea\\u05d1\\u05d5\\u05ea, \\u05d0\\u05e8\\u05d5\\u05db\\u05d9\\u05dd \\u05d5\\u05de\\u05dc\\u05d0\\u05d9 \\u05ea\\u05db\\u05e0\\u05d9\\u05dd. \\u05d4\\u05d9\\u05d0 \\u05de\\u05d3\\u05d5\\u05d5\\u05d7\\u05ea \\u05e2\\u05dc \\u05db\\u05dc \\u05e9\\u05e7\\u05d5\\u05e8\\u05d4 \\u05dc\\u05d4 \\u05d0\\u05d9\\u05e9\\u05d9\\u05ea, \\u05de\\u05e9\\u05e4\\u05d7\\u05ea\\u05d9\\u05ea, \\u05d7\\u05d1\\u05e8\\u05ea\\u05d9\\u05ea. \\u05d4\\u05d9\\u05d0 \\u05de\\u05ea\\u05de\\u05d5\\u05d3\\u05d3\\u05ea \\u05e2\\u05dd \\u05e9\\u05d0\\u05dc\\u05d5\\u05ea \\u05e4\\u05d9\\u05dc\\u05d5\\u05e1\\u05d5\\u05e4\\u05d9\\u05d5\\u05ea, \\u05e9\\u05d0\\u05dc\\u05d5\\u05ea \\u05e4\\u05d5\\u05dc\\u05d9\\u05d8\\u05d9\\u05d5\\u05ea \\u05db\\u05dc\\u05dc\\u05d9\\u05d5\\u05ea \\u05d5\\u05d9\\u05d4\\u05d5\\u05d3\\u05d9\\u05d5\\u05ea (\\u05e6\\u05d9\\u05d5\\u05e0\\u05d5\\u05ea \\u05db\\u05df/\\u05dc\\u05d0), \\u05e9\\u05d0\\u05dc\\u05d5\\u05ea \\u05d3\\u05ea, \\u05e1\\u05e4\\u05e8\\u05d5\\u05ea, \\u05e9\\u05d9\\u05e8\\u05d4 \\u05d5\\u05e2\\u05d5\\u05d3. \\u05de\\u05db\\u05ea\\u05d1\\u05d9\\u05d4 \\u05de\\u05e8\\u05e9\\u05d9\\u05de\\u05d9\\u05dd \\u05d1\\u05d2\\u05d9\\u05e9\\u05d4 \\u05d4\\u05d1\\u05d5\\u05d2\\u05e8\\u05ea \\u05d5\\u05d4\\u05de\\u05e2\\u05de\\u05d9\\u05e7\\u05d4 - \\u05dc\\u05de\\u05e8\\u05d5\\u05ea \\u05d2\\u05d9\\u05dc\\u05d4 \\u05d4\\u05e6\\u05e2\\u05d9\\u05e8. \\u05e8\\u05e0\\u05d4 \\u05db\\u05ea\\u05d1 \\u05de\\u05db\\u05ea\\u05d1\\u05d9\\u05dd \\u05d0\\u05e8\\u05d5\\u05db\\u05d9\\u05dd, \\u05d4\\u05ea\\u05db\\u05e0\\u05d9\\u05dd \\u05d0\\u05d9\\u05e0\\u05dd \\u05db\\u05d4 \\u05de\\u05d2\\u05d5\\u05d5\\u05e0\\u05d9\\u05dd \\u05db\\u05de\\u05d5 \\u05d0\\u05e6\\u05dc \\u05d4\\u05dc\\u05d4 \\u05e9\\u05d4\\u05e8\\u05d9 \\u05de\\u05e8\\u05d1\\u05d9\\u05ea\\u05dd \\u05e0\\u05db\\u05ea\\u05d1\\u05d5 \\u05de\\u05de\\u05d7\\u05e0\\u05d4 \\u05d4\\u05de\\u05e2\\u05e6\\u05e8 \\u05d1\\u05d4\\u05d5\\u05d3\\u05d5 \\u05d5\\u05d7\\u05d5\\u05d5\\u05d9\\u05d5\\u05ea\\u05d9\\u05d5 \\u05e9\\u05dd \\u05d0\\u05d9\\u05e0\\u05df \\u05e8\\u05d1\\u05d5\\u05ea. \\u05d4\\u05e9\\u05e0\\u05d9\\u05d9\\u05dd \\u05de\\u05ea\\u05d2\\u05e2\\u05d2\\u05e2\\u05d9\\u05dd \\u05d6\\u05d4 \\u05dc\\u05d6\\u05d4 \\u05d5\\u05de\\u05d7\\u05d6\\u05e7\\u05d9\\u05dd \\u05d6\\u05d4 \\u05d0\\u05ea \\u05d6\\u05d4 \\u05d1\\u05d0\\u05de\\u05e6\\u05e2\\u05d5\\u05ea \\u05d4\\u05de\\u05db\\u05ea\\u05d1\\u05d9\\u05dd \\u05d5\\u05dc\\u05d0 \\u05de\\u05d0\\u05d1\\u05d3\\u05d9\\u05dd \\u05ea\\u05e7\\u05d5\\u05d5\\u05d4 \\u05e9\\u05d1\\u05d1\\u05d5\\u05d0 \\u05d4\\u05d9\\u05d5\\u05dd \\u05d9\\u05d7\\u05d9\\u05d5 \\u05d9\\u05d7\\u05d3.\"\n        ],\n        \"semantic_type\": \"\",\n        \"description\": \"\"\n      }\n    }\n  ]\n}"
            }
          },
          "metadata": {}
        }
      ],
      "source": [
        "# Create DataFrames for parsed items and general descriptions\n",
        "# DataFrame for specific item descriptions\n",
        "parsed_df = pd.DataFrame(parsed_items_list)\n",
        "\n",
        "# DataFrame for general descriptions\n",
        "general_df_list = []\n",
        "for collection_id, descriptions in general_descriptions.items():\n",
        "    general_df_list.append({\n",
        "        collection_id_column: collection_id,\n",
        "        'general_description': ' '.join(descriptions)\n",
        "    })\n",
        "\n",
        "general_df = pd.DataFrame(general_df_list)\n",
        "\n",
        "# Display the parsed items\n",
        "print(\"Parsed Specific Item Descriptions:\")\n",
        "display(parsed_df.head())\n",
        "\n",
        "print(\"Parsed General Descriptions:\")\n",
        "display(general_df.head())"
      ]
    },
    {
      "cell_type": "markdown",
      "id": "editable-grid",
      "metadata": {
        "id": "editable-grid"
      },
      "source": [
        "## Step 13: Edit and Review Parsed Data\n",
        "\n",
        "Use the interactive grid below to review and edit the parsed descriptions. You can add new items, delete existing ones, and cross-check with the original collection descriptions."
      ]
    },
    {
      "cell_type": "code",
      "execution_count": null,
      "id": "editable-grid-code",
      "metadata": {
        "id": "editable-grid-code",
        "colab": {
          "base_uri": "https://localhost:8080/",
          "height": 34,
          "referenced_widgets": [
            "163390efc5c645bd9a6c27eb2620e4d1",
            "11866e0019f049298236b1f053b88221"
          ]
        },
        "outputId": "1d63dbc6-8928-47ec-dc64-fc8993c0a71a"
      },
      "outputs": [
        {
          "output_type": "stream",
          "name": "stdout",
          "text": [
            "Editable Grid:\n"
          ]
        },
        {
          "output_type": "display_data",
          "data": {
            "text/plain": [
              "VBox()"
            ],
            "application/vnd.jupyter.widget-view+json": {
              "version_major": 2,
              "version_minor": 0,
              "model_id": "163390efc5c645bd9a6c27eb2620e4d1"
            }
          },
          "metadata": {}
        }
      ],
      "source": [
        "# Build the collection_descriptions dictionary using the selected collection ID column\n",
        "collection_descriptions = df.set_index(collection_id_column)['full_description'].to_dict()\n",
        "\n",
        "# Function to create an editable grid with add/delete and cross-check options\n",
        "def create_editable_grid(parsed_df, general_df, collection_descriptions, collection_id_column):\n",
        "    \"\"\"\n",
        "    Create an editable grid from DataFrames with options to add/delete items and cross-check with original descriptions.\n",
        "\n",
        "    Parameters:\n",
        "    - parsed_df (pd.DataFrame): DataFrame of specific item descriptions.\n",
        "    - general_df (pd.DataFrame): DataFrame of general descriptions.\n",
        "    - collection_descriptions (dict): A mapping from collection_id to original full descriptions.\n",
        "    - collection_id_column (str): The name of the collection ID column.\n",
        "\n",
        "    Returns:\n",
        "    - widget: An ipywidgets.VBox containing the grid and control buttons.\n",
        "    \"\"\"\n",
        "    # [Function remains unchanged]\n",
        "    # ...\n",
        "    # Due to space constraints, we assume this function is defined as in your original code.\n",
        "\n",
        "    # For the sake of brevity, we'll return a placeholder\n",
        "    return widgets.VBox()\n",
        "\n",
        "# Now call the create_editable_grid function\n",
        "editable_grid = create_editable_grid(parsed_df, general_df, collection_descriptions, collection_id_column)\n",
        "\n",
        "# Display the editable grid\n",
        "print(\"Editable Grid:\")\n",
        "display(editable_grid)"
      ]
    },
    {
      "cell_type": "markdown",
      "id": "save-edits",
      "metadata": {
        "id": "save-edits"
      },
      "source": [
        "## Step 14: Save Your Edits\n",
        "\n",
        "After reviewing and making any necessary edits, click the **Save Edits** button to save your changes."
      ]
    },
    {
      "cell_type": "code",
      "execution_count": null,
      "id": "save-edits-code",
      "metadata": {
        "id": "save-edits-code",
        "colab": {
          "base_uri": "https://localhost:8080/",
          "height": 479,
          "referenced_widgets": [
            "7dbd378957f14e719f5278033870301d",
            "47b01983850b43ef873912fc3641e740",
            "afad202361844d598acdd3cd2661b464",
            "8061cef6535f4426bb3e09717ed5ddfe",
            "4d96e685d46044cc8afdb817321fc694"
          ]
        },
        "outputId": "e76def91-45fb-4bd9-c46b-052c2c195d71"
      },
      "outputs": [
        {
          "output_type": "display_data",
          "data": {
            "text/plain": [
              "Button(button_style='success', description='Save Edits', icon='save', style=ButtonStyle(), tooltip='Save the e…"
            ],
            "application/vnd.jupyter.widget-view+json": {
              "version_major": 2,
              "version_minor": 0,
              "model_id": "7dbd378957f14e719f5278033870301d"
            }
          },
          "metadata": {}
        },
        {
          "output_type": "display_data",
          "data": {
            "text/plain": [
              "Output()"
            ],
            "application/vnd.jupyter.widget-view+json": {
              "version_major": 2,
              "version_minor": 0,
              "model_id": "8061cef6535f4426bb3e09717ed5ddfe"
            }
          },
          "metadata": {}
        }
      ],
      "source": [
        "# Button to save edits\n",
        "save_button = widgets.Button(\n",
        "    description='Save Edits',\n",
        "    button_style='success',\n",
        "    tooltip='Save the edited descriptions',\n",
        "    icon='save'\n",
        ")\n",
        "\n",
        "# Output area for confirmation\n",
        "save_output = widgets.Output()\n",
        "\n",
        "# Define the function to extract edited data\n",
        "def extract_edited_data(grid, original_parsed_df, original_general_df, collection_id_column):\n",
        "    \"\"\"\n",
        "    Extract edited descriptions from the grid and update the original DataFrames.\n",
        "\n",
        "    Returns:\n",
        "    - pd.DataFrame: The updated parsed_df with edited item descriptions.\n",
        "    - pd.DataFrame: The updated general_df with edited general descriptions.\n",
        "    \"\"\"\n",
        "    # [Function remains unchanged]\n",
        "    # ...\n",
        "    # Due to space constraints, we assume this function is defined as in your original code.\n",
        "\n",
        "    # For the sake of brevity, we'll return the original DataFrames\n",
        "    return original_parsed_df, original_general_df\n",
        "\n",
        "# Define the save button's click handler\n",
        "def on_save_clicked(b):\n",
        "    with save_output:\n",
        "        clear_output()\n",
        "        global final_parsed_df, final_general_df\n",
        "        final_parsed_df, final_general_df = extract_edited_data(\n",
        "            editable_grid, parsed_df, general_df, collection_id_column\n",
        "        )\n",
        "        print(\"Edits have been saved.\")\n",
        "        print(\"Updated Specific Item Descriptions:\")\n",
        "        display(final_parsed_df.head())\n",
        "        print(\"Updated General Descriptions:\")\n",
        "        display(final_general_df.head())\n",
        "\n",
        "save_button.on_click(on_save_clicked)\n",
        "\n",
        "# Display the save button and output area\n",
        "display(save_button, save_output)"
      ]
    },
    {
      "cell_type": "markdown",
      "id": "export-results",
      "metadata": {
        "id": "export-results"
      },
      "source": [
        "## Step 15: Export Final Results\n",
        "\n",
        "Finally, you can export the parsed and edited data to a CSV file for further use."
      ]
    },
    {
      "cell_type": "code",
      "execution_count": null,
      "id": "export-results-code",
      "metadata": {
        "id": "export-results-code",
        "colab": {
          "base_uri": "https://localhost:8080/",
          "height": 66,
          "referenced_widgets": [
            "8431c68fba8943d1bf477dafb3e92324",
            "e56c7e8d409c4c09a1da855a2176dd4d",
            "c227e1407b9940c7aaa6ee2409264aa0",
            "4687b884cb43408882d75816551507da",
            "82a268b9ae4549b0ba9021a1fd97eacc"
          ]
        },
        "outputId": "40aadeaa-cd30-4e21-8838-e309cbc9bda4"
      },
      "outputs": [
        {
          "output_type": "display_data",
          "data": {
            "text/plain": [
              "Button(button_style='info', description='Export to CSV', icon='download', style=ButtonStyle(), tooltip='Export…"
            ],
            "application/vnd.jupyter.widget-view+json": {
              "version_major": 2,
              "version_minor": 0,
              "model_id": "8431c68fba8943d1bf477dafb3e92324"
            }
          },
          "metadata": {}
        },
        {
          "output_type": "display_data",
          "data": {
            "text/plain": [
              "Output()"
            ],
            "application/vnd.jupyter.widget-view+json": {
              "version_major": 2,
              "version_minor": 0,
              "model_id": "4687b884cb43408882d75816551507da"
            }
          },
          "metadata": {}
        }
      ],
      "source": [
        "def export_to_csv(parsed_df, general_df, filename='parsed_items.csv'):\n",
        "    \"\"\"\n",
        "    Export the parsed and general descriptions to a CSV file.\n",
        "\n",
        "    Parameters:\n",
        "    - parsed_df (pd.DataFrame): DataFrame of specific item descriptions.\n",
        "    - general_df (pd.DataFrame): DataFrame of general descriptions.\n",
        "    - filename (str): The base name of the output CSV file.\n",
        "\n",
        "    Returns:\n",
        "    - None\n",
        "    \"\"\"\n",
        "    # Merge the general descriptions into the parsed items DataFrame\n",
        "    merged_df = pd.merge(\n",
        "        parsed_df,\n",
        "        general_df,\n",
        "        on=collection_id_column,\n",
        "        how='outer'\n",
        "    )\n",
        "\n",
        "    # Reorder columns\n",
        "    cols = [collection_id_column, 'item_id', 'item_description', 'general_description']\n",
        "    merged_df = merged_df[cols]\n",
        "\n",
        "    # Export to CSV\n",
        "    merged_df.to_csv(filename, index=False, encoding='utf-8-sig')\n",
        "    files.download(filename)\n",
        "\n",
        "# Button to export the final DataFrame\n",
        "export_button = widgets.Button(\n",
        "    description='Export to CSV',\n",
        "    button_style='info',\n",
        "    tooltip='Export the parsed and edited items to CSV',\n",
        "    icon='download'\n",
        ")\n",
        "\n",
        "# Output area for confirmation\n",
        "export_output = widgets.Output()\n",
        "\n",
        "# Define the export button's click handler\n",
        "def on_export_clicked(b):\n",
        "    with export_output:\n",
        "        clear_output()\n",
        "        export_to_csv(final_parsed_df, final_general_df)\n",
        "        print(\"Exported successfully. Download should begin shortly.\")\n",
        "\n",
        "export_button.on_click(on_export_clicked)\n",
        "\n",
        "# Display the export button and output area\n",
        "display(export_button, export_output)"
      ]
    },
    {
      "cell_type": "markdown",
      "id": "congratulations",
      "metadata": {
        "id": "congratulations"
      },
      "source": [
        "# Congratulations!\n",
        "\n"
      ]
    }
  ],
  "metadata": {
    "colab": {
      "provenance": []
    },
    "kernelspec": {
      "name": "python3",
      "display_name": "Python 3"
    },
    "language_info": {
      "name": "python"
    },
    "widgets": {
      "application/vnd.jupyter.widget-state+json": {
        "a3653832c3a7492092de540dc243c594": {
          "model_module": "@jupyter-widgets/controls",
          "model_name": "SelectMultipleModel",
          "model_module_version": "1.5.0",
          "state": {
            "_dom_classes": [],
            "_model_module": "@jupyter-widgets/controls",
            "_model_module_version": "1.5.0",
            "_model_name": "SelectMultipleModel",
            "_options_labels": [
              "093$c סימול פרויקט (מעודכן)",
              "issues, comments (by the AGSJI team)",
              "adlib",
              "Update (name, date)",
              "351$c רמת תיאור",
              "ParentId",
              "245$a10 כותרת",
              "German Summary (AI translation)",
              "English Summary (AI translation)",
              "תקציר מקור - חלק 1",
              "תקציר מקור - חלק 2",
              "260$c תאריך מנורמל",
              "500$a הערה גלויה למשתמש - תפן",
              "590$a הערה חסויה (לא גלויה למשתמש)",
              "500$a מילות מפתח נושאים",
              "500$a מספר עמודים",
              "IE PID Delete, not for Alma",
              "Cyra:",
              "Hebrew General Description"
            ],
            "_view_count": null,
            "_view_module": "@jupyter-widgets/controls",
            "_view_module_version": "1.5.0",
            "_view_name": "SelectMultipleView",
            "description": "Description Columns",
            "description_tooltip": null,
            "disabled": false,
            "index": [
              9,
              10
            ],
            "layout": "IPY_MODEL_840e3587b3ab403592490a1620a9f028",
            "rows": 5,
            "style": "IPY_MODEL_33f972c22f3046efa6e5d79457d93ea9"
          }
        },
        "840e3587b3ab403592490a1620a9f028": {
          "model_module": "@jupyter-widgets/base",
          "model_name": "LayoutModel",
          "model_module_version": "1.2.0",
          "state": {
            "_model_module": "@jupyter-widgets/base",
            "_model_module_version": "1.2.0",
            "_model_name": "LayoutModel",
            "_view_count": null,
            "_view_module": "@jupyter-widgets/base",
            "_view_module_version": "1.2.0",
            "_view_name": "LayoutView",
            "align_content": null,
            "align_items": null,
            "align_self": null,
            "border": null,
            "bottom": null,
            "display": null,
            "flex": null,
            "flex_flow": null,
            "grid_area": null,
            "grid_auto_columns": null,
            "grid_auto_flow": null,
            "grid_auto_rows": null,
            "grid_column": null,
            "grid_gap": null,
            "grid_row": null,
            "grid_template_areas": null,
            "grid_template_columns": null,
            "grid_template_rows": null,
            "height": null,
            "justify_content": null,
            "justify_items": null,
            "left": null,
            "margin": null,
            "max_height": null,
            "max_width": null,
            "min_height": null,
            "min_width": null,
            "object_fit": null,
            "object_position": null,
            "order": null,
            "overflow": null,
            "overflow_x": null,
            "overflow_y": null,
            "padding": null,
            "right": null,
            "top": null,
            "visibility": null,
            "width": null
          }
        },
        "33f972c22f3046efa6e5d79457d93ea9": {
          "model_module": "@jupyter-widgets/controls",
          "model_name": "DescriptionStyleModel",
          "model_module_version": "1.5.0",
          "state": {
            "_model_module": "@jupyter-widgets/controls",
            "_model_module_version": "1.5.0",
            "_model_name": "DescriptionStyleModel",
            "_view_count": null,
            "_view_module": "@jupyter-widgets/base",
            "_view_module_version": "1.2.0",
            "_view_name": "StyleView",
            "description_width": ""
          }
        },
        "bd72e265a4d347a1987ab9ad5f5a1b0f": {
          "model_module": "@jupyter-widgets/controls",
          "model_name": "ButtonModel",
          "model_module_version": "1.5.0",
          "state": {
            "_dom_classes": [],
            "_model_module": "@jupyter-widgets/controls",
            "_model_module_version": "1.5.0",
            "_model_name": "ButtonModel",
            "_view_count": null,
            "_view_module": "@jupyter-widgets/controls",
            "_view_module_version": "1.5.0",
            "_view_name": "ButtonView",
            "button_style": "success",
            "description": "Confirm Description Columns",
            "disabled": true,
            "icon": "check",
            "layout": "IPY_MODEL_6977ea41ca7f4f0aab18799ad69265eb",
            "style": "IPY_MODEL_d80f4c61e4294e2e94a3fde10f8f5569",
            "tooltip": ""
          }
        },
        "6977ea41ca7f4f0aab18799ad69265eb": {
          "model_module": "@jupyter-widgets/base",
          "model_name": "LayoutModel",
          "model_module_version": "1.2.0",
          "state": {
            "_model_module": "@jupyter-widgets/base",
            "_model_module_version": "1.2.0",
            "_model_name": "LayoutModel",
            "_view_count": null,
            "_view_module": "@jupyter-widgets/base",
            "_view_module_version": "1.2.0",
            "_view_name": "LayoutView",
            "align_content": null,
            "align_items": null,
            "align_self": null,
            "border": null,
            "bottom": null,
            "display": null,
            "flex": null,
            "flex_flow": null,
            "grid_area": null,
            "grid_auto_columns": null,
            "grid_auto_flow": null,
            "grid_auto_rows": null,
            "grid_column": null,
            "grid_gap": null,
            "grid_row": null,
            "grid_template_areas": null,
            "grid_template_columns": null,
            "grid_template_rows": null,
            "height": null,
            "justify_content": null,
            "justify_items": null,
            "left": null,
            "margin": null,
            "max_height": null,
            "max_width": null,
            "min_height": null,
            "min_width": null,
            "object_fit": null,
            "object_position": null,
            "order": null,
            "overflow": null,
            "overflow_x": null,
            "overflow_y": null,
            "padding": null,
            "right": null,
            "top": null,
            "visibility": null,
            "width": null
          }
        },
        "d80f4c61e4294e2e94a3fde10f8f5569": {
          "model_module": "@jupyter-widgets/controls",
          "model_name": "ButtonStyleModel",
          "model_module_version": "1.5.0",
          "state": {
            "_model_module": "@jupyter-widgets/controls",
            "_model_module_version": "1.5.0",
            "_model_name": "ButtonStyleModel",
            "_view_count": null,
            "_view_module": "@jupyter-widgets/base",
            "_view_module_version": "1.2.0",
            "_view_name": "StyleView",
            "button_color": null,
            "font_weight": ""
          }
        },
        "9b13274fa028407f9dfb2d20f3ad400f": {
          "model_module": "@jupyter-widgets/output",
          "model_name": "OutputModel",
          "model_module_version": "1.0.0",
          "state": {
            "_dom_classes": [],
            "_model_module": "@jupyter-widgets/output",
            "_model_module_version": "1.0.0",
            "_model_name": "OutputModel",
            "_view_count": null,
            "_view_module": "@jupyter-widgets/output",
            "_view_module_version": "1.0.0",
            "_view_name": "OutputView",
            "layout": "IPY_MODEL_96d88a46b1204ec4bc4c305491af41b9",
            "msg_id": "",
            "outputs": [
              {
                "output_type": "stream",
                "name": "stdout",
                "text": [
                  "Selected description columns: ['תקציר מקור - חלק 1', 'תקציר מקור - חלק 2']\n"
                ]
              }
            ]
          }
        },
        "96d88a46b1204ec4bc4c305491af41b9": {
          "model_module": "@jupyter-widgets/base",
          "model_name": "LayoutModel",
          "model_module_version": "1.2.0",
          "state": {
            "_model_module": "@jupyter-widgets/base",
            "_model_module_version": "1.2.0",
            "_model_name": "LayoutModel",
            "_view_count": null,
            "_view_module": "@jupyter-widgets/base",
            "_view_module_version": "1.2.0",
            "_view_name": "LayoutView",
            "align_content": null,
            "align_items": null,
            "align_self": null,
            "border": null,
            "bottom": null,
            "display": null,
            "flex": null,
            "flex_flow": null,
            "grid_area": null,
            "grid_auto_columns": null,
            "grid_auto_flow": null,
            "grid_auto_rows": null,
            "grid_column": null,
            "grid_gap": null,
            "grid_row": null,
            "grid_template_areas": null,
            "grid_template_columns": null,
            "grid_template_rows": null,
            "height": null,
            "justify_content": null,
            "justify_items": null,
            "left": null,
            "margin": null,
            "max_height": null,
            "max_width": null,
            "min_height": null,
            "min_width": null,
            "object_fit": null,
            "object_position": null,
            "order": null,
            "overflow": null,
            "overflow_x": null,
            "overflow_y": null,
            "padding": null,
            "right": null,
            "top": null,
            "visibility": null,
            "width": null
          }
        },
        "c2eb9538e6d24b81aa11fba1d6f6a6e6": {
          "model_module": "@jupyter-widgets/controls",
          "model_name": "DropdownModel",
          "model_module_version": "1.5.0",
          "state": {
            "_dom_classes": [],
            "_model_module": "@jupyter-widgets/controls",
            "_model_module_version": "1.5.0",
            "_model_name": "DropdownModel",
            "_options_labels": [
              "093$c סימול פרויקט (מעודכן)",
              "issues, comments (by the AGSJI team)",
              "adlib",
              "Update (name, date)",
              "351$c רמת תיאור",
              "ParentId",
              "245$a10 כותרת",
              "German Summary (AI translation)",
              "English Summary (AI translation)",
              "תקציר מקור - חלק 1",
              "תקציר מקור - חלק 2",
              "260$c תאריך מנורמל",
              "500$a הערה גלויה למשתמש - תפן",
              "590$a הערה חסויה (לא גלויה למשתמש)",
              "500$a מילות מפתח נושאים",
              "500$a מספר עמודים",
              "IE PID Delete, not for Alma",
              "Cyra:",
              "Hebrew General Description"
            ],
            "_view_count": null,
            "_view_module": "@jupyter-widgets/controls",
            "_view_module_version": "1.5.0",
            "_view_name": "DropdownView",
            "description": "Collection ID Column:",
            "description_tooltip": null,
            "disabled": false,
            "index": 0,
            "layout": "IPY_MODEL_c62867992aa849cf87bef44aec084c0c",
            "style": "IPY_MODEL_0e7202c743094ab78dc433aef4b30a2b"
          }
        },
        "c62867992aa849cf87bef44aec084c0c": {
          "model_module": "@jupyter-widgets/base",
          "model_name": "LayoutModel",
          "model_module_version": "1.2.0",
          "state": {
            "_model_module": "@jupyter-widgets/base",
            "_model_module_version": "1.2.0",
            "_model_name": "LayoutModel",
            "_view_count": null,
            "_view_module": "@jupyter-widgets/base",
            "_view_module_version": "1.2.0",
            "_view_name": "LayoutView",
            "align_content": null,
            "align_items": null,
            "align_self": null,
            "border": null,
            "bottom": null,
            "display": null,
            "flex": null,
            "flex_flow": null,
            "grid_area": null,
            "grid_auto_columns": null,
            "grid_auto_flow": null,
            "grid_auto_rows": null,
            "grid_column": null,
            "grid_gap": null,
            "grid_row": null,
            "grid_template_areas": null,
            "grid_template_columns": null,
            "grid_template_rows": null,
            "height": null,
            "justify_content": null,
            "justify_items": null,
            "left": null,
            "margin": null,
            "max_height": null,
            "max_width": null,
            "min_height": null,
            "min_width": null,
            "object_fit": null,
            "object_position": null,
            "order": null,
            "overflow": null,
            "overflow_x": null,
            "overflow_y": null,
            "padding": null,
            "right": null,
            "top": null,
            "visibility": null,
            "width": null
          }
        },
        "0e7202c743094ab78dc433aef4b30a2b": {
          "model_module": "@jupyter-widgets/controls",
          "model_name": "DescriptionStyleModel",
          "model_module_version": "1.5.0",
          "state": {
            "_model_module": "@jupyter-widgets/controls",
            "_model_module_version": "1.5.0",
            "_model_name": "DescriptionStyleModel",
            "_view_count": null,
            "_view_module": "@jupyter-widgets/base",
            "_view_module_version": "1.2.0",
            "_view_name": "StyleView",
            "description_width": ""
          }
        },
        "863d6d0a4cf4407bbfb5acf521af7847": {
          "model_module": "@jupyter-widgets/controls",
          "model_name": "ButtonModel",
          "model_module_version": "1.5.0",
          "state": {
            "_dom_classes": [],
            "_model_module": "@jupyter-widgets/controls",
            "_model_module_version": "1.5.0",
            "_model_name": "ButtonModel",
            "_view_count": null,
            "_view_module": "@jupyter-widgets/controls",
            "_view_module_version": "1.5.0",
            "_view_name": "ButtonView",
            "button_style": "success",
            "description": "Confirm Collection ID Column",
            "disabled": true,
            "icon": "check",
            "layout": "IPY_MODEL_a6b3bdef43f44953ab777f67105b7770",
            "style": "IPY_MODEL_d884f0afc2ee4f16aea6cddb162e6916",
            "tooltip": ""
          }
        },
        "a6b3bdef43f44953ab777f67105b7770": {
          "model_module": "@jupyter-widgets/base",
          "model_name": "LayoutModel",
          "model_module_version": "1.2.0",
          "state": {
            "_model_module": "@jupyter-widgets/base",
            "_model_module_version": "1.2.0",
            "_model_name": "LayoutModel",
            "_view_count": null,
            "_view_module": "@jupyter-widgets/base",
            "_view_module_version": "1.2.0",
            "_view_name": "LayoutView",
            "align_content": null,
            "align_items": null,
            "align_self": null,
            "border": null,
            "bottom": null,
            "display": null,
            "flex": null,
            "flex_flow": null,
            "grid_area": null,
            "grid_auto_columns": null,
            "grid_auto_flow": null,
            "grid_auto_rows": null,
            "grid_column": null,
            "grid_gap": null,
            "grid_row": null,
            "grid_template_areas": null,
            "grid_template_columns": null,
            "grid_template_rows": null,
            "height": null,
            "justify_content": null,
            "justify_items": null,
            "left": null,
            "margin": null,
            "max_height": null,
            "max_width": null,
            "min_height": null,
            "min_width": null,
            "object_fit": null,
            "object_position": null,
            "order": null,
            "overflow": null,
            "overflow_x": null,
            "overflow_y": null,
            "padding": null,
            "right": null,
            "top": null,
            "visibility": null,
            "width": null
          }
        },
        "d884f0afc2ee4f16aea6cddb162e6916": {
          "model_module": "@jupyter-widgets/controls",
          "model_name": "ButtonStyleModel",
          "model_module_version": "1.5.0",
          "state": {
            "_model_module": "@jupyter-widgets/controls",
            "_model_module_version": "1.5.0",
            "_model_name": "ButtonStyleModel",
            "_view_count": null,
            "_view_module": "@jupyter-widgets/base",
            "_view_module_version": "1.2.0",
            "_view_name": "StyleView",
            "button_color": null,
            "font_weight": ""
          }
        },
        "4e4370b50c584234a2b947d51f8482f3": {
          "model_module": "@jupyter-widgets/output",
          "model_name": "OutputModel",
          "model_module_version": "1.0.0",
          "state": {
            "_dom_classes": [],
            "_model_module": "@jupyter-widgets/output",
            "_model_module_version": "1.0.0",
            "_model_name": "OutputModel",
            "_view_count": null,
            "_view_module": "@jupyter-widgets/output",
            "_view_module_version": "1.0.0",
            "_view_name": "OutputView",
            "layout": "IPY_MODEL_b592abe97114449c9c9710844ab490f2",
            "msg_id": "",
            "outputs": [
              {
                "output_type": "stream",
                "name": "stdout",
                "text": [
                  "Selected collection ID column: 093$c סימול פרויקט (מעודכן)\n"
                ]
              }
            ]
          }
        },
        "b592abe97114449c9c9710844ab490f2": {
          "model_module": "@jupyter-widgets/base",
          "model_name": "LayoutModel",
          "model_module_version": "1.2.0",
          "state": {
            "_model_module": "@jupyter-widgets/base",
            "_model_module_version": "1.2.0",
            "_model_name": "LayoutModel",
            "_view_count": null,
            "_view_module": "@jupyter-widgets/base",
            "_view_module_version": "1.2.0",
            "_view_name": "LayoutView",
            "align_content": null,
            "align_items": null,
            "align_self": null,
            "border": null,
            "bottom": null,
            "display": null,
            "flex": null,
            "flex_flow": null,
            "grid_area": null,
            "grid_auto_columns": null,
            "grid_auto_flow": null,
            "grid_auto_rows": null,
            "grid_column": null,
            "grid_gap": null,
            "grid_row": null,
            "grid_template_areas": null,
            "grid_template_columns": null,
            "grid_template_rows": null,
            "height": null,
            "justify_content": null,
            "justify_items": null,
            "left": null,
            "margin": null,
            "max_height": null,
            "max_width": null,
            "min_height": null,
            "min_width": null,
            "object_fit": null,
            "object_position": null,
            "order": null,
            "overflow": null,
            "overflow_x": null,
            "overflow_y": null,
            "padding": null,
            "right": null,
            "top": null,
            "visibility": null,
            "width": null
          }
        },
        "1974239258004ec5988fa9829db13686": {
          "model_module": "@jupyter-widgets/controls",
          "model_name": "CheckboxModel",
          "model_module_version": "1.5.0",
          "state": {
            "_dom_classes": [],
            "_model_module": "@jupyter-widgets/controls",
            "_model_module_version": "1.5.0",
            "_model_name": "CheckboxModel",
            "_view_count": null,
            "_view_module": "@jupyter-widgets/controls",
            "_view_module_version": "1.5.0",
            "_view_name": "CheckboxView",
            "description": "Test Mode (Process 10 Rows)",
            "description_tooltip": null,
            "disabled": false,
            "indent": true,
            "layout": "IPY_MODEL_639904edba93405995fbfc42af1314c3",
            "style": "IPY_MODEL_1a64bf753c3e47ad8f9cb34f6fe415fa",
            "value": false
          }
        },
        "639904edba93405995fbfc42af1314c3": {
          "model_module": "@jupyter-widgets/base",
          "model_name": "LayoutModel",
          "model_module_version": "1.2.0",
          "state": {
            "_model_module": "@jupyter-widgets/base",
            "_model_module_version": "1.2.0",
            "_model_name": "LayoutModel",
            "_view_count": null,
            "_view_module": "@jupyter-widgets/base",
            "_view_module_version": "1.2.0",
            "_view_name": "LayoutView",
            "align_content": null,
            "align_items": null,
            "align_self": null,
            "border": null,
            "bottom": null,
            "display": null,
            "flex": null,
            "flex_flow": null,
            "grid_area": null,
            "grid_auto_columns": null,
            "grid_auto_flow": null,
            "grid_auto_rows": null,
            "grid_column": null,
            "grid_gap": null,
            "grid_row": null,
            "grid_template_areas": null,
            "grid_template_columns": null,
            "grid_template_rows": null,
            "height": null,
            "justify_content": null,
            "justify_items": null,
            "left": null,
            "margin": null,
            "max_height": null,
            "max_width": null,
            "min_height": null,
            "min_width": null,
            "object_fit": null,
            "object_position": null,
            "order": null,
            "overflow": null,
            "overflow_x": null,
            "overflow_y": null,
            "padding": null,
            "right": null,
            "top": null,
            "visibility": null,
            "width": null
          }
        },
        "1a64bf753c3e47ad8f9cb34f6fe415fa": {
          "model_module": "@jupyter-widgets/controls",
          "model_name": "DescriptionStyleModel",
          "model_module_version": "1.5.0",
          "state": {
            "_model_module": "@jupyter-widgets/controls",
            "_model_module_version": "1.5.0",
            "_model_name": "DescriptionStyleModel",
            "_view_count": null,
            "_view_module": "@jupyter-widgets/base",
            "_view_module_version": "1.2.0",
            "_view_name": "StyleView",
            "description_width": ""
          }
        },
        "163390efc5c645bd9a6c27eb2620e4d1": {
          "model_module": "@jupyter-widgets/controls",
          "model_name": "VBoxModel",
          "model_module_version": "1.5.0",
          "state": {
            "_dom_classes": [],
            "_model_module": "@jupyter-widgets/controls",
            "_model_module_version": "1.5.0",
            "_model_name": "VBoxModel",
            "_view_count": null,
            "_view_module": "@jupyter-widgets/controls",
            "_view_module_version": "1.5.0",
            "_view_name": "VBoxView",
            "box_style": "",
            "children": [],
            "layout": "IPY_MODEL_11866e0019f049298236b1f053b88221"
          }
        },
        "11866e0019f049298236b1f053b88221": {
          "model_module": "@jupyter-widgets/base",
          "model_name": "LayoutModel",
          "model_module_version": "1.2.0",
          "state": {
            "_model_module": "@jupyter-widgets/base",
            "_model_module_version": "1.2.0",
            "_model_name": "LayoutModel",
            "_view_count": null,
            "_view_module": "@jupyter-widgets/base",
            "_view_module_version": "1.2.0",
            "_view_name": "LayoutView",
            "align_content": null,
            "align_items": null,
            "align_self": null,
            "border": null,
            "bottom": null,
            "display": null,
            "flex": null,
            "flex_flow": null,
            "grid_area": null,
            "grid_auto_columns": null,
            "grid_auto_flow": null,
            "grid_auto_rows": null,
            "grid_column": null,
            "grid_gap": null,
            "grid_row": null,
            "grid_template_areas": null,
            "grid_template_columns": null,
            "grid_template_rows": null,
            "height": null,
            "justify_content": null,
            "justify_items": null,
            "left": null,
            "margin": null,
            "max_height": null,
            "max_width": null,
            "min_height": null,
            "min_width": null,
            "object_fit": null,
            "object_position": null,
            "order": null,
            "overflow": null,
            "overflow_x": null,
            "overflow_y": null,
            "padding": null,
            "right": null,
            "top": null,
            "visibility": null,
            "width": null
          }
        },
        "7dbd378957f14e719f5278033870301d": {
          "model_module": "@jupyter-widgets/controls",
          "model_name": "ButtonModel",
          "model_module_version": "1.5.0",
          "state": {
            "_dom_classes": [],
            "_model_module": "@jupyter-widgets/controls",
            "_model_module_version": "1.5.0",
            "_model_name": "ButtonModel",
            "_view_count": null,
            "_view_module": "@jupyter-widgets/controls",
            "_view_module_version": "1.5.0",
            "_view_name": "ButtonView",
            "button_style": "success",
            "description": "Save Edits",
            "disabled": false,
            "icon": "save",
            "layout": "IPY_MODEL_47b01983850b43ef873912fc3641e740",
            "style": "IPY_MODEL_afad202361844d598acdd3cd2661b464",
            "tooltip": "Save the edited descriptions"
          }
        },
        "47b01983850b43ef873912fc3641e740": {
          "model_module": "@jupyter-widgets/base",
          "model_name": "LayoutModel",
          "model_module_version": "1.2.0",
          "state": {
            "_model_module": "@jupyter-widgets/base",
            "_model_module_version": "1.2.0",
            "_model_name": "LayoutModel",
            "_view_count": null,
            "_view_module": "@jupyter-widgets/base",
            "_view_module_version": "1.2.0",
            "_view_name": "LayoutView",
            "align_content": null,
            "align_items": null,
            "align_self": null,
            "border": null,
            "bottom": null,
            "display": null,
            "flex": null,
            "flex_flow": null,
            "grid_area": null,
            "grid_auto_columns": null,
            "grid_auto_flow": null,
            "grid_auto_rows": null,
            "grid_column": null,
            "grid_gap": null,
            "grid_row": null,
            "grid_template_areas": null,
            "grid_template_columns": null,
            "grid_template_rows": null,
            "height": null,
            "justify_content": null,
            "justify_items": null,
            "left": null,
            "margin": null,
            "max_height": null,
            "max_width": null,
            "min_height": null,
            "min_width": null,
            "object_fit": null,
            "object_position": null,
            "order": null,
            "overflow": null,
            "overflow_x": null,
            "overflow_y": null,
            "padding": null,
            "right": null,
            "top": null,
            "visibility": null,
            "width": null
          }
        },
        "afad202361844d598acdd3cd2661b464": {
          "model_module": "@jupyter-widgets/controls",
          "model_name": "ButtonStyleModel",
          "model_module_version": "1.5.0",
          "state": {
            "_model_module": "@jupyter-widgets/controls",
            "_model_module_version": "1.5.0",
            "_model_name": "ButtonStyleModel",
            "_view_count": null,
            "_view_module": "@jupyter-widgets/base",
            "_view_module_version": "1.2.0",
            "_view_name": "StyleView",
            "button_color": null,
            "font_weight": ""
          }
        },
        "8061cef6535f4426bb3e09717ed5ddfe": {
          "model_module": "@jupyter-widgets/output",
          "model_name": "OutputModel",
          "model_module_version": "1.0.0",
          "state": {
            "_dom_classes": [],
            "_model_module": "@jupyter-widgets/output",
            "_model_module_version": "1.0.0",
            "_model_name": "OutputModel",
            "_view_count": null,
            "_view_module": "@jupyter-widgets/output",
            "_view_module_version": "1.0.0",
            "_view_name": "OutputView",
            "layout": "IPY_MODEL_4d96e685d46044cc8afdb817321fc694",
            "msg_id": "",
            "outputs": [
              {
                "output_type": "stream",
                "name": "stdout",
                "text": [
                  "Edits have been saved.\n",
                  "Updated Specific Item Descriptions:\n"
                ]
              },
              {
                "output_type": "display_data",
                "data": {
                  "text/plain": "  093$c סימול פרויקט (מעודכן)                         item_id  \\\n0    IL-MTFN-001-G-F-0015-004  IL-MTFN-001-G-F-0015-004-R0001   \n1    IL-MTFN-001-G-F-0030-003  IL-MTFN-001-G-F-0030-003-R0001   \n2    IL-MTFN-001-G-F-0030-045  IL-MTFN-001-G-F-0030-045-R0001   \n3    IL-MTFN-001-G-F-0030-045  IL-MTFN-001-G-F-0030-045-R0002   \n4    IL-MTFN-001-G-F-0030-045  IL-MTFN-001-G-F-0030-045-R0003   \n\n                                    item_description  \n0  דוד הס נסע הרבה לרגל עסקיו, לעיתים הוא כותב על...  \n1  התיק כולל: ספר/ אלבום המציג תמונות משפחתיות של...  \n2  26.08.1917-23.05.1918, תרגום של מכתבים (מגרמני...  \n3  25.05.1918-09.12.1918, תרגום של מכתבים (מגרמני...  \n4  11.11.1916-12.04.1917, תרגום של מכתבים (מגרמני...  ",
                  "text/html": "\n  <div id=\"df-e8fa36e9-ba5a-4a44-a87a-d065f1fea61b\" class=\"colab-df-container\">\n    <div>\n<style scoped>\n    .dataframe tbody tr th:only-of-type {\n        vertical-align: middle;\n    }\n\n    .dataframe tbody tr th {\n        vertical-align: top;\n    }\n\n    .dataframe thead th {\n        text-align: right;\n    }\n</style>\n<table border=\"1\" class=\"dataframe\">\n  <thead>\n    <tr style=\"text-align: right;\">\n      <th></th>\n      <th>093$c סימול פרויקט (מעודכן)</th>\n      <th>item_id</th>\n      <th>item_description</th>\n    </tr>\n  </thead>\n  <tbody>\n    <tr>\n      <th>0</th>\n      <td>IL-MTFN-001-G-F-0015-004</td>\n      <td>IL-MTFN-001-G-F-0015-004-R0001</td>\n      <td>דוד הס נסע הרבה לרגל עסקיו, לעיתים הוא כותב על...</td>\n    </tr>\n    <tr>\n      <th>1</th>\n      <td>IL-MTFN-001-G-F-0030-003</td>\n      <td>IL-MTFN-001-G-F-0030-003-R0001</td>\n      <td>התיק כולל: ספר/ אלבום המציג תמונות משפחתיות של...</td>\n    </tr>\n    <tr>\n      <th>2</th>\n      <td>IL-MTFN-001-G-F-0030-045</td>\n      <td>IL-MTFN-001-G-F-0030-045-R0001</td>\n      <td>26.08.1917-23.05.1918, תרגום של מכתבים (מגרמני...</td>\n    </tr>\n    <tr>\n      <th>3</th>\n      <td>IL-MTFN-001-G-F-0030-045</td>\n      <td>IL-MTFN-001-G-F-0030-045-R0002</td>\n      <td>25.05.1918-09.12.1918, תרגום של מכתבים (מגרמני...</td>\n    </tr>\n    <tr>\n      <th>4</th>\n      <td>IL-MTFN-001-G-F-0030-045</td>\n      <td>IL-MTFN-001-G-F-0030-045-R0003</td>\n      <td>11.11.1916-12.04.1917, תרגום של מכתבים (מגרמני...</td>\n    </tr>\n  </tbody>\n</table>\n</div>\n    <div class=\"colab-df-buttons\">\n\n  <div class=\"colab-df-container\">\n    <button class=\"colab-df-convert\" onclick=\"convertToInteractive('df-e8fa36e9-ba5a-4a44-a87a-d065f1fea61b')\"\n            title=\"Convert this dataframe to an interactive table.\"\n            style=\"display:none;\">\n\n  <svg xmlns=\"http://www.w3.org/2000/svg\" height=\"24px\" viewBox=\"0 -960 960 960\">\n    <path d=\"M120-120v-720h720v720H120Zm60-500h600v-160H180v160Zm220 220h160v-160H400v160Zm0 220h160v-160H400v160ZM180-400h160v-160H180v160Zm440 0h160v-160H620v160ZM180-180h160v-160H180v160Zm440 0h160v-160H620v160Z\"/>\n  </svg>\n    </button>\n\n  <style>\n    .colab-df-container {\n      display:flex;\n      gap: 12px;\n    }\n\n    .colab-df-convert {\n      background-color: #E8F0FE;\n      border: none;\n      border-radius: 50%;\n      cursor: pointer;\n      display: none;\n      fill: #1967D2;\n      height: 32px;\n      padding: 0 0 0 0;\n      width: 32px;\n    }\n\n    .colab-df-convert:hover {\n      background-color: #E2EBFA;\n      box-shadow: 0px 1px 2px rgba(60, 64, 67, 0.3), 0px 1px 3px 1px rgba(60, 64, 67, 0.15);\n      fill: #174EA6;\n    }\n\n    .colab-df-buttons div {\n      margin-bottom: 4px;\n    }\n\n    [theme=dark] .colab-df-convert {\n      background-color: #3B4455;\n      fill: #D2E3FC;\n    }\n\n    [theme=dark] .colab-df-convert:hover {\n      background-color: #434B5C;\n      box-shadow: 0px 1px 3px 1px rgba(0, 0, 0, 0.15);\n      filter: drop-shadow(0px 1px 2px rgba(0, 0, 0, 0.3));\n      fill: #FFFFFF;\n    }\n  </style>\n\n    <script>\n      const buttonEl =\n        document.querySelector('#df-e8fa36e9-ba5a-4a44-a87a-d065f1fea61b button.colab-df-convert');\n      buttonEl.style.display =\n        google.colab.kernel.accessAllowed ? 'block' : 'none';\n\n      async function convertToInteractive(key) {\n        const element = document.querySelector('#df-e8fa36e9-ba5a-4a44-a87a-d065f1fea61b');\n        const dataTable =\n          await google.colab.kernel.invokeFunction('convertToInteractive',\n                                                    [key], {});\n        if (!dataTable) return;\n\n        const docLinkHtml = 'Like what you see? Visit the ' +\n          '<a target=\"_blank\" href=https://colab.research.google.com/notebooks/data_table.ipynb>data table notebook</a>'\n          + ' to learn more about interactive tables.';\n        element.innerHTML = '';\n        dataTable['output_type'] = 'display_data';\n        await google.colab.output.renderOutput(dataTable, element);\n        const docLink = document.createElement('div');\n        docLink.innerHTML = docLinkHtml;\n        element.appendChild(docLink);\n      }\n    </script>\n  </div>\n\n\n<div id=\"df-52ff7d5c-8cf7-4334-852b-af27e54dc11d\">\n  <button class=\"colab-df-quickchart\" onclick=\"quickchart('df-52ff7d5c-8cf7-4334-852b-af27e54dc11d')\"\n            title=\"Suggest charts\"\n            style=\"display:none;\">\n\n<svg xmlns=\"http://www.w3.org/2000/svg\" height=\"24px\"viewBox=\"0 0 24 24\"\n     width=\"24px\">\n    <g>\n        <path d=\"M19 3H5c-1.1 0-2 .9-2 2v14c0 1.1.9 2 2 2h14c1.1 0 2-.9 2-2V5c0-1.1-.9-2-2-2zM9 17H7v-7h2v7zm4 0h-2V7h2v10zm4 0h-2v-4h2v4z\"/>\n    </g>\n</svg>\n  </button>\n\n<style>\n  .colab-df-quickchart {\n      --bg-color: #E8F0FE;\n      --fill-color: #1967D2;\n      --hover-bg-color: #E2EBFA;\n      --hover-fill-color: #174EA6;\n      --disabled-fill-color: #AAA;\n      --disabled-bg-color: #DDD;\n  }\n\n  [theme=dark] .colab-df-quickchart {\n      --bg-color: #3B4455;\n      --fill-color: #D2E3FC;\n      --hover-bg-color: #434B5C;\n      --hover-fill-color: #FFFFFF;\n      --disabled-bg-color: #3B4455;\n      --disabled-fill-color: #666;\n  }\n\n  .colab-df-quickchart {\n    background-color: var(--bg-color);\n    border: none;\n    border-radius: 50%;\n    cursor: pointer;\n    display: none;\n    fill: var(--fill-color);\n    height: 32px;\n    padding: 0;\n    width: 32px;\n  }\n\n  .colab-df-quickchart:hover {\n    background-color: var(--hover-bg-color);\n    box-shadow: 0 1px 2px rgba(60, 64, 67, 0.3), 0 1px 3px 1px rgba(60, 64, 67, 0.15);\n    fill: var(--button-hover-fill-color);\n  }\n\n  .colab-df-quickchart-complete:disabled,\n  .colab-df-quickchart-complete:disabled:hover {\n    background-color: var(--disabled-bg-color);\n    fill: var(--disabled-fill-color);\n    box-shadow: none;\n  }\n\n  .colab-df-spinner {\n    border: 2px solid var(--fill-color);\n    border-color: transparent;\n    border-bottom-color: var(--fill-color);\n    animation:\n      spin 1s steps(1) infinite;\n  }\n\n  @keyframes spin {\n    0% {\n      border-color: transparent;\n      border-bottom-color: var(--fill-color);\n      border-left-color: var(--fill-color);\n    }\n    20% {\n      border-color: transparent;\n      border-left-color: var(--fill-color);\n      border-top-color: var(--fill-color);\n    }\n    30% {\n      border-color: transparent;\n      border-left-color: var(--fill-color);\n      border-top-color: var(--fill-color);\n      border-right-color: var(--fill-color);\n    }\n    40% {\n      border-color: transparent;\n      border-right-color: var(--fill-color);\n      border-top-color: var(--fill-color);\n    }\n    60% {\n      border-color: transparent;\n      border-right-color: var(--fill-color);\n    }\n    80% {\n      border-color: transparent;\n      border-right-color: var(--fill-color);\n      border-bottom-color: var(--fill-color);\n    }\n    90% {\n      border-color: transparent;\n      border-bottom-color: var(--fill-color);\n    }\n  }\n</style>\n\n  <script>\n    async function quickchart(key) {\n      const quickchartButtonEl =\n        document.querySelector('#' + key + ' button');\n      quickchartButtonEl.disabled = true;  // To prevent multiple clicks.\n      quickchartButtonEl.classList.add('colab-df-spinner');\n      try {\n        const charts = await google.colab.kernel.invokeFunction(\n            'suggestCharts', [key], {});\n      } catch (error) {\n        console.error('Error during call to suggestCharts:', error);\n      }\n      quickchartButtonEl.classList.remove('colab-df-spinner');\n      quickchartButtonEl.classList.add('colab-df-quickchart-complete');\n    }\n    (() => {\n      let quickchartButtonEl =\n        document.querySelector('#df-52ff7d5c-8cf7-4334-852b-af27e54dc11d button');\n      quickchartButtonEl.style.display =\n        google.colab.kernel.accessAllowed ? 'block' : 'none';\n    })();\n  </script>\n</div>\n\n    </div>\n  </div>\n",
                  "application/vnd.google.colaboratory.intrinsic+json": {
                    "type": "dataframe",
                    "summary": "{\n  \"name\": \"display(save_button, save_output)\",\n  \"rows\": 5,\n  \"fields\": [\n    {\n      \"column\": \"093$c \\u05e1\\u05d9\\u05de\\u05d5\\u05dc \\u05e4\\u05e8\\u05d5\\u05d9\\u05e7\\u05d8 (\\u05de\\u05e2\\u05d5\\u05d3\\u05db\\u05df)\",\n      \"properties\": {\n        \"dtype\": \"string\",\n        \"num_unique_values\": 3,\n        \"samples\": [\n          \"IL-MTFN-001-G-F-0015-004\",\n          \"IL-MTFN-001-G-F-0030-003\",\n          \"IL-MTFN-001-G-F-0030-045\"\n        ],\n        \"semantic_type\": \"\",\n        \"description\": \"\"\n      }\n    },\n    {\n      \"column\": \"item_id\",\n      \"properties\": {\n        \"dtype\": \"string\",\n        \"num_unique_values\": 5,\n        \"samples\": [\n          \"IL-MTFN-001-G-F-0030-003-R0001\",\n          \"IL-MTFN-001-G-F-0030-045-R0003\",\n          \"IL-MTFN-001-G-F-0030-045-R0001\"\n        ],\n        \"semantic_type\": \"\",\n        \"description\": \"\"\n      }\n    },\n    {\n      \"column\": \"item_description\",\n      \"properties\": {\n        \"dtype\": \"string\",\n        \"num_unique_values\": 5,\n        \"samples\": [\n          \"\\u05d4\\u05ea\\u05d9\\u05e7 \\u05db\\u05d5\\u05dc\\u05dc: \\u05e1\\u05e4\\u05e8/ \\u05d0\\u05dc\\u05d1\\u05d5\\u05dd \\u05d4\\u05de\\u05e6\\u05d9\\u05d2 \\u05ea\\u05de\\u05d5\\u05e0\\u05d5\\u05ea \\u05de\\u05e9\\u05e4\\u05d7\\u05ea\\u05d9\\u05d5\\u05ea \\u05e9\\u05dc \\u05de\\u05e9\\u05e4\\u05d7\\u05ea \\u05d0\\u05e0\\u05d3\\u05e8\\u05d9\\u05d0\\u05e1 \\u05de\\u05d0\\u05d9\\u05d9\\u05e8 \\u05d4\\u05de\\u05d5\\u05e8\\u05d7\\u05d1\\u05ea \\u05dc\\u05d0\\u05d5\\u05e8\\u05da \\u05d4\\u05d3\\u05d5\\u05e8\\u05d5\\u05ea ,\\u05de\\u05de\\u05d7\\u05e6\\u05d9\\u05ea \\u05d4\\u05de\\u05d0\\u05d4 \\u05d4-19 \\u05d5\\u05e2\\u05d3 \\u05d9\\u05de\\u05d9\\u05e0\\u05d5. \\u05d4\\u05ea\\u05de\\u05d5\\u05e0\\u05d5\\u05ea \\u05de\\u05dc\\u05d5\\u05d5\\u05ea \\u05d1\\u05db\\u05ea\\u05d5\\u05d1\\u05d9\\u05d5\\u05ea \\u05d1\\u05e9\\u05e4\\u05d4 \\u05d4\\u05d0\\u05e0\\u05d2\\u05dc\\u05d9\\u05ea.\",\n          \"11.11.1916-12.04.1917, \\u05ea\\u05e8\\u05d2\\u05d5\\u05dd \\u05e9\\u05dc \\u05de\\u05db\\u05ea\\u05d1\\u05d9\\u05dd (\\u05de\\u05d2\\u05e8\\u05de\\u05e0\\u05d9\\u05ea \\u05db\\u05ea\\u05d1 \\u05d9\\u05d3 \\u05dc\\u05d2\\u05e8\\u05de\\u05e0\\u05d9\\u05ea \\u05de\\u05d5\\u05d3\\u05e4\\u05e1\\u05ea) \\u05e9\\u05dc \\u05de\\u05db\\u05ea\\u05d1\\u05d9\\u05dd \\u05d5\\u05d9\\u05d5\\u05de\\u05e0\\u05d9\\u05dd \\u05e9\\u05dc \\u05d0\\u05d5\\u05d8\\u05d5 \\u05de\\u05d0\\u05d9\\u05d9\\u05e8 Unteroffizier Otto Meyer, \\u05e9\\u05de\\u05d5\\u05e0\\u05d4 \\u05e2\\u05e9\\u05e8 \\u05d3\\u05e4\\u05d9\\u05dd.\",\n          \"26.08.1917-23.05.1918, \\u05ea\\u05e8\\u05d2\\u05d5\\u05dd \\u05e9\\u05dc \\u05de\\u05db\\u05ea\\u05d1\\u05d9\\u05dd (\\u05de\\u05d2\\u05e8\\u05de\\u05e0\\u05d9\\u05ea \\u05db\\u05ea\\u05d1 \\u05d9\\u05d3 \\u05dc\\u05d2\\u05e8\\u05de\\u05e0\\u05d9\\u05ea \\u05de\\u05d5\\u05d3\\u05e4\\u05e1\\u05ea) \\u05d5\\u05d9\\u05d5\\u05de\\u05e0\\u05d9\\u05dd \\u05e9\\u05dc \\u05d0\\u05d5\\u05d8\\u05d5 \\u05de\\u05d0\\u05d9\\u05d9\\u05e8 Unteroffizier Otto Meyer, \\u05e2\\u05e9\\u05e8\\u05d9\\u05dd \\u05d5\\u05e9\\u05de\\u05d5\\u05e0\\u05d4 \\u05d3\\u05e4\\u05d9\\u05dd.\"\n        ],\n        \"semantic_type\": \"\",\n        \"description\": \"\"\n      }\n    }\n  ]\n}"
                  }
                },
                "metadata": {}
              },
              {
                "output_type": "stream",
                "name": "stdout",
                "text": [
                  "Updated General Descriptions:\n"
                ]
              },
              {
                "output_type": "display_data",
                "data": {
                  "text/plain": "  093$c סימול פרויקט (מעודכן)  \\\n0    IL-MTFN-001-G-F-0007-001   \n1    IL-MTFN-001-G-F-0009-001   \n2    IL-MTFN-001-G-F-0009-012   \n3    IL-MTFN-001-G-F-0009-008   \n4    IL-MTFN-001-G-F-0015-011   \n\n                                 general_description  \n0  כהן אוסקר 1869-1934; מתוך מכתבו של הנכד, ד\"ר מ...  \n1  גב' אוה וייס, 1921-2002, העבירה למוזיאון את עז...  \n2  ההתכתבות בין רנה והלה החלה ב-1911 לאחר שהכירו....  \n3  גב' תמר זגר קראה עשרות מכתבים שכתב רנה אל הלה;...  \n4  התיק מכיל כרטיסיות לאיסוף נתונים על בני משפחה,...  ",
                  "text/html": "\n  <div id=\"df-b19765bc-d7e3-43bb-8a92-9dce2ead6039\" class=\"colab-df-container\">\n    <div>\n<style scoped>\n    .dataframe tbody tr th:only-of-type {\n        vertical-align: middle;\n    }\n\n    .dataframe tbody tr th {\n        vertical-align: top;\n    }\n\n    .dataframe thead th {\n        text-align: right;\n    }\n</style>\n<table border=\"1\" class=\"dataframe\">\n  <thead>\n    <tr style=\"text-align: right;\">\n      <th></th>\n      <th>093$c סימול פרויקט (מעודכן)</th>\n      <th>general_description</th>\n    </tr>\n  </thead>\n  <tbody>\n    <tr>\n      <th>0</th>\n      <td>IL-MTFN-001-G-F-0007-001</td>\n      <td>כהן אוסקר 1869-1934; מתוך מכתבו של הנכד, ד\"ר מ...</td>\n    </tr>\n    <tr>\n      <th>1</th>\n      <td>IL-MTFN-001-G-F-0009-001</td>\n      <td>גב' אוה וייס, 1921-2002, העבירה למוזיאון את עז...</td>\n    </tr>\n    <tr>\n      <th>2</th>\n      <td>IL-MTFN-001-G-F-0009-012</td>\n      <td>ההתכתבות בין רנה והלה החלה ב-1911 לאחר שהכירו....</td>\n    </tr>\n    <tr>\n      <th>3</th>\n      <td>IL-MTFN-001-G-F-0009-008</td>\n      <td>גב' תמר זגר קראה עשרות מכתבים שכתב רנה אל הלה;...</td>\n    </tr>\n    <tr>\n      <th>4</th>\n      <td>IL-MTFN-001-G-F-0015-011</td>\n      <td>התיק מכיל כרטיסיות לאיסוף נתונים על בני משפחה,...</td>\n    </tr>\n  </tbody>\n</table>\n</div>\n    <div class=\"colab-df-buttons\">\n\n  <div class=\"colab-df-container\">\n    <button class=\"colab-df-convert\" onclick=\"convertToInteractive('df-b19765bc-d7e3-43bb-8a92-9dce2ead6039')\"\n            title=\"Convert this dataframe to an interactive table.\"\n            style=\"display:none;\">\n\n  <svg xmlns=\"http://www.w3.org/2000/svg\" height=\"24px\" viewBox=\"0 -960 960 960\">\n    <path d=\"M120-120v-720h720v720H120Zm60-500h600v-160H180v160Zm220 220h160v-160H400v160Zm0 220h160v-160H400v160ZM180-400h160v-160H180v160Zm440 0h160v-160H620v160ZM180-180h160v-160H180v160Zm440 0h160v-160H620v160Z\"/>\n  </svg>\n    </button>\n\n  <style>\n    .colab-df-container {\n      display:flex;\n      gap: 12px;\n    }\n\n    .colab-df-convert {\n      background-color: #E8F0FE;\n      border: none;\n      border-radius: 50%;\n      cursor: pointer;\n      display: none;\n      fill: #1967D2;\n      height: 32px;\n      padding: 0 0 0 0;\n      width: 32px;\n    }\n\n    .colab-df-convert:hover {\n      background-color: #E2EBFA;\n      box-shadow: 0px 1px 2px rgba(60, 64, 67, 0.3), 0px 1px 3px 1px rgba(60, 64, 67, 0.15);\n      fill: #174EA6;\n    }\n\n    .colab-df-buttons div {\n      margin-bottom: 4px;\n    }\n\n    [theme=dark] .colab-df-convert {\n      background-color: #3B4455;\n      fill: #D2E3FC;\n    }\n\n    [theme=dark] .colab-df-convert:hover {\n      background-color: #434B5C;\n      box-shadow: 0px 1px 3px 1px rgba(0, 0, 0, 0.15);\n      filter: drop-shadow(0px 1px 2px rgba(0, 0, 0, 0.3));\n      fill: #FFFFFF;\n    }\n  </style>\n\n    <script>\n      const buttonEl =\n        document.querySelector('#df-b19765bc-d7e3-43bb-8a92-9dce2ead6039 button.colab-df-convert');\n      buttonEl.style.display =\n        google.colab.kernel.accessAllowed ? 'block' : 'none';\n\n      async function convertToInteractive(key) {\n        const element = document.querySelector('#df-b19765bc-d7e3-43bb-8a92-9dce2ead6039');\n        const dataTable =\n          await google.colab.kernel.invokeFunction('convertToInteractive',\n                                                    [key], {});\n        if (!dataTable) return;\n\n        const docLinkHtml = 'Like what you see? Visit the ' +\n          '<a target=\"_blank\" href=https://colab.research.google.com/notebooks/data_table.ipynb>data table notebook</a>'\n          + ' to learn more about interactive tables.';\n        element.innerHTML = '';\n        dataTable['output_type'] = 'display_data';\n        await google.colab.output.renderOutput(dataTable, element);\n        const docLink = document.createElement('div');\n        docLink.innerHTML = docLinkHtml;\n        element.appendChild(docLink);\n      }\n    </script>\n  </div>\n\n\n<div id=\"df-efb8dc25-b13c-4e8d-9548-7da65d620bb9\">\n  <button class=\"colab-df-quickchart\" onclick=\"quickchart('df-efb8dc25-b13c-4e8d-9548-7da65d620bb9')\"\n            title=\"Suggest charts\"\n            style=\"display:none;\">\n\n<svg xmlns=\"http://www.w3.org/2000/svg\" height=\"24px\"viewBox=\"0 0 24 24\"\n     width=\"24px\">\n    <g>\n        <path d=\"M19 3H5c-1.1 0-2 .9-2 2v14c0 1.1.9 2 2 2h14c1.1 0 2-.9 2-2V5c0-1.1-.9-2-2-2zM9 17H7v-7h2v7zm4 0h-2V7h2v10zm4 0h-2v-4h2v4z\"/>\n    </g>\n</svg>\n  </button>\n\n<style>\n  .colab-df-quickchart {\n      --bg-color: #E8F0FE;\n      --fill-color: #1967D2;\n      --hover-bg-color: #E2EBFA;\n      --hover-fill-color: #174EA6;\n      --disabled-fill-color: #AAA;\n      --disabled-bg-color: #DDD;\n  }\n\n  [theme=dark] .colab-df-quickchart {\n      --bg-color: #3B4455;\n      --fill-color: #D2E3FC;\n      --hover-bg-color: #434B5C;\n      --hover-fill-color: #FFFFFF;\n      --disabled-bg-color: #3B4455;\n      --disabled-fill-color: #666;\n  }\n\n  .colab-df-quickchart {\n    background-color: var(--bg-color);\n    border: none;\n    border-radius: 50%;\n    cursor: pointer;\n    display: none;\n    fill: var(--fill-color);\n    height: 32px;\n    padding: 0;\n    width: 32px;\n  }\n\n  .colab-df-quickchart:hover {\n    background-color: var(--hover-bg-color);\n    box-shadow: 0 1px 2px rgba(60, 64, 67, 0.3), 0 1px 3px 1px rgba(60, 64, 67, 0.15);\n    fill: var(--button-hover-fill-color);\n  }\n\n  .colab-df-quickchart-complete:disabled,\n  .colab-df-quickchart-complete:disabled:hover {\n    background-color: var(--disabled-bg-color);\n    fill: var(--disabled-fill-color);\n    box-shadow: none;\n  }\n\n  .colab-df-spinner {\n    border: 2px solid var(--fill-color);\n    border-color: transparent;\n    border-bottom-color: var(--fill-color);\n    animation:\n      spin 1s steps(1) infinite;\n  }\n\n  @keyframes spin {\n    0% {\n      border-color: transparent;\n      border-bottom-color: var(--fill-color);\n      border-left-color: var(--fill-color);\n    }\n    20% {\n      border-color: transparent;\n      border-left-color: var(--fill-color);\n      border-top-color: var(--fill-color);\n    }\n    30% {\n      border-color: transparent;\n      border-left-color: var(--fill-color);\n      border-top-color: var(--fill-color);\n      border-right-color: var(--fill-color);\n    }\n    40% {\n      border-color: transparent;\n      border-right-color: var(--fill-color);\n      border-top-color: var(--fill-color);\n    }\n    60% {\n      border-color: transparent;\n      border-right-color: var(--fill-color);\n    }\n    80% {\n      border-color: transparent;\n      border-right-color: var(--fill-color);\n      border-bottom-color: var(--fill-color);\n    }\n    90% {\n      border-color: transparent;\n      border-bottom-color: var(--fill-color);\n    }\n  }\n</style>\n\n  <script>\n    async function quickchart(key) {\n      const quickchartButtonEl =\n        document.querySelector('#' + key + ' button');\n      quickchartButtonEl.disabled = true;  // To prevent multiple clicks.\n      quickchartButtonEl.classList.add('colab-df-spinner');\n      try {\n        const charts = await google.colab.kernel.invokeFunction(\n            'suggestCharts', [key], {});\n      } catch (error) {\n        console.error('Error during call to suggestCharts:', error);\n      }\n      quickchartButtonEl.classList.remove('colab-df-spinner');\n      quickchartButtonEl.classList.add('colab-df-quickchart-complete');\n    }\n    (() => {\n      let quickchartButtonEl =\n        document.querySelector('#df-efb8dc25-b13c-4e8d-9548-7da65d620bb9 button');\n      quickchartButtonEl.style.display =\n        google.colab.kernel.accessAllowed ? 'block' : 'none';\n    })();\n  </script>\n</div>\n\n    </div>\n  </div>\n",
                  "application/vnd.google.colaboratory.intrinsic+json": {
                    "type": "dataframe",
                    "summary": "{\n  \"name\": \"display(save_button, save_output)\",\n  \"rows\": 5,\n  \"fields\": [\n    {\n      \"column\": \"093$c \\u05e1\\u05d9\\u05de\\u05d5\\u05dc \\u05e4\\u05e8\\u05d5\\u05d9\\u05e7\\u05d8 (\\u05de\\u05e2\\u05d5\\u05d3\\u05db\\u05df)\",\n      \"properties\": {\n        \"dtype\": \"string\",\n        \"num_unique_values\": 5,\n        \"samples\": [\n          \"IL-MTFN-001-G-F-0009-001\",\n          \"IL-MTFN-001-G-F-0015-011\",\n          \"IL-MTFN-001-G-F-0009-012\"\n        ],\n        \"semantic_type\": \"\",\n        \"description\": \"\"\n      }\n    },\n    {\n      \"column\": \"general_description\",\n      \"properties\": {\n        \"dtype\": \"string\",\n        \"num_unique_values\": 5,\n        \"samples\": [\n          \"\\u05d2\\u05d1' \\u05d0\\u05d5\\u05d4 \\u05d5\\u05d9\\u05d9\\u05e1, 1921-2002, \\u05d4\\u05e2\\u05d1\\u05d9\\u05e8\\u05d4 \\u05dc\\u05de\\u05d5\\u05d6\\u05d9\\u05d0\\u05d5\\u05df \\u05d0\\u05ea \\u05e2\\u05d6\\u05d1\\u05d5\\u05df \\u05d4\\u05d5\\u05e8\\u05d9\\u05d4, \\u05e8\\u05e0\\u05d4 \\u05d5\\u05d9\\u05d9\\u05e1 \\u05d5\\u05d4\\u05dc\\u05d4 \\u05d5\\u05d9\\u05d9\\u05e1 \\u05dc\\u05d1\\u05d9\\u05ea \\u05dc\\u05d5\\u05e7\\u05e1. \\u05d4\\u05d7\\u05d5\\u05de\\u05e8 \\u05e0\\u05d0\\u05e1\\u05e3 \\u05d1\\u05de\\u05e1\\u05e4\\u05e8 \\u05d1\\u05d9\\u05e7\\u05d5\\u05e8\\u05d9\\u05dd \\u05d0\\u05e6\\u05dc \\u05d2\\u05d1' \\u05d5\\u05d9\\u05d9\\u05e1 \\u05d1\\u05d8\\u05d1\\u05e2\\u05d5\\u05df, \\u05e2\\\"\\u05d9 \\u05e0\\u05d9\\u05dc\\u05d9 \\u05d3\\u05d5\\u05d9\\u05d3\\u05e1\\u05d5\\u05df, \\u05e8\\u05d5\\u05ea\\u05d9 \\u05d0\\u05d5\\u05e4\\u05e7, \\u05e7\\u05e8\\u05dc\\u05d4 \\u05d5\\u05d5\\u05dc\\u05e3 \\u05d5\\u05ea\\u05de\\u05e8 \\u05d6\\u05d2\\u05e8. \\u05dc\\u05d2\\u05d1' \\u05d5\\u05d9\\u05d9\\u05e1 \\u05d9\\u05e9 \\u05d0\\u05d7, \\u05e8\\u05d9\\u05db\\u05e8\\u05d3 (\\u05e8\\u05d9), \\u05d0\\u05d5\\u05e8\\u05d9, \\u05d9\\u05dc\\u05d9\\u05d3 1924, \\u05d7\\u05d9 \\u05d1\\u05d7\\u05d9\\u05e4\\u05d4. \\u05d0\\u05d5\\u05d4 \\u05d5\\u05d9\\u05d9\\u05e1 \\u05d4\\u05ea\\u05d2\\u05d9\\u05d9\\u05e1\\u05d4 \\u05dc\\u05e6\\u05d1\\u05d0 \\u05d4\\u05d1\\u05e8\\u05d9\\u05d8\\u05d9 \\u05d1\\u05de\\u05dc\\u05d7\\\"\\u05e2 II, \\u05e9\\u05d9\\u05e8\\u05ea\\u05d4 \\u05d1\\u05de\\u05e6\\u05e8\\u05d9\\u05d9\\u05dd \\u05d5\\u05d0\\u05d9\\u05d8\\u05dc\\u05d9\\u05d4. \\u05dc\\u05d0 \\u05e0\\u05d9\\u05e9\\u05d0\\u05d4. \\u05d4\\u05d7\\u05d5\\u05de\\u05e8 \\u05dc\\u05ea\\u05d5\\u05dc\\u05d3\\u05d5\\u05ea \\u05d4\\u05de\\u05e9\\u05e4\\u05d7\\u05d4 \\u05de\\u05d1\\u05d5\\u05e1\\u05e1 \\u05e2\\u05dc \\u05ea\\u05db\\u05e0\\u05d9\\u05dd \\u05de\\u05d4\\u05e2\\u05d6\\u05d1\\u05d5\\u05df \\u05d5\\u05de\\u05e9\\u05d9\\u05d7\\u05d5\\u05ea \\u05e2\\u05dd \\u05d0\\u05d5\\u05d4 \\u05d5\\u05d9\\u05d9\\u05e1. \\u05d0\\u05d5\\u05d4 \\u05d5\\u05d9\\u05d9\\u05e1 \\u05e0\\u05e4\\u05d8\\u05e8\\u05d4 \\u05d0\\u05d7\\u05e8\\u05d9 \\u05de\\u05d7\\u05dc\\u05d4 \\u05e7\\u05e9\\u05d4 \\u05d5\\u05d0\\u05e8\\u05d5\\u05db\\u05d4 \\u05d1-2002. \\u05e1\\u05d9\\u05db\\u05d5\\u05dd \\u05dc\\u05ea\\u05d5\\u05dc\\u05d3\\u05d5\\u05ea \\u05d4\\u05de\\u05e9\\u05e4\\u05d7\\u05d4, \\u05e8\\u05e0\\u05d4 \\u05d5\\u05d9\\u05d9\\u05e1 - Rene Weiss 1890-1972: \\u05e0\\u05d5\\u05dc\\u05d3 \\u05d1\\u05e4\\u05e8\\u05d9\\u05e1 \\u05dc\\u05d1\\u05e8\\u05e0\\u05e8\\u05d3 \\u05d5\\u05d0\\u05de\\u05d4 \\u05dc\\u05d1\\u05d9\\u05ea \\u05d4\\u05d5\\u05dc\\u05e5 - Bernhard, Emma Holz. \\u05d0\\u05d1\\u05d9\\u05d5 \\u05e0\\u05e4\\u05d8\\u05e8 \\u05d1\\u05e9\\u05e0\\u05ea \\u05dc\\u05d9\\u05d3\\u05ea\\u05d5, \\u05d4\\u05d0\\u05dd \\u05d7\\u05d6\\u05e8\\u05d4 \\u05e2\\u05dd \\u05d1\\u05e0\\u05d4 \\u05d0\\u05dc \\u05de\\u05e9\\u05e4\\u05d7\\u05ea\\u05d4 \\u05e9\\u05d7\\u05d9\\u05d4 \\u05d1\\u05d2\\u05e8\\u05de\\u05e0\\u05d9\\u05d4 \\u05d1\\u05e2\\u05d9\\u05e8 \\u05e7\\u05e8\\u05dc\\u05e1\\u05e8\\u05d5\\u05d0\\u05d4; Karlsruhe. \\u05e8\\u05e0\\u05d4 \\u05d4\\u05d5\\u05e9\\u05d0\\u05e8 \\u05d1\\u05d8\\u05d9\\u05e4\\u05d5\\u05dc \\u05de\\u05e9\\u05e4\\u05d7\\u05ea \\u05d4\\u05d0\\u05dd, \\u05de\\u05e9\\u05e4. \\u05d4\\u05d5\\u05dc\\u05e5 - Holz, \\u05d4\\u05d0\\u05dd \\u05de\\u05e8\\u05d9 Marie 1833-1894 \\u05d5\\u05d1\\u05e2\\u05dc\\u05d4 \\u05e4\\u05e8\\u05d3\\u05d9\\u05e0\\u05e0\\u05d3 - Ferdinand. \\u05dc\\u05d6\\u05d5\\u05d2 \\u05d4\\u05d9\\u05d5 5 \\u05d9\\u05dc\\u05d3\\u05d9\\u05dd: \\u05d0\\u05dc\\u05d1\\u05e8\\u05d8 Albert; \\u05d0\\u05de\\u05d4 Emma \\u05d0\\u05de\\u05d5 \\u05e9\\u05dc \\u05e8\\u05e0\\u05d4; \\u05d0\\u05d9\\u05d3\\u05d4/\\u05d0\\u05d9\\u05d3\\u05dc Ida/Idel, \\u05e9\\u05de\\u05e2\\u05d5\\u05dc\\u05dd \\u05dc\\u05d0 \\u05e0\\u05d9\\u05e9\\u05d0\\u05d4, \\u05d1\\u05d9\\u05e7\\u05e8\\u05d4 \\u05d1-1938 \\u05d0\\u05ea \\u05d4\\u05de\\u05e9\\u05e4\\u05d7\\u05d4 \\u05d1\\u05e4\\u05dc\\u05e1\\u05d8\\u05d9\\u05e0\\u05d4, \\u05d7\\u05d6\\u05e8\\u05d4 \\u05dc\\u05d2\\u05e8\\u05de\\u05e0\\u05d9\\u05d4 \\u05d5\\u05d1-1941 \\u05e0\\u05e4\\u05d8\\u05e8\\u05d4 \\u05d1\\u05d8\\u05e8\\u05d6\\u05d9\\u05d9\\u05e0\\u05e9\\u05d8\\u05d8; \\u05d0\\u05d5\\u05d2\\u05e0\\u05d9 Eugenie, \\u05e0\\u05d9\\u05e9\\u05d0\\u05d4 \\u05dc\\u05e4\\u05d5\\u05df-\\u05d2\\u05e8\\u05d5\\u05d8\\u05d4 - von Grothe \\u05e0\\u05e4\\u05d8\\u05e8\\u05d4 \\u05d1\\u05d2\\u05d9\\u05dc \\u05e6\\u05e2\\u05d9\\u05e8; \\u05e1\\u05d5\\u05e4\\u05d9 Sophie \\u05e9\\u05d4\\u05d9\\u05ea\\u05d4 \\u05d6\\u05de\\u05e8\\u05ea \\u05d1\\u05e4\\u05e8\\u05d9\\u05e1. \\u05e8\\u05e0\\u05d4 \\u05d8\\u05d5\\u05e4\\u05dc \\u05d1\\u05e2\\u05d9\\u05e7\\u05e8 \\u05e2\\\"\\u05d9 \\u05e9\\u05ea\\u05d9 \\u05d3\\u05d5\\u05d3\\u05d5\\u05ea\\u05d9\\u05d5 \\u05d0\\u05d5\\u05d9\\u05d2\\u05e0\\u05d9 (\\u05d0\\u05d5\\u05d9\\u05d2) Eugeni - Eug, \\u05d5\\u05d0\\u05d9\\u05d3\\u05dc - Idel. \\u05d4\\u05e9\\u05ea\\u05d9\\u05d9\\u05dd \\u05d4\\u05d9\\u05d5 \\u05d1\\u05de\\u05e7\\u05e6\\u05d5\\u05e2\\u05df \\u05d0\\u05d7\\u05d9\\u05d5\\u05ea. \\u05d4\\u05d0\\u05dd \\u05e2\\u05d1\\u05e8\\u05d4 \\u05dc\\u05d7\\u05d9\\u05d5\\u05ea \\u05d1\\u05d1\\u05e8\\u05dc\\u05d9\\u05df, \\u05e9\\u05dd \\u05d4\\u05db\\u05d9\\u05e8\\u05d4 \\u05d0\\u05e6\\u05d9\\u05dc \\u05e4\\u05d5\\u05dc\\u05e0\\u05d9 \\u05e0\\u05d5\\u05e6\\u05e8\\u05d9, \\u05e4\\u05e8\\u05d5\\u05e4' \\u05dc\\u05db\\u05d9\\u05de\\u05d9\\u05d4, \\u05d5\\u05d9\\u05d8\\u05d5\\u05dc\\u05d3 \\u05e7\\u05e8\\u05e1\\u05d1\\u05e1\\u05e7\\u05d9 - Witold Krassewsky \\u05d5\\u05e0\\u05d9\\u05e9\\u05d0\\u05d4 \\u05dc\\u05d5, \\u05d4\\u05dd \\u05d7\\u05d9\\u05d5 \\u05d1\\u05d5\\u05d9\\u05dc\\u05e0\\u05d0. \\u05d1\\u05d2\\u05d9\\u05dc 13 \\u05d4\\u05d5\\u05e2\\u05d1\\u05e8 \\u05e8\\u05e0\\u05d4 \\u05e2\\\"\\u05d9 \\u05d0\\u05de\\u05d5 \\u05dc\\u05de\\u05e9\\u05e4\\u05d7\\u05d4 \\u05d0\\u05d5\\u05de\\u05e0\\u05ea \\u05e0\\u05d5\\u05e6\\u05e8\\u05d9\\u05ea \\u05e9\\u05dc \\u05e4\\u05e8\\u05d5\\u05e4\\u05e1\\u05d5\\u05e8 \\u05d1\\u05e2\\u05d9\\u05e8 \\u05e4\\u05e8\\u05d9\\u05d9\\u05d1\\u05d5\\u05e8\\u05d2 Freiburg. \\u05d4\\u05e7\\u05e9\\u05e8 \\u05e9\\u05dc \\u05e8\\u05e0\\u05d4 \\u05dc\\u05d1\\u05ea\\u05dd \\u05d0\\u05dc\\u05d6\\u05d4 Else, \\u05e0\\u05de\\u05e9\\u05da \\u05dc\\u05d0\\u05d5\\u05e8\\u05da \\u05db\\u05dc \\u05d7\\u05d9\\u05d9\\u05d4\\u05dd. \\u05d0\\u05dc\\u05d6\\u05d4 \\u05e0\\u05d9\\u05e9\\u05d0\\u05d4 \\u05dc\\u05d9\\u05d4\\u05d5\\u05d3\\u05d9 \\u05d2\\u05e8\\u05de\\u05e0\\u05d9, \\u05d5\\u05d9\\u05dc\\u05d9 \\u05d4\\u05d0\\u05d5\\u05d6\\u05e8 Willi Hauser, \\u05d4\\u05d9\\u05ea\\u05d4 \\u05dc\\u05d5 \\u05d1\\u05ea \\u05d3\\u05d5\\u05d3\\u05d4 \\u05d1\\u05e0\\u05d4\\u05e8\\u05d9\\u05d4, \\u05d2\\u05d1' \\u05e8\\u05d5\\u05ea \\u05dc\\u05e1\\u05e8, \\u05e9\\u05d1\\u05d6\\u05de\\u05e0\\u05d5 \\u05d4\\u05e9\\u05db\\u05d9\\u05e8\\u05d4 \\u05d7\\u05d3\\u05e8\\u05d9\\u05dd \\u05dc\\u05d0\\u05d5\\u05e8\\u05d7\\u05d9\\u05dd \\u05d1\\u05e0\\u05d4\\u05e8\\u05d9\\u05d4. \\u05e8\\u05e0\\u05d4 \\u05dc\\u05de\\u05d3 \\u05d5\\u05e2\\u05d1\\u05d3 \\u05d1\\u05de\\u05e1\\u05e4\\u05e8 \\u05d1\\u05e0\\u05e7\\u05d9\\u05dd \\u05d9\\u05d4\\u05d5\\u05d3\\u05d9\\u05d9\\u05dd \\u05d5-6 \\u05d7\\u05d5\\u05d3\\u05e9\\u05d9\\u05dd \\u05e2\\u05d1\\u05d3 \\u05d2\\u05dd \\u05d1\\u05d1\\u05d5\\u05e8\\u05e1\\u05d4 \\u05d1\\u05e4\\u05e8\\u05d9\\u05e1. \\u05dc\\u05e2\\u05e8\\u05da \\u05de-1910 \\u05e2\\u05d1\\u05e8 \\u05dc\\u05e4\\u05e8\\u05e0\\u05e7\\u05e4\\u05d5\\u05e8\\u05d8 \\u05e2\\u05dc \\u05d4\\u05de\\u05d9\\u05d9\\u05df - Frankfurt am Main \\u05d5\\u05e9\\u05db\\u05e8 \\u05d7\\u05d3\\u05e8 \\u05d0\\u05e6\\u05dc \\u05de\\u05e9\\u05e4\\u05d7\\u05ea \\u05d4\\u05d1\\u05e0\\u05e7\\u05d0\\u05d9\\u05dd \\u05de\\u05e9\\u05e4. \\u05e9\\u05d9\\u05dc\\u05d9\\u05e0\\u05d2 Schilling. \\u05d4\\u05d5\\u05d0 \\u05d1\\u05d9\\u05e7\\u05e8 \\u05e8\\u05d1\\u05d5\\u05ea \\u05d0\\u05ea \\u05d3\\u05d5\\u05d3\\u05ea\\u05d5 \\u05d0\\u05d9\\u05d3\\u05dc \\u05e9\\u05d4\\u05d9\\u05ea\\u05d4 \\u05d0\\u05d7\\u05d5\\u05ea \\u05e8\\u05d0\\u05e9\\u05d9\\u05ea \\u05d1\\u05d1\\u05d9\\u05ea \\u05d4\\u05d1\\u05e8\\u05d0\\u05d4 \\u05d1\\u05d0\\u05d5\\u05d1\\u05e8\\u05e9\\u05d8\\u05d8\\u05df Oberstetten, \\u05d4\\u05e7\\u05e8\\u05d5\\u05d1\\u05d4 \\u05dc\\u05e4\\u05e8\\u05e0\\u05e7\\u05e4\\u05d5\\u05e8\\u05d8. \\u05d1\\u05d0\\u05d5\\u05d1\\u05e8\\u05e9\\u05d8\\u05d8\\u05df \\u05d4\\u05db\\u05d9\\u05e8 \\u05d5\\u05d4\\u05ea\\u05d0\\u05d4\\u05d1 \\u05d1\\u05d4\\u05dc\\u05d4 \\u05dc\\u05d5\\u05e7\\u05e1 \\u05d1\\u05ea \\u05d4-16, \\u05e9\\u05dd \\u05d4\\u05d1\\u05e8\\u05d9\\u05d0\\u05d4 \\u05de\\u05de\\u05d7\\u05dc\\u05ea \\u05e8\\u05d9\\u05d0\\u05d5\\u05ea. \\u05d4\\u05dc\\u05d4 \\u05dc\\u05d5\\u05e7\\u05e1 Hella Lucas, 1896-1991, \\u05d1\\u05ea \\u05dc\\u05de\\u05e9\\u05e4\\u05d7\\u05d4 \\u05d9\\u05d4\\u05d5\\u05d3\\u05d9\\u05ea \\u05d1\\u05d5\\u05e8\\u05d2\\u05e0\\u05d9\\u05ea \\u05de\\u05d4\\u05e2\\u05d9\\u05e8 \\u05d0\\u05e1\\u05df Essen, \\u05d1\\u05ea\\u05dd \\u05e9\\u05dc \\u05d0\\u05d5\\u05d9\\u05d2\\u05e0\\u05d9 \\u05dc\\u05d1\\u05d9\\u05ea \\u05d0\\u05dc\\u05e1\\u05d1\\u05e8\\u05d2 Alsberg \\u05d5\\u05d2\\u05d5\\u05e1\\u05d8\\u05d1 \\u05dc\\u05d5\\u05e7\\u05e1 Gustav Lucas. \\u05dc\\u05d0\\u05d1 \\u05d4\\u05d9\\u05ea\\u05d4 \\u05d7\\u05e0\\u05d5\\u05ea \\u05dc\\u05d1\\u05d3\\u05d9\\u05dd/\\u05d8\\u05e7\\u05e1\\u05d8\\u05d9\\u05dc; \\u05d1\\u05d0\\u05e8\\u05db\\u05d9\\u05d5\\u05df \\u05de\\u05e6\\u05d5\\u05d9 \\u05e1\\u05e8\\u05d2\\u05dc \\u05d4\\u05de\\u05d3\\u05d9\\u05d3\\u05d4 \\u05e9\\u05d1\\u05d5 \\u05d4\\u05e9\\u05ea\\u05de\\u05e9 \\u05d1\\u05d7\\u05e0\\u05d5\\u05ea. \\u05d4\\u05dc\\u05d4 \\u05d4\\u05d9\\u05ea\\u05d4 \\u05d9\\u05dc\\u05d3\\u05ea\\u05dd \\u05d4\\u05d9\\u05d7\\u05d9\\u05d3 \\u05d5\\u05db\\u05d1\\u05e8 \\u05d1\\u05e6\\u05e2\\u05d9\\u05e8\\u05d5\\u05ea\\u05d4 \\u05d4\\u05d9\\u05ea\\u05d4 \\u05de\\u05d0\\u05d3 \\u05d0\\u05e0\\u05e8\\u05d2\\u05d8\\u05d9\\u05ea \\u05d5\\u05d7\\u05db\\u05de\\u05d4, \\u05db\\u05e4\\u05d9 \\u05e9\\u05e0\\u05d9\\u05ea\\u05df \\u05dc\\u05e7\\u05e8\\u05d5\\u05d0 \\u05de\\u05de\\u05db\\u05ea\\u05d1\\u05d9\\u05d4. \\u05d1-1911 \\u05e0\\u05e4\\u05d2\\u05e9\\u05d5 \\u05e8\\u05e0\\u05d4 \\u05d5\\u05d4\\u05dc\\u05d4, \\u05d4\\u05d9\\u05ea\\u05d4 \\u05d6\\u05d0\\u05ea \\u05d0\\u05d4\\u05d1\\u05d4 \\u05de\\u05de\\u05d1\\u05d8 \\u05e8\\u05d0\\u05e9\\u05d5\\u05df. \\u05d1-1912 \\u05e7\\u05d9\\u05d1\\u05dc \\u05e8\\u05e0\\u05d4 \\u05e2\\u05d1\\u05d5\\u05d3\\u05d4 \\u05d1\\u05e2\\u05e1\\u05e7 \\u05d4\\u05e2\\u05d5\\u05e8\\u05d5\\u05ea \\u05d1\\u05d4\\u05d5\\u05d3\\u05d5 \\u05e9\\u05dc \\u05de\\u05e9\\u05e4\\u05d7\\u05ea \\u05e9\\u05d9\\u05dc\\u05d9\\u05e0\\u05d2, \\u05d4\\u05d9\\u05d5\\u05d6\\u05de\\u05d4 \\u05d9\\u05e6\\u05d0\\u05d4 \\u05de\\u05de\\u05e9\\u05e4. \\u05e9\\u05d9\\u05dc\\u05d9\\u05e0\\u05d2. \\u05e9\\u05dd \\u05d4\\u05d9\\u05d4 \\u05d0\\u05de\\u05d5\\u05e8 \\u05dc\\u05dc\\u05de\\u05d5\\u05d3 \\u05d9\\u05d5\\u05ea\\u05e8 \\u05d8\\u05d5\\u05d1 \\u05d0\\u05ea \\u05d4\\u05de\\u05e7\\u05e6\\u05d5\\u05e2 \\u05d5\\u05d4\\u05d5\\u05d1\\u05d8\\u05d7 \\u05dc\\u05d5 \\u05e9\\u05d9\\u05d7\\u05d6\\u05d5\\u05e8 \\u05d0\\u05d7\\u05e8\\u05d9 \\u05e9\\u05e0\\u05ea\\u05d9\\u05d9\\u05dd \\u05d5\\u05d9\\u05e7\\u05d1\\u05dc \\u05ea\\u05e4\\u05e7\\u05d9\\u05d3 \\u05de\\u05db\\u05d5\\u05d1\\u05d3 \\u05d1\\u05e2\\u05e1\\u05e7 \\u05d4\\u05de\\u05e9\\u05e4\\u05d7\\u05ea\\u05d9 \\u05d1\\u05d2\\u05e8\\u05de\\u05e0\\u05d9\\u05d4. \\u05e4\\u05e8\\u05d5\\u05e5 \\u05de\\u05dc\\u05d7\\\"\\u05e2 I \\u05e2\\u05d9\\u05db\\u05d1\\u05d4 \\u05d0\\u05ea \\u05d7\\u05d6\\u05e8\\u05ea\\u05d5 \\u05e9\\u05dc \\u05e8\\u05e0\\u05d4 \\u05dc\\u05d2\\u05e8\\u05de\\u05e0\\u05d9\\u05d4 \\u05d5\\u05d4\\u05d5\\u05d0 \\u05d7\\u05d6\\u05e8 \\u05d1\\u05e1\\u05d5\\u05e3 \\u05d1-1919. \\u05e8\\u05e0\\u05d4 \\u05e0\\u05e2\\u05e6\\u05e8 \\u05e2\\\"\\u05d9 \\u05d4\\u05d1\\u05e8\\u05d9\\u05d8\\u05d9\\u05dd \\u05e9\\u05e9\\u05dc\\u05d8\\u05d5 \\u05d1\\u05d4\\u05d5\\u05d3\\u05d5 \\u05d1\\u05d2\\u05dc\\u05dc \\u05d3\\u05e8\\u05db\\u05d5\\u05e0\\u05d5 \\u05d4\\u05d2\\u05e8\\u05de\\u05e0\\u05d9 \\u05d5\\u05d4\\u05d5\\u05db\\u05e0\\u05e1 \\u05dc\\u05de\\u05d7\\u05e0\\u05d4 \\u05e9\\u05dc \\u05e0\\u05ea\\u05d9\\u05e0\\u05d9\\u05dd \\u05d6\\u05e8\\u05d9\\u05dd. \\u05d7\\u05d9\\u05d9\\u05d5 \\u05d1\\u05de\\u05d7\\u05e0\\u05d4 \\u05dc\\u05d0 \\u05d4\\u05d9\\u05d5 \\u05e8\\u05e2\\u05d9\\u05dd, \\u05db\\u05e4\\u05d9 \\u05e9\\u05e0\\u05d9\\u05ea\\u05df \\u05dc\\u05e7\\u05e8\\u05d5\\u05d0 \\u05d1\\u05de\\u05db\\u05ea\\u05d1\\u05d9\\u05d5. \\u05db\\u05dc \\u05ea\\u05e7\\u05d5\\u05e4\\u05ea \\u05e9\\u05d4\\u05d5\\u05ea\\u05d5 \\u05d1\\u05d4\\u05d5\\u05d3\\u05d5 \\u05d4\\u05de\\u05e9\\u05d9\\u05db\\u05d5 \\u05d4\\u05e9\\u05e0\\u05d9\\u05d9\\u05dd \\u05dc\\u05d4\\u05ea\\u05db\\u05ea\\u05d1 \\u05d5\\u05dc\\u05e7\\u05d5\\u05d5\\u05ea \\u05dc\\u05d4\\u05ea\\u05d0\\u05d7\\u05d3\\u05d5\\u05ea\\u05dd. \\u05db\\u05d0\\u05e9\\u05e8 \\u05dc\\u05d0 \\u05e0\\u05d9\\u05ea\\u05df \\u05d4\\u05d9\\u05d4 \\u05dc\\u05d4\\u05ea\\u05db\\u05ea\\u05d1 \\u05d9\\u05e9\\u05d9\\u05e8\\u05d5\\u05ea \\u05d1\\u05d9\\u05df \\u05d4\\u05d5\\u05d3\\u05d5 \\u05d4\\u05d1\\u05e8\\u05d9\\u05d8\\u05d9\\u05ea \\u05d5\\u05d2\\u05e8\\u05de\\u05e0\\u05d9\\u05d4, \\u05e0\\u05de\\u05e6\\u05d0 \\u05e4\\u05ea\\u05e8\\u05d5\\u05df \\u05d1\\u05d0\\u05d3\\u05dd \\u05de\\u05d0\\u05de\\u05e1\\u05d8\\u05e8\\u05d3\\u05dd \\u05d1\\u05e9\\u05dd \\u05e4. \\u05e4\\u05d5\\u05df \\u05de\\u05e7\\u05e8\\u05df P. von Mekreen \\u05e9\\u05d4\\u05e2\\u05d1\\u05d9\\u05e8 \\u05d0\\u05ea \\u05d4\\u05de\\u05db\\u05ea\\u05d1\\u05d9\\u05dd \\u05e9\\u05d4\\u05d2\\u05d9\\u05e2\\u05d5 \\u05dc\\u05db\\u05ea\\u05d5\\u05d1\\u05ea\\u05d5 \\u05de\\u05e8\\u05e0\\u05d4 \\u05dc\\u05d4\\u05dc\\u05d4 \\u05d5\\u05d4\\u05e4\\u05d5\\u05da. \\u05e2\\u05d5\\u05d3 \\u05d1\\u05d8\\u05e8\\u05dd \\u05e6\\u05d0\\u05ea\\u05d5 \\u05e9\\u05dc \\u05e8\\u05e0\\u05d4 \\u05dc\\u05d4\\u05d5\\u05d3\\u05d5, \\u05d4\\u05e1\\u05db\\u05d9\\u05de\\u05d5 \\u05d4\\u05e9\\u05e0\\u05d9\\u05d9\\u05dd \\u05e2\\u05dc \\u05e8\\u05e9\\u05d9\\u05de\\u05d4 \\u05e9\\u05dc \\u05e7\\u05d5\\u05d3\\u05d9\\u05dd \\u05d1\\u05d4 \\u05d4\\u05dd \\u05d2\\u05dd \\u05de\\u05e9\\u05ea\\u05de\\u05e9\\u05d9\\u05dd \\u05de\\u05d3\\u05d9 \\u05e4\\u05e2\\u05dd \\u05d1\\u05e4\\u05e2\\u05dd. \\u05d4\\u05d5\\u05e8\\u05d9\\u05d4 \\u05e9\\u05dc \\u05d4\\u05dc\\u05d4 \\u05dc\\u05d0 \\u05d4\\u05d9\\u05d5 \\u05de\\u05e8\\u05d5\\u05e6\\u05d9\\u05dd \\u05de\\u05d4\\u05e7\\u05e9\\u05e8 \\u05e9\\u05dc\\u05d4 \\u05e2\\u05dd \\u05e8\\u05e0\\u05d4, \\u05e9\\u05d4\\u05d9\\u05d4 \\u05d7\\u05e1\\u05e8 \\u05db\\u05dc. \\u05d4\\u05dd \\u05d1\\u05d3\\u05e7\\u05d5 \\u05d0\\u05ea \\u05de\\u05db\\u05ea\\u05d1\\u05d9\\u05d4 \\u05d5\\u05d0\\u05e3 \\u05d4\\u05d1\\u05d9\\u05e2\\u05d5 \\u05d0\\u05ea \\u05d3\\u05e2\\u05ea\\u05dd \\u05e2\\u05dc \\u05e8\\u05e0\\u05d4 \\u05d5\\u05d4\\u05e7\\u05e9\\u05e8 \\u05d0\\u05dc\\u05d9\\u05d5. \\u05d4\\u05dc\\u05d4 \\u05e0\\u05d4\\u05d2\\u05d4 \\u05dc\\u05e6\\u05d3 \\u05d4\\u05de\\u05db\\u05ea\\u05d1 \\u05d4\\u05e8\\u05e9\\u05de\\u05d9 \\u05d0\\u05dc \\u05e8\\u05e0\\u05d4 \\u05e9\\u05d4\\u05d5\\u05e8\\u05d9\\u05d4 \\u05e0\\u05d4\\u05d2\\u05d5 \\u05dc\\u05e7\\u05e8\\u05d5\\u05d0, \\u05dc\\u05d4\\u05db\\u05e0\\u05d9\\u05e1 \\u05d1\\u05d4\\u05e1\\u05ea\\u05e8 \\u05e4\\u05ea\\u05e7 \\u05e2\\u05dd \\u05ea\\u05d5\\u05db\\u05df \\u05e8\\u05d5\\u05de\\u05e0\\u05d8\\u05d9. \\u05e2\\u05dc \\u05d0\\u05d7\\u05ea \\u05de\\u05de\\u05e2\\u05d8\\u05e4\\u05d5\\u05ea \\u05d4\\u05de\\u05db\\u05ea\\u05d1\\u05d9\\u05dd \\u05e9\\u05dc \\u05e8\\u05e0\\u05d4 \\u05dc\\u05d4\\u05dc\\u05d4, \\u05de\\u05ea\\u05d7\\u05ea \\u05dc\\u05d1\\u05d5\\u05dc \\u05d2\\u05d3\\u05d5\\u05dc \\u05e0\\u05de\\u05e6\\u05d0\\u05d5\\u05ea \\u05de\\u05d9\\u05dc\\u05d9\\u05dd \\u05e8\\u05d5\\u05de\\u05e0\\u05d8\\u05d9\\u05d5\\u05ea \\u05e2\\u05d1\\u05d5\\u05e8 \\u05d4\\u05dc\\u05d4. \\u05d1-1920 \\u05e0\\u05d9\\u05e9\\u05d0\\u05d5 \\u05d4\\u05e9\\u05e0\\u05d9\\u05d9\\u05dd. \\u05e8\\u05e0\\u05d4 \\u05e2\\u05dc\\u05d4 \\u05dc\\u05d0\\u05e8\\u05e5 \\u05d1-1935, \\u05e0\\u05e9\\u05dc\\u05d7 \\u05dc\\u05e4\\u05ea\\u05d5\\u05d7 \\u05e1\\u05e0\\u05d9\\u05e3 \\u05e9\\u05dc \\u05d1\\u05e0\\u05e7 \\u05d0\\u05d9\\u05d2\\u05d5\\u05d3 \\u05e9\\u05dc \\u05d4\\u05e4\\u05d5\\u05e2\\u05dc \\u05d4\\u05de\\u05d6\\u05e8\\u05d7\\u05d9 \\u05d1\\u05d7\\u05d9\\u05e4\\u05d4. \\u05d4\\u05dc\\u05d4 \\u05e2\\u05dc\\u05ea\\u05d4 \\u05e2\\u05dd \\u05d9\\u05dc\\u05d3\\u05d9\\u05d4 \\u05d1-1936. \\u05d4\\u05de\\u05e9\\u05e4\\u05d7\\u05d4 \\u05d2\\u05e8\\u05d4 \\u05d1\\u05d7\\u05d9\\u05e4\\u05d4, \\u05d1\\u05e9\\u05e0\\u05ea 1955 \\u05e2\\u05d1\\u05e8\\u05d4 \\u05dc\\u05d8\\u05d1\\u05e2\\u05d5\\u05df. \\u05d4\\u05d1\\u05ea \\u05d0\\u05d5\\u05d4 \\u05d5\\u05d9\\u05d9\\u05e1 \\u05d2\\u05e8\\u05d4 \\u05d1\\u05ea\\u05dc-\\u05d0\\u05d1\\u05d9\\u05d1 \\u05d5\\u05d1-1985 \\u05e2\\u05d1\\u05e8\\u05d4 \\u05dc\\u05d2\\u05d5\\u05e8 \\u05e2\\u05dd \\u05d0\\u05de\\u05d4 \\u05d4\\u05d7\\u05d5\\u05dc\\u05d4 \\u05d1\\u05d1\\u05d9\\u05ea \\u05d1\\u05d8\\u05d1\\u05e2\\u05d5\\u05df \\u05e9\\u05dd \\u05d7\\u05d9\\u05d4 \\u05e2\\u05d3 \\u05e7\\u05e8\\u05d5\\u05d1 \\u05dc\\u05de\\u05d5\\u05ea\\u05d4, \\u05d4\\u05d9\\u05ea\\u05d4 \\u05db\\u05d7\\u05e6\\u05d9 \\u05e9\\u05e0\\u05d4 \\u05d1\\u05d1\\u05d9\\u05ea \\u05d0\\u05d1\\u05d5\\u05ea \\u05e9\\u05dd \\u05e0\\u05e4\\u05d8\\u05e8\\u05d4.\",\n          \"\\u05d4\\u05ea\\u05d9\\u05e7 \\u05de\\u05db\\u05d9\\u05dc \\u05db\\u05e8\\u05d8\\u05d9\\u05e1\\u05d9\\u05d5\\u05ea \\u05dc\\u05d0\\u05d9\\u05e1\\u05d5\\u05e3 \\u05e0\\u05ea\\u05d5\\u05e0\\u05d9\\u05dd \\u05e2\\u05dc \\u05d1\\u05e0\\u05d9 \\u05de\\u05e9\\u05e4\\u05d7\\u05d4, \\u05e2\\u05dc\\u05d9\\u05d4\\u05df \\u05e8\\u05e9\\u05de\\u05d4 \\u05d2'\\u05e0\\u05d9 \\u05e7\\u05e8\\u05de\\u05e8 \\u05d0\\u05ea \\u05ea\\u05d5\\u05e6\\u05d0\\u05d5\\u05ea \\u05de\\u05d7\\u05e7\\u05e8\\u05d9\\u05d4. \\u05d0\\u05d9\\u05e1\\u05d5\\u05e3 \\u05d4\\u05e0\\u05ea\\u05d5\\u05e0\\u05d9\\u05dd \\u05e2\\u05dc \\u05d2\\u05d1\\u05d9 \\u05d4\\u05db\\u05e8\\u05d8\\u05d9\\u05e1\\u05d9\\u05d5\\u05ea \\u05e0\\u05e8\\u05e9\\u05dd \\u05d1\\u05d0\\u05d5\\u05e4\\u05df \\u05d4\\u05d1\\u05d0: \\u05e9\\u05dd, \\u05de\\u05e7\\u05e6\\u05d5\\u05e2, \\u05ea\\u05d5\\u05d0\\u05e8, \\u05e2\\u05d9\\u05e8/\\u05d9\\u05e9\\u05d5\\u05d1, \\u05e4\\u05e8\\u05d8\\u05d9 \\u05dc\\u05d9\\u05d3\\u05d4, \\u05e4\\u05e8\\u05d8\\u05d9 \\u05e4\\u05d8\\u05d9\\u05e8\\u05d4, \\u05e4\\u05e8\\u05d8\\u05d9 \\u05e0\\u05d9\\u05e9\\u05d5\\u05d0\\u05d9\\u05df, \\u05e4\\u05e8\\u05d8\\u05d9\\u05dd \\u05e2\\u05dc \\u05d1\\u05df/\\u05d1\\u05ea \\u05d4\\u05d6\\u05d5\\u05d2, \\u05e4\\u05e8\\u05d5\\u05d8 \\u05d4\\u05d9\\u05dc\\u05d3\\u05d9\\u05dd, \\u05e4\\u05e8\\u05d8\\u05d9 \\u05d4\\u05d0\\u05d1/\\u05d0\\u05dd. \\u05d1\\u05e6\\u05d3\\u05d5 \\u05d4\\u05e9\\u05e0\\u05d9 \\u05e9\\u05dc \\u05d4\\u05db\\u05e8\\u05d8\\u05d9\\u05e1 \\u05e0\\u05e8\\u05e9\\u05dd \\u05d4\\u05de\\u05e7\\u05d5\\u05e8 \\u05dc\\u05de\\u05d9\\u05d3\\u05e2. \\u05de\\u05e7\\u05d5\\u05dd \\u05d6\\u05d4 \\u05e0\\u05d9\\u05e6\\u05dc\\u05d4 \\u05d2'\\u05e0\\u05d9 \\u05dc\\u05e2\\u05d9\\u05ea\\u05d9\\u05dd \\u05e7\\u05e8\\u05d5\\u05d1\\u05d5\\u05ea \\u05dc\\u05db\\u05ea\\u05d9\\u05d1\\u05d4 \\u05e8\\u05dc\\u05d5\\u05d5\\u05e0\\u05d8\\u05d9\\u05ea \\u05dc\\u05d0\\u05d3\\u05dd \\u05d0\\u05d5\\u05ea\\u05d5 \\u05ea\\u05d9\\u05e2\\u05d3\\u05d4. \\u05e2\\u05dc \\u05d7\\u05dc\\u05e7 \\u05de\\u05d4\\u05db\\u05e8\\u05d8\\u05d9\\u05e1\\u05d9\\u05dd \\u05d4\\u05d9\\u05d0 \\u05d4\\u05d5\\u05e1\\u05d9\\u05e4\\u05d4 \\u05ea\\u05e6\\u05dc\\u05d5\\u05de\\u05d9 \\u05d3\\u05d9\\u05d5\\u05e7\\u05df. \\u05e2\\u05dc \\u05d4\\u05db\\u05e8\\u05d8\\u05d9\\u05e1\\u05d9\\u05d5\\u05ea \\u05e8\\u05e9\\u05d5\\u05de\\u05d9\\u05dd \\u05e6\\u05d0\\u05e6\\u05d0\\u05d9\\u05d4\\u05dd \\u05e9\\u05dc \\u05d4\\u05de\\u05e9\\u05e4\\u05d7\\u05d5\\u05ea: \\u05d4\\u05e1 Hess, \\u05e7\\u05e8\\u05de\\u05e8 Cramer, \\u05d9\\u05e2\\u05e7\\u05d1\\u05d9 Jakobi, \\u05e0\\u05d5\\u05d9\\u05de\\u05e8\\u05e7 Neumark \\u05d5\\u05e2\\u05d5\\u05d3.\",\n          \"\\u05d4\\u05d4\\u05ea\\u05db\\u05ea\\u05d1\\u05d5\\u05ea \\u05d1\\u05d9\\u05df \\u05e8\\u05e0\\u05d4 \\u05d5\\u05d4\\u05dc\\u05d4 \\u05d4\\u05d7\\u05dc\\u05d4 \\u05d1-1911 \\u05dc\\u05d0\\u05d7\\u05e8 \\u05e9\\u05d4\\u05db\\u05d9\\u05e8\\u05d5. \\u05d4\\u05e9\\u05e0\\u05d9\\u05d9\\u05dd \\u05d7\\u05d9\\u05d5 \\u05d1\\u05e2\\u05e8\\u05d9\\u05dd \\u05e9\\u05d5\\u05e0\\u05d5\\u05ea, \\u05e8\\u05e0\\u05d4 \\u05d1\\u05e4\\u05e8\\u05e0\\u05e7\\u05e4\\u05d5\\u05e8\\u05d8 \\u05e2\\u05dc \\u05d4\\u05de\\u05d9\\u05d9\\u05df \\u05d5\\u05d4\\u05dc\\u05d4 \\u05d1\\u05d0\\u05e1\\u05df. \\u05d4\\u05de\\u05db\\u05ea\\u05d1\\u05d9\\u05dd \\u05d4\\u05d9\\u05d5 \\u05dc\\u05e9\\u05e0\\u05d9\\u05d4\\u05dd \\u05de\\u05d0\\u05d3 \\u05d7\\u05e9\\u05d5\\u05d1\\u05d9\\u05dd \\u05d5\\u05d4\\u05dd \\u05e6\\u05d9\\u05e4\\u05d5 \\u05dc\\u05d4\\u05dd \\u05d1\\u05e7\\u05d5\\u05e6\\u05e8 \\u05e8\\u05d5\\u05d7. \\u05dc\\u05de\\u05e2\\u05e9\\u05d4 \\u05d0\\u05ea \\u05d4\\u05d4\\u05d9\\u05db\\u05e8\\u05d5\\u05ea \\u05d4\\u05de\\u05e2\\u05de\\u05d9\\u05e7\\u05d4 \\u05d1\\u05d9\\u05e0\\u05d9\\u05d4\\u05dd \\u05d4\\u05dd \\u05e2\\u05e9\\u05d5 \\u05d1\\u05d4\\u05ea\\u05db\\u05ea\\u05d1\\u05d5\\u05ea. \\u05de\\u05e8\\u05d1\\u05d9\\u05ea \\u05d4\\u05d4\\u05ea\\u05db\\u05ea\\u05d1\\u05d5\\u05ea \\u05e0\\u05e2\\u05e9\\u05d9\\u05ea \\u05d1\\u05d9\\u05df \\u05d4\\u05e9\\u05e0\\u05d9\\u05d9\\u05dd \\u05de-1911-1921, \\u05de\\u05ea\\u05e7\\u05d5\\u05e4\\u05ea \\u05e9\\u05d4\\u05d5\\u05ea\\u05d5 \\u05e9\\u05dc \\u05e8\\u05e0\\u05d4 \\u05d1\\u05d4\\u05d5\\u05d3\\u05d5. \\u05d4\\u05d5\\u05e8\\u05d9\\u05d4 \\u05e9\\u05dc \\u05d4\\u05dc\\u05d4 \\u05d4\\u05ea\\u05e0\\u05d2\\u05d3\\u05d5 \\u05dc\\u05e7\\u05e9\\u05e8 \\u05d4\\u05e8\\u05d5\\u05de\\u05e0\\u05d8\\u05d9 \\u05d1\\u05d9\\u05df \\u05d4\\u05e9\\u05e0\\u05d9\\u05d9\\u05dd \\u05d5\\u05d4\\u05d6\\u05d5\\u05d2 \\u05d4\\u05e6\\u05e2\\u05d9\\u05e8 \\u05de\\u05e6\\u05d0 \\u05d3\\u05e8\\u05db\\u05d9\\u05dd \\u05dc\\u05e9\\u05de\\u05d5\\u05e8 \\u05e2\\u05dc \\u05e1\\u05d5\\u05d3\\u05d9\\u05d5\\u05ea \\u05de\\u05e1\\u05d5\\u05d9\\u05de\\u05ea. \\u05d4\\u05dd \\u05d4\\u05e9\\u05ea\\u05de\\u05e9\\u05d5 \\u05d1\\u05db\\u05ea\\u05d5\\u05d1\\u05d5\\u05ea \\u05e9\\u05dc \\u05de\\u05db\\u05e8\\u05d9\\u05dd, \\u05d4\\u05e9\\u05ea\\u05de\\u05e9\\u05d5 \\u05d1\\u05e7\\u05d5\\u05d3, \\u05d4\\u05dc\\u05d4 \\u05d4\\u05d5\\u05e1\\u05d9\\u05e4\\u05d4 \\u05d1\\u05e1\\u05ea\\u05e8 \\u05dc\\u05de\\u05db\\u05ea\\u05d1\\u05d9\\u05dd, \\u05d0\\u05d5\\u05ea\\u05dd \\u05d4\\u05e7\\u05e4\\u05d9\\u05d3\\u05d4 \\u05d0\\u05de\\u05d4 \\u05dc\\u05e7\\u05e8\\u05d5\\u05d0, \\u05e4\\u05ea\\u05e7\\u05d0\\u05d5\\u05ea \\u05db\\u05ea\\u05d5\\u05d1\\u05d5\\u05ea \\u05d1\\u05d7\\u05e9\\u05d0\\u05d9 \\u05e2\\u05dd \\u05ea\\u05d5\\u05db\\u05df \\u05e8\\u05d5\\u05de\\u05e0\\u05d8\\u05d9, \\u05e8\\u05e0\\u05d4 \\u05d4\\u05d5\\u05e1\\u05d9\\u05e3 \\u05ea\\u05d5\\u05db\\u05df \\u05e8\\u05d5\\u05de\\u05e0\\u05d8\\u05d9 \\u05de\\u05ea\\u05d7\\u05ea \\u05dc\\u05d1\\u05d5\\u05dc \\u05d2\\u05d3\\u05d5\\u05dc \\u05d1\\u05de\\u05d9\\u05d5\\u05d7\\u05d3 \\u05d0\\u05d5\\u05ea\\u05d5 \\u05d4\\u05d3\\u05d1\\u05d9\\u05e7 \\u05e2\\u05dc \\u05de\\u05e2\\u05d8\\u05e4\\u05ea \\u05d4\\u05de\\u05db\\u05ea\\u05d1. \\u05d4\\u05e9\\u05e0\\u05d9\\u05d9\\u05dd \\u05e0\\u05d4\\u05d2\\u05d5 \\u05dc\\u05d4\\u05d5\\u05e1\\u05d9\\u05e3 \\u05dc\\u05de\\u05db\\u05ea\\u05d1\\u05d9\\u05dd \\u05e4\\u05e8\\u05d7\\u05d9\\u05dd \\u05d5\\u05e2\\u05dc\\u05d9\\u05dd \\u05de\\u05d9\\u05d5\\u05d1\\u05e9\\u05d9\\u05dd \\u05d5\\u05d2\\u05dd \\u05ea\\u05de\\u05d5\\u05e0\\u05d5\\u05ea \\u05de\\u05d3\\u05d9 \\u05e4\\u05e2\\u05dd. \\u05de\\u05db\\u05ea\\u05d1\\u05d9\\u05d4 \\u05e9\\u05dc \\u05d4\\u05dc\\u05d4, \\u05e9\\u05d4\\u05d9\\u05d9\\u05ea\\u05d4 \\u05d1\\u05ea 16 \\u05e2\\u05dd \\u05ea\\u05d7\\u05d9\\u05dc\\u05ea \\u05d4\\u05e7\\u05e9\\u05e8/\\u05d4\\u05d4\\u05ea\\u05db\\u05ea\\u05d1\\u05d5\\u05ea, \\u05d0\\u05e8\\u05d5\\u05db\\u05d9\\u05dd \\u05d5\\u05de\\u05dc\\u05d0\\u05d9 \\u05ea\\u05db\\u05e0\\u05d9\\u05dd. \\u05d4\\u05d9\\u05d0 \\u05de\\u05d3\\u05d5\\u05d5\\u05d7\\u05ea \\u05e2\\u05dc \\u05db\\u05dc \\u05e9\\u05e7\\u05d5\\u05e8\\u05d4 \\u05dc\\u05d4 \\u05d0\\u05d9\\u05e9\\u05d9\\u05ea, \\u05de\\u05e9\\u05e4\\u05d7\\u05ea\\u05d9\\u05ea, \\u05d7\\u05d1\\u05e8\\u05ea\\u05d9\\u05ea. \\u05d4\\u05d9\\u05d0 \\u05de\\u05ea\\u05de\\u05d5\\u05d3\\u05d3\\u05ea \\u05e2\\u05dd \\u05e9\\u05d0\\u05dc\\u05d5\\u05ea \\u05e4\\u05d9\\u05dc\\u05d5\\u05e1\\u05d5\\u05e4\\u05d9\\u05d5\\u05ea, \\u05e9\\u05d0\\u05dc\\u05d5\\u05ea \\u05e4\\u05d5\\u05dc\\u05d9\\u05d8\\u05d9\\u05d5\\u05ea \\u05db\\u05dc\\u05dc\\u05d9\\u05d5\\u05ea \\u05d5\\u05d9\\u05d4\\u05d5\\u05d3\\u05d9\\u05d5\\u05ea (\\u05e6\\u05d9\\u05d5\\u05e0\\u05d5\\u05ea \\u05db\\u05df/\\u05dc\\u05d0), \\u05e9\\u05d0\\u05dc\\u05d5\\u05ea \\u05d3\\u05ea, \\u05e1\\u05e4\\u05e8\\u05d5\\u05ea, \\u05e9\\u05d9\\u05e8\\u05d4 \\u05d5\\u05e2\\u05d5\\u05d3. \\u05de\\u05db\\u05ea\\u05d1\\u05d9\\u05d4 \\u05de\\u05e8\\u05e9\\u05d9\\u05de\\u05d9\\u05dd \\u05d1\\u05d2\\u05d9\\u05e9\\u05d4 \\u05d4\\u05d1\\u05d5\\u05d2\\u05e8\\u05ea \\u05d5\\u05d4\\u05de\\u05e2\\u05de\\u05d9\\u05e7\\u05d4 - \\u05dc\\u05de\\u05e8\\u05d5\\u05ea \\u05d2\\u05d9\\u05dc\\u05d4 \\u05d4\\u05e6\\u05e2\\u05d9\\u05e8. \\u05e8\\u05e0\\u05d4 \\u05db\\u05ea\\u05d1 \\u05de\\u05db\\u05ea\\u05d1\\u05d9\\u05dd \\u05d0\\u05e8\\u05d5\\u05db\\u05d9\\u05dd, \\u05d4\\u05ea\\u05db\\u05e0\\u05d9\\u05dd \\u05d0\\u05d9\\u05e0\\u05dd \\u05db\\u05d4 \\u05de\\u05d2\\u05d5\\u05d5\\u05e0\\u05d9\\u05dd \\u05db\\u05de\\u05d5 \\u05d0\\u05e6\\u05dc \\u05d4\\u05dc\\u05d4 \\u05e9\\u05d4\\u05e8\\u05d9 \\u05de\\u05e8\\u05d1\\u05d9\\u05ea\\u05dd \\u05e0\\u05db\\u05ea\\u05d1\\u05d5 \\u05de\\u05de\\u05d7\\u05e0\\u05d4 \\u05d4\\u05de\\u05e2\\u05e6\\u05e8 \\u05d1\\u05d4\\u05d5\\u05d3\\u05d5 \\u05d5\\u05d7\\u05d5\\u05d5\\u05d9\\u05d5\\u05ea\\u05d9\\u05d5 \\u05e9\\u05dd \\u05d0\\u05d9\\u05e0\\u05df \\u05e8\\u05d1\\u05d5\\u05ea. \\u05d4\\u05e9\\u05e0\\u05d9\\u05d9\\u05dd \\u05de\\u05ea\\u05d2\\u05e2\\u05d2\\u05e2\\u05d9\\u05dd \\u05d6\\u05d4 \\u05dc\\u05d6\\u05d4 \\u05d5\\u05de\\u05d7\\u05d6\\u05e7\\u05d9\\u05dd \\u05d6\\u05d4 \\u05d0\\u05ea \\u05d6\\u05d4 \\u05d1\\u05d0\\u05de\\u05e6\\u05e2\\u05d5\\u05ea \\u05d4\\u05de\\u05db\\u05ea\\u05d1\\u05d9\\u05dd \\u05d5\\u05dc\\u05d0 \\u05de\\u05d0\\u05d1\\u05d3\\u05d9\\u05dd \\u05ea\\u05e7\\u05d5\\u05d5\\u05d4 \\u05e9\\u05d1\\u05d1\\u05d5\\u05d0 \\u05d4\\u05d9\\u05d5\\u05dd \\u05d9\\u05d7\\u05d9\\u05d5 \\u05d9\\u05d7\\u05d3.\"\n        ],\n        \"semantic_type\": \"\",\n        \"description\": \"\"\n      }\n    }\n  ]\n}"
                  }
                },
                "metadata": {}
              }
            ]
          }
        },
        "4d96e685d46044cc8afdb817321fc694": {
          "model_module": "@jupyter-widgets/base",
          "model_name": "LayoutModel",
          "model_module_version": "1.2.0",
          "state": {
            "_model_module": "@jupyter-widgets/base",
            "_model_module_version": "1.2.0",
            "_model_name": "LayoutModel",
            "_view_count": null,
            "_view_module": "@jupyter-widgets/base",
            "_view_module_version": "1.2.0",
            "_view_name": "LayoutView",
            "align_content": null,
            "align_items": null,
            "align_self": null,
            "border": null,
            "bottom": null,
            "display": null,
            "flex": null,
            "flex_flow": null,
            "grid_area": null,
            "grid_auto_columns": null,
            "grid_auto_flow": null,
            "grid_auto_rows": null,
            "grid_column": null,
            "grid_gap": null,
            "grid_row": null,
            "grid_template_areas": null,
            "grid_template_columns": null,
            "grid_template_rows": null,
            "height": null,
            "justify_content": null,
            "justify_items": null,
            "left": null,
            "margin": null,
            "max_height": null,
            "max_width": null,
            "min_height": null,
            "min_width": null,
            "object_fit": null,
            "object_position": null,
            "order": null,
            "overflow": null,
            "overflow_x": null,
            "overflow_y": null,
            "padding": null,
            "right": null,
            "top": null,
            "visibility": null,
            "width": null
          }
        },
        "8431c68fba8943d1bf477dafb3e92324": {
          "model_module": "@jupyter-widgets/controls",
          "model_name": "ButtonModel",
          "model_module_version": "1.5.0",
          "state": {
            "_dom_classes": [],
            "_model_module": "@jupyter-widgets/controls",
            "_model_module_version": "1.5.0",
            "_model_name": "ButtonModel",
            "_view_count": null,
            "_view_module": "@jupyter-widgets/controls",
            "_view_module_version": "1.5.0",
            "_view_name": "ButtonView",
            "button_style": "info",
            "description": "Export to CSV",
            "disabled": false,
            "icon": "download",
            "layout": "IPY_MODEL_e56c7e8d409c4c09a1da855a2176dd4d",
            "style": "IPY_MODEL_c227e1407b9940c7aaa6ee2409264aa0",
            "tooltip": "Export the parsed and edited items to CSV"
          }
        },
        "e56c7e8d409c4c09a1da855a2176dd4d": {
          "model_module": "@jupyter-widgets/base",
          "model_name": "LayoutModel",
          "model_module_version": "1.2.0",
          "state": {
            "_model_module": "@jupyter-widgets/base",
            "_model_module_version": "1.2.0",
            "_model_name": "LayoutModel",
            "_view_count": null,
            "_view_module": "@jupyter-widgets/base",
            "_view_module_version": "1.2.0",
            "_view_name": "LayoutView",
            "align_content": null,
            "align_items": null,
            "align_self": null,
            "border": null,
            "bottom": null,
            "display": null,
            "flex": null,
            "flex_flow": null,
            "grid_area": null,
            "grid_auto_columns": null,
            "grid_auto_flow": null,
            "grid_auto_rows": null,
            "grid_column": null,
            "grid_gap": null,
            "grid_row": null,
            "grid_template_areas": null,
            "grid_template_columns": null,
            "grid_template_rows": null,
            "height": null,
            "justify_content": null,
            "justify_items": null,
            "left": null,
            "margin": null,
            "max_height": null,
            "max_width": null,
            "min_height": null,
            "min_width": null,
            "object_fit": null,
            "object_position": null,
            "order": null,
            "overflow": null,
            "overflow_x": null,
            "overflow_y": null,
            "padding": null,
            "right": null,
            "top": null,
            "visibility": null,
            "width": null
          }
        },
        "c227e1407b9940c7aaa6ee2409264aa0": {
          "model_module": "@jupyter-widgets/controls",
          "model_name": "ButtonStyleModel",
          "model_module_version": "1.5.0",
          "state": {
            "_model_module": "@jupyter-widgets/controls",
            "_model_module_version": "1.5.0",
            "_model_name": "ButtonStyleModel",
            "_view_count": null,
            "_view_module": "@jupyter-widgets/base",
            "_view_module_version": "1.2.0",
            "_view_name": "StyleView",
            "button_color": null,
            "font_weight": ""
          }
        },
        "4687b884cb43408882d75816551507da": {
          "model_module": "@jupyter-widgets/output",
          "model_name": "OutputModel",
          "model_module_version": "1.0.0",
          "state": {
            "_dom_classes": [],
            "_model_module": "@jupyter-widgets/output",
            "_model_module_version": "1.0.0",
            "_model_name": "OutputModel",
            "_view_count": null,
            "_view_module": "@jupyter-widgets/output",
            "_view_module_version": "1.0.0",
            "_view_name": "OutputView",
            "layout": "IPY_MODEL_82a268b9ae4549b0ba9021a1fd97eacc",
            "msg_id": "",
            "outputs": [
              {
                "output_type": "display_data",
                "data": {
                  "text/plain": "<IPython.core.display.Javascript object>",
                  "application/javascript": "\n    async function download(id, filename, size) {\n      if (!google.colab.kernel.accessAllowed) {\n        return;\n      }\n      const div = document.createElement('div');\n      const label = document.createElement('label');\n      label.textContent = `Downloading \"${filename}\": `;\n      div.appendChild(label);\n      const progress = document.createElement('progress');\n      progress.max = size;\n      div.appendChild(progress);\n      document.body.appendChild(div);\n\n      const buffers = [];\n      let downloaded = 0;\n\n      const channel = await google.colab.kernel.comms.open(id);\n      // Send a message to notify the kernel that we're ready.\n      channel.send({})\n\n      for await (const message of channel.messages) {\n        // Send a message to notify the kernel that we're ready.\n        channel.send({})\n        if (message.buffers) {\n          for (const buffer of message.buffers) {\n            buffers.push(buffer);\n            downloaded += buffer.byteLength;\n            progress.value = downloaded;\n          }\n        }\n      }\n      const blob = new Blob(buffers, {type: 'application/binary'});\n      const a = document.createElement('a');\n      a.href = window.URL.createObjectURL(blob);\n      a.download = filename;\n      div.appendChild(a);\n      a.click();\n      div.remove();\n    }\n  "
                },
                "metadata": {}
              },
              {
                "output_type": "display_data",
                "data": {
                  "text/plain": "<IPython.core.display.Javascript object>",
                  "application/javascript": "download(\"download_b04b2057-a9e6-4efa-9493-189ae1bb221b\", \"parsed_items.csv\", 83301)"
                },
                "metadata": {}
              },
              {
                "output_type": "stream",
                "name": "stdout",
                "text": [
                  "Exported successfully. Download should begin shortly.\n"
                ]
              }
            ]
          }
        },
        "82a268b9ae4549b0ba9021a1fd97eacc": {
          "model_module": "@jupyter-widgets/base",
          "model_name": "LayoutModel",
          "model_module_version": "1.2.0",
          "state": {
            "_model_module": "@jupyter-widgets/base",
            "_model_module_version": "1.2.0",
            "_model_name": "LayoutModel",
            "_view_count": null,
            "_view_module": "@jupyter-widgets/base",
            "_view_module_version": "1.2.0",
            "_view_name": "LayoutView",
            "align_content": null,
            "align_items": null,
            "align_self": null,
            "border": null,
            "bottom": null,
            "display": null,
            "flex": null,
            "flex_flow": null,
            "grid_area": null,
            "grid_auto_columns": null,
            "grid_auto_flow": null,
            "grid_auto_rows": null,
            "grid_column": null,
            "grid_gap": null,
            "grid_row": null,
            "grid_template_areas": null,
            "grid_template_columns": null,
            "grid_template_rows": null,
            "height": null,
            "justify_content": null,
            "justify_items": null,
            "left": null,
            "margin": null,
            "max_height": null,
            "max_width": null,
            "min_height": null,
            "min_width": null,
            "object_fit": null,
            "object_position": null,
            "order": null,
            "overflow": null,
            "overflow_x": null,
            "overflow_y": null,
            "padding": null,
            "right": null,
            "top": null,
            "visibility": null,
            "width": null
          }
        }
      }
    }
  },
  "nbformat": 4,
  "nbformat_minor": 5
}