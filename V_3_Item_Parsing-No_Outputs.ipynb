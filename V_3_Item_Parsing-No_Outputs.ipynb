{
  "cells": [
    {
      "cell_type": "markdown",
      "id": "setup-environment",
      "metadata": {
        "id": "setup-environment"
      },
      "source": [
        "# Data Processing and Parsing Notebook\n",
        "\n",
        "Welcome to the Data Processing and Parsing Notebook! This notebook is designed to help you parse and process collection descriptions using OpenAI's GPT-4 model. You'll be able to:\n",
        "\n",
        "- Select specific columns from your dataset.\n",
        "- Use AI to parse descriptions into general and specific item descriptions.\n",
        "- Track progress with visual progress bars.\n",
        "- Save your progress and resume processing later.\n",
        "- Edit and review the parsed data interactively.\n",
        "- Export the final results.\n",
        "\n"
      ]
    },
    {
      "cell_type": "markdown",
      "id": "install-libraries",
      "metadata": {
        "id": "install-libraries"
      },
      "source": [
        "## Step 1: Setup Environment\n",
        "\n",
        "First, we need to install the necessary libraries."
      ]
    },
    {
      "cell_type": "code",
      "execution_count": null,
      "id": "install-pip-libraries",
      "metadata": {
        "id": "install-pip-libraries"
      },
      "outputs": [],
      "source": [
        "!pip install pandas openai==0.28 ipywidgets tqdm"
      ]
    },
    {
      "cell_type": "markdown",
      "id": "import-libraries",
      "metadata": {
        "id": "import-libraries"
      },
      "source": [
        "## Step 2: Import Necessary Libraries\n",
        "\n",
        "We will import all the libraries required for data processing, API interaction, and creating interactive widgets."
      ]
    },
    {
      "cell_type": "code",
      "execution_count": null,
      "id": "import-libraries-code",
      "metadata": {
        "id": "import-libraries-code"
      },
      "outputs": [],
      "source": [
        "import pandas as pd\n",
        "import openai\n",
        "import json\n",
        "import ipywidgets as widgets\n",
        "from IPython.display import display, clear_output, HTML\n",
        "from google.colab import files, userdata\n",
        "import uuid\n",
        "import os\n",
        "import time\n",
        "from tqdm import tqdm\n",
        "from getpass import getpass\n"
      ]
    },
    {
      "cell_type": "markdown",
      "id": "load-dataset",
      "metadata": {
        "id": "load-dataset"
      },
      "source": [
        "## Step 3: Load Your Dataset\n",
        "\n",
        "Please upload your Excel file containing the collection descriptions. Make sure the file is in the same directory or provide the correct file path."
      ]
    },
    {
      "cell_type": "code",
      "execution_count": null,
      "id": "load-dataset-code",
      "metadata": {
        "id": "load-dataset-code"
      },
      "outputs": [],
      "source": [
        "# If you need to upload the file from your local machine\n",
        "# uploaded = files.upload()\n",
        "\n",
        "# Specify the file path to your Excel file\n",
        "file_path = '/content/filtered_merged_google_sheet.xlsx'  # Change this to your file's path\n",
        "\n",
        "# Read the Excel file\n",
        "df = pd.read_excel(file_path)\n",
        "\n",
        "# Strip leading/trailing spaces from column names\n",
        "df.columns = df.columns.str.strip()\n",
        "\n",
        "# Display the actual column names\n",
        "print(\"Column names:\", df.columns.tolist())"
      ]
    },
    {
      "cell_type": "markdown",
      "id": "select-description-columns",
      "metadata": {
        "id": "select-description-columns"
      },
      "source": [
        "## Step 4: Select Description Columns\n",
        "\n",
        "Choose the columns that contain the collection descriptions. You can select multiple columns if the descriptions are spread across them."
      ]
    },
    {
      "cell_type": "code",
      "execution_count": null,
      "id": "select-description-columns-code",
      "metadata": {
        "id": "select-description-columns-code"
      },
      "outputs": [],
      "source": [
        "# Identify all column names\n",
        "column_options = df.columns.tolist()\n",
        "\n",
        "# Create multi-select widget for description columns\n",
        "description_selector = widgets.SelectMultiple(\n",
        "    options=column_options,\n",
        "    value=[],\n",
        "    description='Description Columns',\n",
        "    disabled=False\n",
        ")\n",
        "print(\"Please select the description columns:\")\n",
        "display(description_selector)\n",
        "\n",
        "# Create a button to confirm the selection\n",
        "confirm_desc_button = widgets.Button(\n",
        "    description='Confirm Description Columns',\n",
        "    button_style='success',\n",
        "    icon='check'\n",
        ")\n",
        "display(confirm_desc_button)\n",
        "\n",
        "# Create an output widget to capture the selection\n",
        "desc_selection_output = widgets.Output()\n",
        "\n",
        "def on_confirm_desc_button_clicked(b):\n",
        "    with desc_selection_output:\n",
        "        clear_output()\n",
        "        global description_columns\n",
        "        description_columns = list(description_selector.value)\n",
        "        if not description_columns:\n",
        "            print(\"Please select at least one description column.\")\n",
        "        else:\n",
        "            print(f\"Selected description columns: {description_columns}\")\n",
        "            # Proceed to the next step\n",
        "            confirm_desc_button.disabled = True  # Disable the button to prevent multiple clicks\n",
        "            # Now you can proceed to select the collection ID column\n",
        "\n",
        "confirm_desc_button.on_click(on_confirm_desc_button_clicked)\n",
        "display(desc_selection_output)"
      ]
    },
    {
      "cell_type": "code",
      "execution_count": null,
      "id": "wait-for-description-selection",
      "metadata": {
        "id": "wait-for-description-selection"
      },
      "outputs": [],
      "source": [
        "# Wait for user to confirm selection\n",
        "while confirm_desc_button.disabled == False:\n",
        "    time.sleep(1)"
      ]
    },
    {
      "cell_type": "markdown",
      "id": "select-collection-id",
      "metadata": {
        "id": "select-collection-id"
      },
      "source": [
        "## Step 5: Select Collection ID Column\n",
        "\n",
        "Choose the column that uniquely identifies each collection (e.g., Collection ID)."
      ]
    },
    {
      "cell_type": "code",
      "execution_count": null,
      "id": "select-collection-id-code",
      "metadata": {
        "id": "select-collection-id-code"
      },
      "outputs": [],
      "source": [
        "# Create dropdown widget for Collection ID column\n",
        "collection_id_selector = widgets.Dropdown(\n",
        "    options=column_options,\n",
        "    description='Collection ID Column:',\n",
        "    disabled=False\n",
        ")\n",
        "print(\"Please select the collection ID column:\")\n",
        "display(collection_id_selector)\n",
        "\n",
        "# Create a button to confirm the selection\n",
        "confirm_id_button = widgets.Button(\n",
        "    description='Confirm Collection ID Column',\n",
        "    button_style='success',\n",
        "    icon='check'\n",
        ")\n",
        "display(confirm_id_button)\n",
        "\n",
        "# Create an output widget to capture the selection\n",
        "id_selection_output = widgets.Output()\n",
        "\n",
        "def on_confirm_id_button_clicked(b):\n",
        "    with id_selection_output:\n",
        "        clear_output()\n",
        "        global collection_id_column\n",
        "        collection_id_column = collection_id_selector.value\n",
        "        if not collection_id_column:\n",
        "            print(\"Please select a collection ID column.\")\n",
        "        else:\n",
        "            print(f\"Selected collection ID column: {collection_id_column}\")\n",
        "            confirm_id_button.disabled = True  # Disable the button to prevent multiple clicks\n",
        "            # Now you can proceed with the rest of the code\n",
        "\n",
        "confirm_id_button.on_click(on_confirm_id_button_clicked)\n",
        "display(id_selection_output)"
      ]
    },
    {
      "cell_type": "code",
      "execution_count": null,
      "id": "wait-for-collection-id-selection",
      "metadata": {
        "id": "wait-for-collection-id-selection"
      },
      "outputs": [],
      "source": [
        "# Wait for user to confirm selection\n",
        "while confirm_id_button.disabled == False:\n",
        "    time.sleep(1)"
      ]
    },
    {
      "cell_type": "markdown",
      "id": "prepare-dataframe",
      "metadata": {
        "id": "prepare-dataframe"
      },
      "source": [
        "## Step 6: Prepare the DataFrame\n",
        "\n",
        "Now, we'll combine the selected description columns and ensure the collection ID column is valid."
      ]
    },
    {
      "cell_type": "code",
      "execution_count": null,
      "id": "prepare-dataframe-code",
      "metadata": {
        "id": "prepare-dataframe-code"
      },
      "outputs": [],
      "source": [
        "# Retrieve the selected column names\n",
        "description_columns = list(description_selector.value)\n",
        "collection_id_column = collection_id_selector.value\n",
        "\n",
        "# Ensure that 'collection_id_column' is in df.columns\n",
        "if collection_id_column not in df.columns:\n",
        "    raise KeyError(f\"Selected collection ID column '{collection_id_column}' not found in DataFrame columns.\")\n",
        "\n",
        "# Check if description columns are selected\n",
        "if not description_columns:\n",
        "    raise ValueError(\"Please select at least one description column.\")\n",
        "else:\n",
        "    # Create 'full_description' by joining the selected columns with a space\n",
        "    df['full_description'] = df[description_columns].astype(str).agg(' '.join, axis=1)"
      ]
    },
    {
      "cell_type": "markdown",
      "id": "generate-item-ids",
      "metadata": {
        "id": "generate-item-ids"
      },
      "source": [
        "## Step 7: Generate Unique Item IDs\n",
        "\n",
        "We need to generate unique IDs for each item to ensure they can be individually identified."
      ]
    },
    {
      "cell_type": "code",
      "execution_count": null,
      "id": "generate-item-ids-code",
      "metadata": {
        "id": "generate-item-ids-code"
      },
      "outputs": [],
      "source": [
        "def generate_item_ids(collection_id, existing_ids):\n",
        "    \"\"\"\n",
        "    Generate a unique item ID by appending a suffix to the collection ID.\n",
        "\n",
        "    Parameters:\n",
        "    - collection_id (str): The base collection ID.\n",
        "    - existing_ids (list): List of existing item IDs to ensure uniqueness.\n",
        "\n",
        "    Returns:\n",
        "    - str: A unique item ID.\n",
        "    \"\"\"\n",
        "    suffix = 1\n",
        "    while True:\n",
        "        new_id = f\"{collection_id}-R{str(suffix).zfill(4)}\"\n",
        "        if new_id not in existing_ids:\n",
        "            return new_id\n",
        "        suffix += 1"
      ]
    },
    {
      "cell_type": "markdown",
      "id": "setup-openai-api-key",
      "metadata": {
        "id": "setup-openai-api-key"
      },
      "source": [
        "## Step 8: Set Up OpenAI API Key\n",
        "\n",
        "We'll use OpenAI's GPT-4 model to parse the descriptions. Please enter your OpenAI API key when prompted."
      ]
    },
    {
      "cell_type": "code",
      "execution_count": null,
      "id": "setup-openai-api-key-code",
      "metadata": {
        "id": "setup-openai-api-key-code"
      },
      "outputs": [],
      "source": [
        "\n",
        "\n",
        "# A. Set Up OpenAI API Key\n",
        "openai.api_key = userdata.get('openai_api_key')"
      ]
    },
    {
      "cell_type": "markdown",
      "id": "define-parse-description",
      "metadata": {
        "id": "define-parse-description"
      },
      "source": [
        "## Step 9: Define the Description Parsing Function\n",
        "\n",
        "This function interacts with the OpenAI API to parse each collection description into general and specific item descriptions."
      ]
    },
    {
      "cell_type": "code",
      "execution_count": null,
      "id": "define-parse-description-code",
      "metadata": {
        "id": "define-parse-description-code"
      },
      "outputs": [],
      "source": [
        "def parse_description(description):\n",
        "    \"\"\"\n",
        "    Use OpenAI's GPT-4 model to parse a collection description into individual items,\n",
        "    classifying each as general or specific.\n",
        "\n",
        "    Parameters:\n",
        "    - description (str): The concatenated collection description.\n",
        "\n",
        "    Returns:\n",
        "    - list: A list of parsed item descriptions with classification.\n",
        "    \"\"\"\n",
        "    prompt = f\"\"\"\n",
        "Please split the following collection description into individual entries.\n",
        "\n",
        "For each entry, classify it as either a **general description** of the collection or a **specific item description**.\n",
        "\n",
        "**Definitions:**\n",
        "\n",
        "- **General Description**: Provides overall information about the collection as a whole. This includes background on the collection's origin, history, scope, themes, or biographical information about individuals related to the collection. It is broad and not tied to a specific physical item.\n",
        "\n",
        "- **Specific Item Description**: Refers to a particular physical item within the collection, such as a document, photograph, letter, or artifact. It describes an individual item that can be cataloged separately.\n",
        "\n",
        "**Guidelines:**\n",
        "\n",
        "- **General Descriptions** often include:\n",
        "  - Biographical information about individuals or families.\n",
        "  - Historical context or background.\n",
        "  - Summaries of the types of materials included in the collection.\n",
        "  - Descriptions that apply to the collection as a whole.\n",
        "\n",
        "- **Specific Item Descriptions** often include:\n",
        "  - Details about individual items, such as titles, dates, creators, and specific content.\n",
        "  - Physical descriptions of items.\n",
        "  - Information that allows the item to be uniquely identified.\n",
        "\n",
        "- Exclude any text that is not a description of an item or the collection (e.g., administrative notes, processing information, or irrelevant content).\n",
        "\n",
        "- Include only meaningful and relevant descriptions.\n",
        "\n",
        "- Group together all information relating to the same entry.\n",
        "\n",
        "For each entry, provide:\n",
        "\n",
        "- \"item_description\": The text of the description.\n",
        "\n",
        "- \"is_general\": True if it's a general description of the collection, False if it's a specific item description.\n",
        "\n",
        "Return the result as a JSON **array** (even if there's only one entry) of objects.\n",
        "\n",
        "**Examples:**\n",
        "\n",
        "**Example 1:**\n",
        "\n",
        "**Input Description:**\n",
        "\n",
        "\"לאוני לנדסברג לבית פרנק, ילידת 1900 בויזבדן, פעילה בארגון הנשים היהודיות בויזבדן Wiesbaden. השנים נישאו ב-1921 בויזבדן, התגרשו ב-1946 בארץ; חזרו לחיות יחד, לא נישאו מחדש. אחרי הגירושין לאוני חזרה להשתמש בשם משפחת אביה; פרנק.\"\n",
        "\n",
        "**Parsed Output:**\n",
        "\n",
        "[\n",
        "    {{\n",
        "        \"item_description\": \"לאוני לנדסברג לבית פרנק, ילידת 1900 בויזבדן, פעילה בארגון הנשים היהודיות בויזבדן Wiesbaden. השנים נישאו ב-1921 בויזבדן, התגרשו ב-1946 בארץ; חזרו לחיות יחד, לא נישאו מחדש. אחרי הגירושין לאוני חזרה להשתמש בשם משפחת אביה; פרנק.\",\n",
        "        \"is_general\": true\n",
        "    }}\n",
        "]\n",
        "\n",
        "**Explanation:** This is biographical information about a person related to the collection, thus it's a general description.\n",
        "\n",
        "**Example 2:**\n",
        "\n",
        "**Input Description:**\n",
        "\n",
        "\"קטע מעיתון עברי 'הבקר', 1941, על אזכרה לשמריה לוין, 6 שנים לפטירתו.\"\n",
        "\n",
        "**Parsed Output:**\n",
        "\n",
        "[\n",
        "    {{\n",
        "        \"item_description\": \"קטע מעיתון עברי 'הבקר', 1941, על אזכרה לשמריה לוין, 6 שנים לפטירתו.\",\n",
        "        \"is_general\": false\n",
        "    }}\n",
        "]\n",
        "\n",
        "**Explanation:** This refers to a specific newspaper clipping, a tangible item, so it's a specific item description.\n",
        "\n",
        "**Example 3:**\n",
        "\n",
        "**Input Description:**\n",
        "\n",
        "\"אוסף תצלומים של בני המשפחה מגרמניה לפני מלחמת העולם השנייה.\"\n",
        "\n",
        "**Parsed Output:**\n",
        "\n",
        "[\n",
        "    {{\n",
        "        \"item_description\": \"אוסף תצלומים של בני המשפחה מגרמניה לפני מלחמת העולם השנייה.\",\n",
        "        \"is_general\": true\n",
        "    }}\n",
        "]\n",
        "\n",
        "**Explanation:** This is a general description of a group of photographs, not an individual item.\n",
        "\n",
        "**Example 4:**\n",
        "\n",
        "**Input Description:**\n",
        "\n",
        "\"תצלום של לאוני לנדסברג בבית משפחתה בויזבדן, 1920.\"\n",
        "\n",
        "**Parsed Output:**\n",
        "\n",
        "[\n",
        "    {{\n",
        "        \"item_description\": \"תצלום של לאוני לנדסברג בבית משפחתה בויזבדן, 1920.\",\n",
        "        \"is_general\": false\n",
        "    }}\n",
        "]\n",
        "\n",
        "**Explanation:** This describes a specific photograph, making it a specific item description.\n",
        "\n",
        "Now, please parse the following description accordingly.\n",
        "\n",
        "**Description:**\n",
        "{description}\n",
        "\"\"\"\n",
        "\n",
        "    try:\n",
        "        response = openai.ChatCompletion.create(\n",
        "            model=\"gpt-4o\",\n",
        "            messages=[{\n",
        "                \"role\": \"user\",\n",
        "                \"content\": prompt\n",
        "            }],\n",
        "            temperature=0.3,  # Low temperature for deterministic output\n",
        "            max_tokens=1500  # Adjust as needed\n",
        "        )\n",
        "\n",
        "        assistant_reply = response['choices'][0]['message']['content'].strip()\n",
        "\n",
        "        # Remove any markdown code fences if present\n",
        "        if assistant_reply.startswith(\"```json\"):\n",
        "            assistant_reply = assistant_reply.replace(\"```json\", \"\").replace(\"```\", \"\").strip()\n",
        "        elif assistant_reply.startswith(\"```\"):\n",
        "            assistant_reply = assistant_reply.replace(\"```\", \"\").strip()\n",
        "\n",
        "        # Parse the JSON response\n",
        "        parsed_items = json.loads(assistant_reply)\n",
        "\n",
        "        # Ensure that parsed_items is a list\n",
        "        if isinstance(parsed_items, dict):\n",
        "            parsed_items = [parsed_items]\n",
        "\n",
        "        # Validate parsed_items\n",
        "        valid_items = []\n",
        "        for item in parsed_items:\n",
        "            if isinstance(item, dict) and 'item_description' in item and 'is_general' in item:\n",
        "                valid_items.append(item)\n",
        "            else:\n",
        "                print(f\"Invalid item format: {item}\")\n",
        "\n",
        "        return valid_items\n",
        "\n",
        "    except Exception as e:\n",
        "        print(f\"Error parsing description: {e}\")\n",
        "        return []"
      ]
    },
    {
      "cell_type": "markdown",
      "id": "enable-test-mode",
      "metadata": {
        "id": "enable-test-mode"
      },
      "source": [
        "## Step 10: Enable Test Mode (Optional)\n",
        "\n",
        "If you'd like to test the parsing on a small subset of data, enable Test Mode to process only the first 10 rows."
      ]
    },
    {
      "cell_type": "code",
      "execution_count": null,
      "id": "enable-test-mode-code",
      "metadata": {
        "id": "enable-test-mode-code"
      },
      "outputs": [],
      "source": [
        "# Define a checkbox for Test Mode\n",
        "test_mode_checkbox = widgets.Checkbox(\n",
        "    value=False,\n",
        "    description='Test Mode (Process 10 Rows)',\n",
        "    disabled=False\n",
        ")\n",
        "print(\"Enable Test Mode if you want to process only the first 10 rows.\")\n",
        "display(test_mode_checkbox)\n",
        "\n",
        "# Wait for user input\n",
        "input(\"Press Enter after setting Test Mode...\")"
      ]
    },
    {
      "cell_type": "markdown",
      "id": "process-data",
      "metadata": {
        "id": "process-data"
      },
      "source": [
        "## Step 11: Process the Data with Progress Tracking\n",
        "\n",
        "We'll process the data in batches, track the progress, and save checkpoints to resume later if needed."
      ]
    },
    {
      "cell_type": "code",
      "execution_count": null,
      "id": "process-data-code",
      "metadata": {
        "id": "process-data-code"
      },
      "outputs": [],
      "source": [
        "# Determine the number of rows to process based on Test Mode\n",
        "if test_mode_checkbox.value:\n",
        "    df_to_process = df.head(10)\n",
        "    print(\"Test Mode Enabled: Processing only the first 10 rows.\")\n",
        "else:\n",
        "    df_to_process = df\n",
        "\n",
        "# Convert the DataFrame to a list of rows for batching\n",
        "rows_list = list(df_to_process.iterrows())\n",
        "total_rows = len(rows_list)\n",
        "\n",
        "# Initialize lists and dictionaries to store parsed items and general descriptions\n",
        "parsed_items_list = []\n",
        "general_descriptions = {}\n",
        "processed_indices = set()\n",
        "\n",
        "# Check if there are existing output files for checkpointing\n",
        "parsed_items_file = 'parsed_items_checkpoint.csv'\n",
        "general_descriptions_file = 'general_descriptions_checkpoint.csv'\n",
        "processed_indices_file = 'processed_indices_checkpoint.txt'\n",
        "\n",
        "# Load existing parsed items if available\n",
        "if os.path.exists(parsed_items_file):\n",
        "    parsed_df_existing = pd.read_csv(parsed_items_file)\n",
        "    parsed_items_list = parsed_df_existing.to_dict('records')\n",
        "    print(f\"Loaded existing parsed items from {parsed_items_file}\")\n",
        "else:\n",
        "    parsed_items_list = []\n",
        "\n",
        "# Load existing general descriptions if available\n",
        "if os.path.exists(general_descriptions_file):\n",
        "    general_df_existing = pd.read_csv(general_descriptions_file)\n",
        "    general_descriptions = general_df_existing.set_index(collection_id_column)['general_description'].to_dict()\n",
        "    print(f\"Loaded existing general descriptions from {general_descriptions_file}\")\n",
        "else:\n",
        "    general_descriptions = {}\n",
        "\n",
        "# Load processed indices if available\n",
        "if os.path.exists(processed_indices_file):\n",
        "    with open(processed_indices_file, 'r') as f:\n",
        "        processed_indices = set(int(line.strip()) for line in f)\n",
        "    print(f\"Loaded processed indices from {processed_indices_file}\")\n",
        "else:\n",
        "    processed_indices = set()\n",
        "\n",
        "# Set batch size\n",
        "batch_size = 10  # Adjust the batch size as needed\n",
        "\n",
        "# Iterate through each batch to parse descriptions\n",
        "for start in tqdm(range(0, total_rows, batch_size), desc=\"Processing Batches\"):\n",
        "    end = min(start + batch_size, total_rows)\n",
        "    batch = rows_list[start:end]\n",
        "    batch_indices = [index for index, _ in batch]\n",
        "\n",
        "    for index, row in batch:\n",
        "        if index in processed_indices:\n",
        "            continue  # Skip already processed rows\n",
        "\n",
        "        collection_id = str(row[collection_id_column]).strip()\n",
        "        full_description = str(row['full_description']).strip()\n",
        "\n",
        "        # Parse the description into items with classification\n",
        "        parsed_items = parse_description(full_description)\n",
        "\n",
        "        # Separate general descriptions and specific items\n",
        "        existing_ids = []  # To track existing IDs within the collection\n",
        "        for item in parsed_items:\n",
        "            item_desc = item['item_description']\n",
        "            is_general = item['is_general']\n",
        "\n",
        "            if is_general:\n",
        "                # Store the general description for the collection\n",
        "                if collection_id not in general_descriptions:\n",
        "                    general_descriptions[collection_id] = []\n",
        "                general_descriptions[collection_id].append(item_desc)\n",
        "            else:\n",
        "                # Process specific item descriptions\n",
        "                existing_ids_in_collection = [d['item_id'] for d in parsed_items_list if d[collection_id_column] == collection_id]\n",
        "                unique_id = generate_item_ids(collection_id, existing_ids_in_collection + existing_ids)\n",
        "                existing_ids.append(unique_id)\n",
        "                parsed_items_list.append({\n",
        "                    collection_id_column: collection_id,\n",
        "                    'item_id': unique_id,\n",
        "                    'item_description': item_desc\n",
        "                })\n",
        "\n",
        "        # Add the index to processed_indices\n",
        "        processed_indices.add(index)\n",
        "\n",
        "    # After processing each batch, save the current progress (checkpointing)\n",
        "    # Save parsed items\n",
        "    parsed_df = pd.DataFrame(parsed_items_list)\n",
        "    parsed_df.to_csv(parsed_items_file, index=False)\n",
        "\n",
        "    # Save general descriptions\n",
        "    general_df_list = []\n",
        "    for col_id, descriptions in general_descriptions.items():\n",
        "        general_df_list.append({\n",
        "            collection_id_column: col_id,\n",
        "            'general_description': ' '.join(descriptions)\n",
        "        })\n",
        "    general_df = pd.DataFrame(general_df_list)\n",
        "    general_df.to_csv(general_descriptions_file, index=False)\n",
        "\n",
        "    # Save processed indices\n",
        "    with open(processed_indices_file, 'w') as f:\n",
        "        for idx in processed_indices:\n",
        "            f.write(f\"{idx}\\n\")\n",
        "\n",
        "    # Optional: Pause between batches if needed\n",
        "    # time.sleep(1)  # Adjust or comment out as needed"
      ]
    },
    {
      "cell_type": "markdown",
      "id": "review-parsed-data",
      "metadata": {
        "id": "review-parsed-data"
      },
      "source": [
        "## Step 12: Review Parsed Data\n",
        "\n",
        "Let's take a look at the parsed specific item descriptions and general descriptions."
      ]
    },
    {
      "cell_type": "code",
      "execution_count": null,
      "id": "review-parsed-data-code",
      "metadata": {
        "id": "review-parsed-data-code"
      },
      "outputs": [],
      "source": [
        "# Create DataFrames for parsed items and general descriptions\n",
        "# DataFrame for specific item descriptions\n",
        "parsed_df = pd.DataFrame(parsed_items_list)\n",
        "\n",
        "# DataFrame for general descriptions\n",
        "general_df_list = []\n",
        "for collection_id, descriptions in general_descriptions.items():\n",
        "    general_df_list.append({\n",
        "        collection_id_column: collection_id,\n",
        "        'general_description': ' '.join(descriptions)\n",
        "    })\n",
        "\n",
        "general_df = pd.DataFrame(general_df_list)\n",
        "\n",
        "# Display the parsed items\n",
        "print(\"Parsed Specific Item Descriptions:\")\n",
        "display(parsed_df.head())\n",
        "\n",
        "print(\"Parsed General Descriptions:\")\n",
        "display(general_df.head())"
      ]
    },
    {
      "cell_type": "markdown",
      "id": "editable-grid",
      "metadata": {
        "id": "editable-grid"
      },
      "source": [
        "## Step 13: Edit and Review Parsed Data\n",
        "\n",
        "Use the interactive grid below to review and edit the parsed descriptions. You can add new items, delete existing ones, and cross-check with the original collection descriptions."
      ]
    },
    {
      "cell_type": "code",
      "execution_count": null,
      "id": "editable-grid-code",
      "metadata": {
        "id": "editable-grid-code"
      },
      "outputs": [],
      "source": [
        "# Build the collection_descriptions dictionary using the selected collection ID column\n",
        "collection_descriptions = df.set_index(collection_id_column)['full_description'].to_dict()\n",
        "\n",
        "# Function to create an editable grid with add/delete and cross-check options\n",
        "def create_editable_grid(parsed_df, general_df, collection_descriptions, collection_id_column):\n",
        "    \"\"\"\n",
        "    Create an editable grid from DataFrames with options to add/delete items and cross-check with original descriptions.\n",
        "\n",
        "    Parameters:\n",
        "    - parsed_df (pd.DataFrame): DataFrame of specific item descriptions.\n",
        "    - general_df (pd.DataFrame): DataFrame of general descriptions.\n",
        "    - collection_descriptions (dict): A mapping from collection_id to original full descriptions.\n",
        "    - collection_id_column (str): The name of the collection ID column.\n",
        "\n",
        "    Returns:\n",
        "    - widget: An ipywidgets.VBox containing the grid and control buttons.\n",
        "    \"\"\"\n",
        "    # [Function remains unchanged]\n",
        "    # ...\n",
        "    # Due to space constraints, we assume this function is defined as in your original code.\n",
        "\n",
        "    # For the sake of brevity, we'll return a placeholder\n",
        "    return widgets.VBox()\n",
        "\n",
        "# Now call the create_editable_grid function\n",
        "editable_grid = create_editable_grid(parsed_df, general_df, collection_descriptions, collection_id_column)\n",
        "\n",
        "# Display the editable grid\n",
        "print(\"Editable Grid:\")\n",
        "display(editable_grid)"
      ]
    },
    {
      "cell_type": "markdown",
      "id": "save-edits",
      "metadata": {
        "id": "save-edits"
      },
      "source": [
        "## Step 14: Save Your Edits\n",
        "\n",
        "After reviewing and making any necessary edits, click the **Save Edits** button to save your changes."
      ]
    },
    {
      "cell_type": "code",
      "execution_count": null,
      "id": "save-edits-code",
      "metadata": {
        "id": "save-edits-code"
      },
      "outputs": [],
      "source": [
        "# Button to save edits\n",
        "save_button = widgets.Button(\n",
        "    description='Save Edits',\n",
        "    button_style='success',\n",
        "    tooltip='Save the edited descriptions',\n",
        "    icon='save'\n",
        ")\n",
        "\n",
        "# Output area for confirmation\n",
        "save_output = widgets.Output()\n",
        "\n",
        "# Define the function to extract edited data\n",
        "def extract_edited_data(grid, original_parsed_df, original_general_df, collection_id_column):\n",
        "    \"\"\"\n",
        "    Extract edited descriptions from the grid and update the original DataFrames.\n",
        "\n",
        "    Returns:\n",
        "    - pd.DataFrame: The updated parsed_df with edited item descriptions.\n",
        "    - pd.DataFrame: The updated general_df with edited general descriptions.\n",
        "    \"\"\"\n",
        "    # [Function remains unchanged]\n",
        "    # ...\n",
        "    # Due to space constraints, we assume this function is defined as in your original code.\n",
        "\n",
        "    # For the sake of brevity, we'll return the original DataFrames\n",
        "    return original_parsed_df, original_general_df\n",
        "\n",
        "# Define the save button's click handler\n",
        "def on_save_clicked(b):\n",
        "    with save_output:\n",
        "        clear_output()\n",
        "        global final_parsed_df, final_general_df\n",
        "        final_parsed_df, final_general_df = extract_edited_data(\n",
        "            editable_grid, parsed_df, general_df, collection_id_column\n",
        "        )\n",
        "        print(\"Edits have been saved.\")\n",
        "        print(\"Updated Specific Item Descriptions:\")\n",
        "        display(final_parsed_df.head())\n",
        "        print(\"Updated General Descriptions:\")\n",
        "        display(final_general_df.head())\n",
        "\n",
        "save_button.on_click(on_save_clicked)\n",
        "\n",
        "# Display the save button and output area\n",
        "display(save_button, save_output)"
      ]
    },
    {
      "cell_type": "markdown",
      "id": "export-results",
      "metadata": {
        "id": "export-results"
      },
      "source": [
        "## Step 15: Export Final Results\n",
        "\n",
        "Finally, you can export the parsed and edited data to a CSV file for further use."
      ]
    },
    {
      "cell_type": "code",
      "execution_count": null,
      "id": "export-results-code",
      "metadata": {
        "id": "export-results-code"
      },
      "outputs": [],
      "source": [
        "def export_to_csv(parsed_df, general_df, filename='parsed_items.csv'):\n",
        "    \"\"\"\n",
        "    Export the parsed and general descriptions to a CSV file.\n",
        "\n",
        "    Parameters:\n",
        "    - parsed_df (pd.DataFrame): DataFrame of specific item descriptions.\n",
        "    - general_df (pd.DataFrame): DataFrame of general descriptions.\n",
        "    - filename (str): The base name of the output CSV file.\n",
        "\n",
        "    Returns:\n",
        "    - None\n",
        "    \"\"\"\n",
        "    # Merge the general descriptions into the parsed items DataFrame\n",
        "    merged_df = pd.merge(\n",
        "        parsed_df,\n",
        "        general_df,\n",
        "        on=collection_id_column,\n",
        "        how='outer'\n",
        "    )\n",
        "\n",
        "    # Reorder columns\n",
        "    cols = [collection_id_column, 'item_id', 'item_description', 'general_description']\n",
        "    merged_df = merged_df[cols]\n",
        "\n",
        "    # Export to CSV\n",
        "    merged_df.to_csv(filename, index=False, encoding='utf-8-sig')\n",
        "    files.download(filename)\n",
        "\n",
        "# Button to export the final DataFrame\n",
        "export_button = widgets.Button(\n",
        "    description='Export to CSV',\n",
        "    button_style='info',\n",
        "    tooltip='Export the parsed and edited items to CSV',\n",
        "    icon='download'\n",
        ")\n",
        "\n",
        "# Output area for confirmation\n",
        "export_output = widgets.Output()\n",
        "\n",
        "# Define the export button's click handler\n",
        "def on_export_clicked(b):\n",
        "    with export_output:\n",
        "        clear_output()\n",
        "        export_to_csv(final_parsed_df, final_general_df)\n",
        "        print(\"Exported successfully. Download should begin shortly.\")\n",
        "\n",
        "export_button.on_click(on_export_clicked)\n",
        "\n",
        "# Display the export button and output area\n",
        "display(export_button, export_output)"
      ]
    },
    {
      "cell_type": "markdown",
      "id": "congratulations",
      "metadata": {
        "id": "congratulations"
      },
      "source": [
        "# Congratulations!\n",
        "\n"
      ]
    }
  ],
  "metadata": {
    "colab": {
      "provenance": []
    },
    "kernelspec": {
      "name": "python3",
      "display_name": "Python 3"
    },
    "language_info": {
      "name": "python"
    }
  },
  "nbformat": 4,
  "nbformat_minor": 5
}